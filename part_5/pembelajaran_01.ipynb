{
 "metadata": {
  "language_info": {
   "codemirror_mode": {
    "name": "ipython",
    "version": 3
   },
   "file_extension": ".py",
   "mimetype": "text/x-python",
   "name": "python",
   "nbconvert_exporter": "python",
   "pygments_lexer": "ipython3",
   "version": "3.8.3-final"
  },
  "orig_nbformat": 2,
  "kernelspec": {
   "name": "python3",
   "display_name": "Python 3"
  }
 },
 "nbformat": 4,
 "nbformat_minor": 2,
 "cells": [
  {
   "cell_type": "code",
   "execution_count": 46,
   "metadata": {},
   "outputs": [],
   "source": [
    "import numpy as np\n",
    "import pandas as pd\n"
   ]
  },
  {
   "cell_type": "code",
   "execution_count": 3,
   "metadata": {},
   "outputs": [
    {
     "output_type": "execute_result",
     "data": {
      "text/plain": [
       "0    0.25\n",
       "1    0.50\n",
       "2    0.75\n",
       "3    1.00\n",
       "dtype: float64"
      ]
     },
     "metadata": {},
     "execution_count": 3
    }
   ],
   "source": [
    "# series\n",
    "\n",
    "data = [0.25,0.5,0.75,1.0]\n",
    "data_series = pd.Series(data)\n",
    "data_series"
   ]
  },
  {
   "cell_type": "code",
   "execution_count": 4,
   "metadata": {},
   "outputs": [
    {
     "output_type": "execute_result",
     "data": {
      "text/plain": [
       "array([0.25, 0.5 , 0.75, 1.  ])"
      ]
     },
     "metadata": {},
     "execution_count": 4
    }
   ],
   "source": [
    "data_series.values"
   ]
  },
  {
   "cell_type": "code",
   "execution_count": 5,
   "metadata": {},
   "outputs": [
    {
     "output_type": "execute_result",
     "data": {
      "text/plain": [
       "RangeIndex(start=0, stop=4, step=1)"
      ]
     },
     "metadata": {},
     "execution_count": 5
    }
   ],
   "source": [
    "data_series.index"
   ]
  },
  {
   "cell_type": "code",
   "execution_count": 6,
   "metadata": {},
   "outputs": [
    {
     "output_type": "execute_result",
     "data": {
      "text/plain": [
       "a    0.25\n",
       "b    0.50\n",
       "c    0.75\n",
       "d    1.00\n",
       "dtype: float64"
      ]
     },
     "metadata": {},
     "execution_count": 6
    }
   ],
   "source": [
    "data_series = pd.Series(data,index=['a','b','c','d'])\n",
    "data_series"
   ]
  },
  {
   "cell_type": "code",
   "execution_count": 7,
   "metadata": {},
   "outputs": [
    {
     "output_type": "execute_result",
     "data": {
      "text/plain": [
       "andi      173.0\n",
       "budi      168.2\n",
       "carlie    181.0\n",
       "Didi      156.9\n",
       "Erik      166.2\n",
       "dtype: float64"
      ]
     },
     "metadata": {},
     "execution_count": 7
    }
   ],
   "source": [
    "tinggi = {'andi':173,'budi':168.2,'carlie':181.0,'Didi':156.9,'Erik':166.2}\n",
    "biodata_tinggi = pd.Series(tinggi)\n",
    "biodata_tinggi"
   ]
  },
  {
   "cell_type": "code",
   "execution_count": 8,
   "metadata": {},
   "outputs": [
    {
     "output_type": "execute_result",
     "data": {
      "text/plain": [
       "        tinggi\n",
       "Didi     156.9\n",
       "Erik     166.2\n",
       "andi     173.0\n",
       "budi     168.2\n",
       "carlie   181.0"
      ],
      "text/html": "<div>\n<style scoped>\n    .dataframe tbody tr th:only-of-type {\n        vertical-align: middle;\n    }\n\n    .dataframe tbody tr th {\n        vertical-align: top;\n    }\n\n    .dataframe thead th {\n        text-align: right;\n    }\n</style>\n<table border=\"1\" class=\"dataframe\">\n  <thead>\n    <tr style=\"text-align: right;\">\n      <th></th>\n      <th>tinggi</th>\n    </tr>\n  </thead>\n  <tbody>\n    <tr>\n      <th>Didi</th>\n      <td>156.9</td>\n    </tr>\n    <tr>\n      <th>Erik</th>\n      <td>166.2</td>\n    </tr>\n    <tr>\n      <th>andi</th>\n      <td>173.0</td>\n    </tr>\n    <tr>\n      <th>budi</th>\n      <td>168.2</td>\n    </tr>\n    <tr>\n      <th>carlie</th>\n      <td>181.0</td>\n    </tr>\n  </tbody>\n</table>\n</div>"
     },
     "metadata": {},
     "execution_count": 8
    }
   ],
   "source": [
    "# dataframe\n",
    "df_sample = pd.DataFrame({'tinggi':tinggi})\n",
    "df_sample"
   ]
  },
  {
   "cell_type": "code",
   "execution_count": 9,
   "metadata": {},
   "outputs": [
    {
     "output_type": "execute_result",
     "data": {
      "text/plain": [
       "andi      65.8\n",
       "budi      68.2\n",
       "carlie    81.0\n",
       "Didi      56.9\n",
       "Erik      66.2\n",
       "Fahmi     65.2\n",
       "dtype: float64"
      ]
     },
     "metadata": {},
     "execution_count": 9
    }
   ],
   "source": [
    "berat = {'andi':65.8,'budi':68.2,'carlie':81.0,'Didi':56.9,'Erik':66.2,'Fahmi':65.2}\n",
    "biodata_berat = pd.Series(berat)\n",
    "biodata_berat"
   ]
  },
  {
   "cell_type": "code",
   "execution_count": 10,
   "metadata": {},
   "outputs": [
    {
     "output_type": "execute_result",
     "data": {
      "text/plain": [
       "        tinggi  berat\n",
       "andi     173.0   65.8\n",
       "budi     168.2   68.2\n",
       "carlie   181.0   81.0\n",
       "Didi     156.9   56.9\n",
       "Erik     166.2   66.2\n",
       "Fahmi      NaN   65.2"
      ],
      "text/html": "<div>\n<style scoped>\n    .dataframe tbody tr th:only-of-type {\n        vertical-align: middle;\n    }\n\n    .dataframe tbody tr th {\n        vertical-align: top;\n    }\n\n    .dataframe thead th {\n        text-align: right;\n    }\n</style>\n<table border=\"1\" class=\"dataframe\">\n  <thead>\n    <tr style=\"text-align: right;\">\n      <th></th>\n      <th>tinggi</th>\n      <th>berat</th>\n    </tr>\n  </thead>\n  <tbody>\n    <tr>\n      <th>andi</th>\n      <td>173.0</td>\n      <td>65.8</td>\n    </tr>\n    <tr>\n      <th>budi</th>\n      <td>168.2</td>\n      <td>68.2</td>\n    </tr>\n    <tr>\n      <th>carlie</th>\n      <td>181.0</td>\n      <td>81.0</td>\n    </tr>\n    <tr>\n      <th>Didi</th>\n      <td>156.9</td>\n      <td>56.9</td>\n    </tr>\n    <tr>\n      <th>Erik</th>\n      <td>166.2</td>\n      <td>66.2</td>\n    </tr>\n    <tr>\n      <th>Fahmi</th>\n      <td>NaN</td>\n      <td>65.2</td>\n    </tr>\n  </tbody>\n</table>\n</div>"
     },
     "metadata": {},
     "execution_count": 10
    }
   ],
   "source": [
    "df_sample = pd.DataFrame({'tinggi':tinggi,'berat':berat})\n",
    "df_sample"
   ]
  },
  {
   "cell_type": "code",
   "execution_count": 11,
   "metadata": {},
   "outputs": [
    {
     "output_type": "execute_result",
     "data": {
      "text/plain": [
       "173.0"
      ]
     },
     "metadata": {},
     "execution_count": 11
    }
   ],
   "source": [
    "df_sample['tinggi']['andi']"
   ]
  },
  {
   "cell_type": "code",
   "execution_count": 12,
   "metadata": {},
   "outputs": [
    {
     "output_type": "execute_result",
     "data": {
      "text/plain": [
       "0    0.25\n",
       "1    0.50\n",
       "2    0.75\n",
       "3    1.00\n",
       "dtype: float64"
      ]
     },
     "metadata": {},
     "execution_count": 12
    }
   ],
   "source": [
    "# Filtering dan selection\n",
    "data = [0.25,0.5,0.75,1.0]\n",
    "series_im = pd.Series(data)\n",
    "series_im"
   ]
  },
  {
   "cell_type": "code",
   "execution_count": 13,
   "metadata": {},
   "outputs": [
    {
     "output_type": "execute_result",
     "data": {
      "text/plain": [
       "0.5"
      ]
     },
     "metadata": {},
     "execution_count": 13
    }
   ],
   "source": [
    "data = [0.25,0.5,0.75,1.0]\n",
    "series_ex = pd.Series(data, index=['a','b','c','d'])\n",
    "series_ex\n",
    "series_ex[1] # index implisit"
   ]
  },
  {
   "cell_type": "code",
   "execution_count": 14,
   "metadata": {},
   "outputs": [
    {
     "output_type": "execute_result",
     "data": {
      "text/plain": [
       "1    0.25\n",
       "3    0.50\n",
       "2    0.75\n",
       "4    1.00\n",
       "dtype: float64"
      ]
     },
     "metadata": {},
     "execution_count": 14
    }
   ],
   "source": [
    "data = [0.25,0.5,0.75,1.0]\n",
    "series_ex2 = pd.Series(data, index=[1,3,2,4])\n",
    "series_ex2"
   ]
  },
  {
   "cell_type": "code",
   "execution_count": 15,
   "metadata": {},
   "outputs": [
    {
     "output_type": "execute_result",
     "data": {
      "text/plain": [
       "1    0.25\n",
       "3    0.50\n",
       "dtype: float64"
      ]
     },
     "metadata": {},
     "execution_count": 15
    }
   ],
   "source": [
    "# loc & iloc\n",
    "series_ex2.loc[1:3]"
   ]
  },
  {
   "cell_type": "code",
   "execution_count": 16,
   "metadata": {},
   "outputs": [
    {
     "output_type": "execute_result",
     "data": {
      "text/plain": [
       "1    0.25\n",
       "3    0.50\n",
       "2    0.75\n",
       "dtype: float64"
      ]
     },
     "metadata": {},
     "execution_count": 16
    }
   ],
   "source": [
    "series_ex2.iloc[0:3]"
   ]
  },
  {
   "cell_type": "code",
   "execution_count": 17,
   "metadata": {},
   "outputs": [
    {
     "output_type": "execute_result",
     "data": {
      "text/plain": [
       "1    0.25\n",
       "3    0.50\n",
       "2    0.75\n",
       "dtype: float64"
      ]
     },
     "metadata": {},
     "execution_count": 17
    }
   ],
   "source": [
    "series_ex2.iloc[0:3]"
   ]
  },
  {
   "cell_type": "code",
   "execution_count": 22,
   "metadata": {},
   "outputs": [],
   "source": [
    "df_csv = pd.read_csv('https://raw.githubusercontent.com/ardhiraka/PFDS_sources/master/nbaallelo.csv')\n"
   ]
  },
  {
   "cell_type": "code",
   "execution_count": 24,
   "metadata": {},
   "outputs": [
    {
     "output_type": "execute_result",
     "data": {
      "text/plain": [
       "   gameorder       game_id lg_id  _iscopy  year_id  date_game  seasongame  \\\n",
       "0          1  194611010TRH   NBA        0     1947  11/1/1946           1   \n",
       "1          1  194611010TRH   NBA        1     1947  11/1/1946           1   \n",
       "2          2  194611020CHS   NBA        0     1947  11/2/1946           1   \n",
       "3          2  194611020CHS   NBA        1     1947  11/2/1946           2   \n",
       "4          3  194611020DTF   NBA        0     1947  11/2/1946           1   \n",
       "5          3  194611020DTF   NBA        1     1947  11/2/1946           1   \n",
       "6          4  194611020PRO   NBA        1     1947  11/2/1946           1   \n",
       "7          4  194611020PRO   NBA        0     1947  11/2/1946           1   \n",
       "8          5  194611020STB   NBA        1     1947  11/2/1946           1   \n",
       "9          5  194611020STB   NBA        0     1947  11/2/1946           1   \n",
       "\n",
       "   is_playoffs team_id       fran_id  ...  win_equiv  opp_id      opp_fran  \\\n",
       "0            0     TRH       Huskies  ...  40.294830     NYK        Knicks   \n",
       "1            0     NYK        Knicks  ...  41.705170     TRH       Huskies   \n",
       "2            0     CHS         Stags  ...  42.012257     NYK        Knicks   \n",
       "3            0     NYK        Knicks  ...  40.692783     CHS         Stags   \n",
       "4            0     DTF       Falcons  ...  38.864048     WSC      Capitols   \n",
       "5            0     WSC      Capitols  ...  43.135952     DTF       Falcons   \n",
       "6            0     BOS       Celtics  ...  40.459381     PRO  Steamrollers   \n",
       "7            0     PRO  Steamrollers  ...  41.540619     BOS       Celtics   \n",
       "8            0     PIT       Ironmen  ...  40.507980     STB       Bombers   \n",
       "9            0     STB       Bombers  ...  41.492020     PIT       Ironmen   \n",
       "\n",
       "   opp_pts  opp_elo_i  opp_elo_n  game_location  game_result  forecast notes  \n",
       "0       68  1300.0000  1306.7233              H            L  0.640065   NaN  \n",
       "1       66  1300.0000  1293.2767              A            W  0.359935   NaN  \n",
       "2       47  1306.7233  1297.0712              H            W  0.631101   NaN  \n",
       "3       63  1300.0000  1309.6521              A            L  0.368899   NaN  \n",
       "4       50  1300.0000  1320.3811              H            L  0.640065   NaN  \n",
       "5       33  1300.0000  1279.6189              A            W  0.359935   NaN  \n",
       "6       59  1300.0000  1305.1542              A            L  0.359935   NaN  \n",
       "7       53  1300.0000  1294.8458              H            W  0.640065   NaN  \n",
       "8       56  1300.0000  1304.6908              A            L  0.359935   NaN  \n",
       "9       51  1300.0000  1295.3092              H            W  0.640065   NaN  \n",
       "\n",
       "[10 rows x 23 columns]"
      ],
      "text/html": "<div>\n<style scoped>\n    .dataframe tbody tr th:only-of-type {\n        vertical-align: middle;\n    }\n\n    .dataframe tbody tr th {\n        vertical-align: top;\n    }\n\n    .dataframe thead th {\n        text-align: right;\n    }\n</style>\n<table border=\"1\" class=\"dataframe\">\n  <thead>\n    <tr style=\"text-align: right;\">\n      <th></th>\n      <th>gameorder</th>\n      <th>game_id</th>\n      <th>lg_id</th>\n      <th>_iscopy</th>\n      <th>year_id</th>\n      <th>date_game</th>\n      <th>seasongame</th>\n      <th>is_playoffs</th>\n      <th>team_id</th>\n      <th>fran_id</th>\n      <th>...</th>\n      <th>win_equiv</th>\n      <th>opp_id</th>\n      <th>opp_fran</th>\n      <th>opp_pts</th>\n      <th>opp_elo_i</th>\n      <th>opp_elo_n</th>\n      <th>game_location</th>\n      <th>game_result</th>\n      <th>forecast</th>\n      <th>notes</th>\n    </tr>\n  </thead>\n  <tbody>\n    <tr>\n      <th>0</th>\n      <td>1</td>\n      <td>194611010TRH</td>\n      <td>NBA</td>\n      <td>0</td>\n      <td>1947</td>\n      <td>11/1/1946</td>\n      <td>1</td>\n      <td>0</td>\n      <td>TRH</td>\n      <td>Huskies</td>\n      <td>...</td>\n      <td>40.294830</td>\n      <td>NYK</td>\n      <td>Knicks</td>\n      <td>68</td>\n      <td>1300.0000</td>\n      <td>1306.7233</td>\n      <td>H</td>\n      <td>L</td>\n      <td>0.640065</td>\n      <td>NaN</td>\n    </tr>\n    <tr>\n      <th>1</th>\n      <td>1</td>\n      <td>194611010TRH</td>\n      <td>NBA</td>\n      <td>1</td>\n      <td>1947</td>\n      <td>11/1/1946</td>\n      <td>1</td>\n      <td>0</td>\n      <td>NYK</td>\n      <td>Knicks</td>\n      <td>...</td>\n      <td>41.705170</td>\n      <td>TRH</td>\n      <td>Huskies</td>\n      <td>66</td>\n      <td>1300.0000</td>\n      <td>1293.2767</td>\n      <td>A</td>\n      <td>W</td>\n      <td>0.359935</td>\n      <td>NaN</td>\n    </tr>\n    <tr>\n      <th>2</th>\n      <td>2</td>\n      <td>194611020CHS</td>\n      <td>NBA</td>\n      <td>0</td>\n      <td>1947</td>\n      <td>11/2/1946</td>\n      <td>1</td>\n      <td>0</td>\n      <td>CHS</td>\n      <td>Stags</td>\n      <td>...</td>\n      <td>42.012257</td>\n      <td>NYK</td>\n      <td>Knicks</td>\n      <td>47</td>\n      <td>1306.7233</td>\n      <td>1297.0712</td>\n      <td>H</td>\n      <td>W</td>\n      <td>0.631101</td>\n      <td>NaN</td>\n    </tr>\n    <tr>\n      <th>3</th>\n      <td>2</td>\n      <td>194611020CHS</td>\n      <td>NBA</td>\n      <td>1</td>\n      <td>1947</td>\n      <td>11/2/1946</td>\n      <td>2</td>\n      <td>0</td>\n      <td>NYK</td>\n      <td>Knicks</td>\n      <td>...</td>\n      <td>40.692783</td>\n      <td>CHS</td>\n      <td>Stags</td>\n      <td>63</td>\n      <td>1300.0000</td>\n      <td>1309.6521</td>\n      <td>A</td>\n      <td>L</td>\n      <td>0.368899</td>\n      <td>NaN</td>\n    </tr>\n    <tr>\n      <th>4</th>\n      <td>3</td>\n      <td>194611020DTF</td>\n      <td>NBA</td>\n      <td>0</td>\n      <td>1947</td>\n      <td>11/2/1946</td>\n      <td>1</td>\n      <td>0</td>\n      <td>DTF</td>\n      <td>Falcons</td>\n      <td>...</td>\n      <td>38.864048</td>\n      <td>WSC</td>\n      <td>Capitols</td>\n      <td>50</td>\n      <td>1300.0000</td>\n      <td>1320.3811</td>\n      <td>H</td>\n      <td>L</td>\n      <td>0.640065</td>\n      <td>NaN</td>\n    </tr>\n    <tr>\n      <th>5</th>\n      <td>3</td>\n      <td>194611020DTF</td>\n      <td>NBA</td>\n      <td>1</td>\n      <td>1947</td>\n      <td>11/2/1946</td>\n      <td>1</td>\n      <td>0</td>\n      <td>WSC</td>\n      <td>Capitols</td>\n      <td>...</td>\n      <td>43.135952</td>\n      <td>DTF</td>\n      <td>Falcons</td>\n      <td>33</td>\n      <td>1300.0000</td>\n      <td>1279.6189</td>\n      <td>A</td>\n      <td>W</td>\n      <td>0.359935</td>\n      <td>NaN</td>\n    </tr>\n    <tr>\n      <th>6</th>\n      <td>4</td>\n      <td>194611020PRO</td>\n      <td>NBA</td>\n      <td>1</td>\n      <td>1947</td>\n      <td>11/2/1946</td>\n      <td>1</td>\n      <td>0</td>\n      <td>BOS</td>\n      <td>Celtics</td>\n      <td>...</td>\n      <td>40.459381</td>\n      <td>PRO</td>\n      <td>Steamrollers</td>\n      <td>59</td>\n      <td>1300.0000</td>\n      <td>1305.1542</td>\n      <td>A</td>\n      <td>L</td>\n      <td>0.359935</td>\n      <td>NaN</td>\n    </tr>\n    <tr>\n      <th>7</th>\n      <td>4</td>\n      <td>194611020PRO</td>\n      <td>NBA</td>\n      <td>0</td>\n      <td>1947</td>\n      <td>11/2/1946</td>\n      <td>1</td>\n      <td>0</td>\n      <td>PRO</td>\n      <td>Steamrollers</td>\n      <td>...</td>\n      <td>41.540619</td>\n      <td>BOS</td>\n      <td>Celtics</td>\n      <td>53</td>\n      <td>1300.0000</td>\n      <td>1294.8458</td>\n      <td>H</td>\n      <td>W</td>\n      <td>0.640065</td>\n      <td>NaN</td>\n    </tr>\n    <tr>\n      <th>8</th>\n      <td>5</td>\n      <td>194611020STB</td>\n      <td>NBA</td>\n      <td>1</td>\n      <td>1947</td>\n      <td>11/2/1946</td>\n      <td>1</td>\n      <td>0</td>\n      <td>PIT</td>\n      <td>Ironmen</td>\n      <td>...</td>\n      <td>40.507980</td>\n      <td>STB</td>\n      <td>Bombers</td>\n      <td>56</td>\n      <td>1300.0000</td>\n      <td>1304.6908</td>\n      <td>A</td>\n      <td>L</td>\n      <td>0.359935</td>\n      <td>NaN</td>\n    </tr>\n    <tr>\n      <th>9</th>\n      <td>5</td>\n      <td>194611020STB</td>\n      <td>NBA</td>\n      <td>0</td>\n      <td>1947</td>\n      <td>11/2/1946</td>\n      <td>1</td>\n      <td>0</td>\n      <td>STB</td>\n      <td>Bombers</td>\n      <td>...</td>\n      <td>41.492020</td>\n      <td>PIT</td>\n      <td>Ironmen</td>\n      <td>51</td>\n      <td>1300.0000</td>\n      <td>1295.3092</td>\n      <td>H</td>\n      <td>W</td>\n      <td>0.640065</td>\n      <td>NaN</td>\n    </tr>\n  </tbody>\n</table>\n<p>10 rows × 23 columns</p>\n</div>"
     },
     "metadata": {},
     "execution_count": 24
    }
   ],
   "source": [
    "df_csv.head(10)"
   ]
  },
  {
   "cell_type": "code",
   "execution_count": 29,
   "metadata": {},
   "outputs": [],
   "source": [
    "pd.set_option(\"display.max_columns\",None)"
   ]
  },
  {
   "cell_type": "code",
   "execution_count": 30,
   "metadata": {},
   "outputs": [
    {
     "output_type": "execute_result",
     "data": {
      "text/plain": [
       "    gameorder       game_id lg_id  _iscopy  year_id  date_game  seasongame  \\\n",
       "0           1  194611010TRH   NBA        0     1947  11/1/1946           1   \n",
       "1           1  194611010TRH   NBA        1     1947  11/1/1946           1   \n",
       "2           2  194611020CHS   NBA        0     1947  11/2/1946           1   \n",
       "3           2  194611020CHS   NBA        1     1947  11/2/1946           2   \n",
       "4           3  194611020DTF   NBA        0     1947  11/2/1946           1   \n",
       "5           3  194611020DTF   NBA        1     1947  11/2/1946           1   \n",
       "6           4  194611020PRO   NBA        1     1947  11/2/1946           1   \n",
       "7           4  194611020PRO   NBA        0     1947  11/2/1946           1   \n",
       "8           5  194611020STB   NBA        1     1947  11/2/1946           1   \n",
       "9           5  194611020STB   NBA        0     1947  11/2/1946           1   \n",
       "10          6  194611030CLR   NBA        1     1947  11/3/1946           2   \n",
       "11          6  194611030CLR   NBA        0     1947  11/3/1946           1   \n",
       "12          7  194611040PIT   NBA        0     1947  11/4/1946           2   \n",
       "13          7  194611040PIT   NBA        1     1947  11/4/1946           2   \n",
       "14          8  194611050BOS   NBA        0     1947  11/5/1946           2   \n",
       "15          8  194611050BOS   NBA        1     1947  11/5/1946           2   \n",
       "16          9  194611050DTF   NBA        1     1947  11/5/1946           2   \n",
       "17          9  194611050DTF   NBA        0     1947  11/5/1946           2   \n",
       "18         10  194611070GSW   NBA        1     1947  11/7/1946           3   \n",
       "19         10  194611070GSW   NBA        0     1947  11/7/1946           1   \n",
       "\n",
       "    is_playoffs team_id       fran_id  pts      elo_i      elo_n  win_equiv  \\\n",
       "0             0     TRH       Huskies   66  1300.0000  1293.2767  40.294830   \n",
       "1             0     NYK        Knicks   68  1300.0000  1306.7233  41.705170   \n",
       "2             0     CHS         Stags   63  1300.0000  1309.6521  42.012257   \n",
       "3             0     NYK        Knicks   47  1306.7233  1297.0712  40.692783   \n",
       "4             0     DTF       Falcons   33  1300.0000  1279.6189  38.864048   \n",
       "5             0     WSC      Capitols   50  1300.0000  1320.3811  43.135952   \n",
       "6             0     BOS       Celtics   53  1300.0000  1294.8458  40.459381   \n",
       "7             0     PRO  Steamrollers   59  1300.0000  1305.1542  41.540619   \n",
       "8             0     PIT       Ironmen   51  1300.0000  1295.3092  40.507980   \n",
       "9             0     STB       Bombers   56  1300.0000  1304.6908  41.492020   \n",
       "10            0     TRH       Huskies   60  1293.2767  1286.1534  39.548164   \n",
       "11            0     CLR        Rebels   71  1300.0000  1307.1233  41.747120   \n",
       "12            0     PIT       Ironmen   56  1295.3092  1277.9456  38.689037   \n",
       "13            0     WSC      Capitols   71  1320.3811  1337.7448  44.946995   \n",
       "14            0     BOS       Celtics   55  1294.8458  1288.4139  39.785030   \n",
       "15            0     CHS         Stags   57  1309.6521  1316.0840  42.686188   \n",
       "16            0     STB       Bombers   53  1304.6908  1312.8473  42.347137   \n",
       "17            0     DTF       Falcons   49  1279.6189  1271.4624  38.011841   \n",
       "18            0     PIT       Ironmen   75  1277.9456  1273.2786  38.201401   \n",
       "19            0     PHW      Warriors   81  1300.0000  1304.6670  41.489525   \n",
       "\n",
       "   opp_id      opp_fran  opp_pts  opp_elo_i  opp_elo_n game_location  \\\n",
       "0     NYK        Knicks       68  1300.0000  1306.7233             H   \n",
       "1     TRH       Huskies       66  1300.0000  1293.2767             A   \n",
       "2     NYK        Knicks       47  1306.7233  1297.0712             H   \n",
       "3     CHS         Stags       63  1300.0000  1309.6521             A   \n",
       "4     WSC      Capitols       50  1300.0000  1320.3811             H   \n",
       "5     DTF       Falcons       33  1300.0000  1279.6189             A   \n",
       "6     PRO  Steamrollers       59  1300.0000  1305.1542             A   \n",
       "7     BOS       Celtics       53  1300.0000  1294.8458             H   \n",
       "8     STB       Bombers       56  1300.0000  1304.6908             A   \n",
       "9     PIT       Ironmen       51  1300.0000  1295.3092             H   \n",
       "10    CLR        Rebels       71  1300.0000  1307.1233             A   \n",
       "11    TRH       Huskies       60  1293.2767  1286.1534             H   \n",
       "12    WSC      Capitols       71  1320.3811  1337.7448             H   \n",
       "13    PIT       Ironmen       56  1295.3092  1277.9456             A   \n",
       "14    CHS         Stags       57  1309.6521  1316.0840             H   \n",
       "15    BOS       Celtics       55  1294.8458  1288.4139             A   \n",
       "16    DTF       Falcons       49  1279.6189  1271.4624             A   \n",
       "17    STB       Bombers       53  1304.6908  1312.8473             H   \n",
       "18    PHW      Warriors       81  1300.0000  1304.6670             A   \n",
       "19    PIT       Ironmen       75  1277.9456  1273.2786             H   \n",
       "\n",
       "   game_result  forecast notes  \n",
       "0            L  0.640065   NaN  \n",
       "1            W  0.359935   NaN  \n",
       "2            W  0.631101   NaN  \n",
       "3            L  0.368899   NaN  \n",
       "4            L  0.640065   NaN  \n",
       "5            W  0.359935   NaN  \n",
       "6            L  0.359935   NaN  \n",
       "7            W  0.640065   NaN  \n",
       "8            L  0.359935   NaN  \n",
       "9            W  0.640065   NaN  \n",
       "10           L  0.351068   NaN  \n",
       "11           W  0.648932   NaN  \n",
       "12           L  0.606189   NaN  \n",
       "13           W  0.393811   NaN  \n",
       "14           L  0.620204   NaN  \n",
       "15           W  0.379796   NaN  \n",
       "16           W  0.393811   NaN  \n",
       "17           L  0.606189   NaN  \n",
       "18           L  0.331236   NaN  \n",
       "19           W  0.668764   NaN  "
      ],
      "text/html": "<div>\n<style scoped>\n    .dataframe tbody tr th:only-of-type {\n        vertical-align: middle;\n    }\n\n    .dataframe tbody tr th {\n        vertical-align: top;\n    }\n\n    .dataframe thead th {\n        text-align: right;\n    }\n</style>\n<table border=\"1\" class=\"dataframe\">\n  <thead>\n    <tr style=\"text-align: right;\">\n      <th></th>\n      <th>gameorder</th>\n      <th>game_id</th>\n      <th>lg_id</th>\n      <th>_iscopy</th>\n      <th>year_id</th>\n      <th>date_game</th>\n      <th>seasongame</th>\n      <th>is_playoffs</th>\n      <th>team_id</th>\n      <th>fran_id</th>\n      <th>pts</th>\n      <th>elo_i</th>\n      <th>elo_n</th>\n      <th>win_equiv</th>\n      <th>opp_id</th>\n      <th>opp_fran</th>\n      <th>opp_pts</th>\n      <th>opp_elo_i</th>\n      <th>opp_elo_n</th>\n      <th>game_location</th>\n      <th>game_result</th>\n      <th>forecast</th>\n      <th>notes</th>\n    </tr>\n  </thead>\n  <tbody>\n    <tr>\n      <th>0</th>\n      <td>1</td>\n      <td>194611010TRH</td>\n      <td>NBA</td>\n      <td>0</td>\n      <td>1947</td>\n      <td>11/1/1946</td>\n      <td>1</td>\n      <td>0</td>\n      <td>TRH</td>\n      <td>Huskies</td>\n      <td>66</td>\n      <td>1300.0000</td>\n      <td>1293.2767</td>\n      <td>40.294830</td>\n      <td>NYK</td>\n      <td>Knicks</td>\n      <td>68</td>\n      <td>1300.0000</td>\n      <td>1306.7233</td>\n      <td>H</td>\n      <td>L</td>\n      <td>0.640065</td>\n      <td>NaN</td>\n    </tr>\n    <tr>\n      <th>1</th>\n      <td>1</td>\n      <td>194611010TRH</td>\n      <td>NBA</td>\n      <td>1</td>\n      <td>1947</td>\n      <td>11/1/1946</td>\n      <td>1</td>\n      <td>0</td>\n      <td>NYK</td>\n      <td>Knicks</td>\n      <td>68</td>\n      <td>1300.0000</td>\n      <td>1306.7233</td>\n      <td>41.705170</td>\n      <td>TRH</td>\n      <td>Huskies</td>\n      <td>66</td>\n      <td>1300.0000</td>\n      <td>1293.2767</td>\n      <td>A</td>\n      <td>W</td>\n      <td>0.359935</td>\n      <td>NaN</td>\n    </tr>\n    <tr>\n      <th>2</th>\n      <td>2</td>\n      <td>194611020CHS</td>\n      <td>NBA</td>\n      <td>0</td>\n      <td>1947</td>\n      <td>11/2/1946</td>\n      <td>1</td>\n      <td>0</td>\n      <td>CHS</td>\n      <td>Stags</td>\n      <td>63</td>\n      <td>1300.0000</td>\n      <td>1309.6521</td>\n      <td>42.012257</td>\n      <td>NYK</td>\n      <td>Knicks</td>\n      <td>47</td>\n      <td>1306.7233</td>\n      <td>1297.0712</td>\n      <td>H</td>\n      <td>W</td>\n      <td>0.631101</td>\n      <td>NaN</td>\n    </tr>\n    <tr>\n      <th>3</th>\n      <td>2</td>\n      <td>194611020CHS</td>\n      <td>NBA</td>\n      <td>1</td>\n      <td>1947</td>\n      <td>11/2/1946</td>\n      <td>2</td>\n      <td>0</td>\n      <td>NYK</td>\n      <td>Knicks</td>\n      <td>47</td>\n      <td>1306.7233</td>\n      <td>1297.0712</td>\n      <td>40.692783</td>\n      <td>CHS</td>\n      <td>Stags</td>\n      <td>63</td>\n      <td>1300.0000</td>\n      <td>1309.6521</td>\n      <td>A</td>\n      <td>L</td>\n      <td>0.368899</td>\n      <td>NaN</td>\n    </tr>\n    <tr>\n      <th>4</th>\n      <td>3</td>\n      <td>194611020DTF</td>\n      <td>NBA</td>\n      <td>0</td>\n      <td>1947</td>\n      <td>11/2/1946</td>\n      <td>1</td>\n      <td>0</td>\n      <td>DTF</td>\n      <td>Falcons</td>\n      <td>33</td>\n      <td>1300.0000</td>\n      <td>1279.6189</td>\n      <td>38.864048</td>\n      <td>WSC</td>\n      <td>Capitols</td>\n      <td>50</td>\n      <td>1300.0000</td>\n      <td>1320.3811</td>\n      <td>H</td>\n      <td>L</td>\n      <td>0.640065</td>\n      <td>NaN</td>\n    </tr>\n    <tr>\n      <th>5</th>\n      <td>3</td>\n      <td>194611020DTF</td>\n      <td>NBA</td>\n      <td>1</td>\n      <td>1947</td>\n      <td>11/2/1946</td>\n      <td>1</td>\n      <td>0</td>\n      <td>WSC</td>\n      <td>Capitols</td>\n      <td>50</td>\n      <td>1300.0000</td>\n      <td>1320.3811</td>\n      <td>43.135952</td>\n      <td>DTF</td>\n      <td>Falcons</td>\n      <td>33</td>\n      <td>1300.0000</td>\n      <td>1279.6189</td>\n      <td>A</td>\n      <td>W</td>\n      <td>0.359935</td>\n      <td>NaN</td>\n    </tr>\n    <tr>\n      <th>6</th>\n      <td>4</td>\n      <td>194611020PRO</td>\n      <td>NBA</td>\n      <td>1</td>\n      <td>1947</td>\n      <td>11/2/1946</td>\n      <td>1</td>\n      <td>0</td>\n      <td>BOS</td>\n      <td>Celtics</td>\n      <td>53</td>\n      <td>1300.0000</td>\n      <td>1294.8458</td>\n      <td>40.459381</td>\n      <td>PRO</td>\n      <td>Steamrollers</td>\n      <td>59</td>\n      <td>1300.0000</td>\n      <td>1305.1542</td>\n      <td>A</td>\n      <td>L</td>\n      <td>0.359935</td>\n      <td>NaN</td>\n    </tr>\n    <tr>\n      <th>7</th>\n      <td>4</td>\n      <td>194611020PRO</td>\n      <td>NBA</td>\n      <td>0</td>\n      <td>1947</td>\n      <td>11/2/1946</td>\n      <td>1</td>\n      <td>0</td>\n      <td>PRO</td>\n      <td>Steamrollers</td>\n      <td>59</td>\n      <td>1300.0000</td>\n      <td>1305.1542</td>\n      <td>41.540619</td>\n      <td>BOS</td>\n      <td>Celtics</td>\n      <td>53</td>\n      <td>1300.0000</td>\n      <td>1294.8458</td>\n      <td>H</td>\n      <td>W</td>\n      <td>0.640065</td>\n      <td>NaN</td>\n    </tr>\n    <tr>\n      <th>8</th>\n      <td>5</td>\n      <td>194611020STB</td>\n      <td>NBA</td>\n      <td>1</td>\n      <td>1947</td>\n      <td>11/2/1946</td>\n      <td>1</td>\n      <td>0</td>\n      <td>PIT</td>\n      <td>Ironmen</td>\n      <td>51</td>\n      <td>1300.0000</td>\n      <td>1295.3092</td>\n      <td>40.507980</td>\n      <td>STB</td>\n      <td>Bombers</td>\n      <td>56</td>\n      <td>1300.0000</td>\n      <td>1304.6908</td>\n      <td>A</td>\n      <td>L</td>\n      <td>0.359935</td>\n      <td>NaN</td>\n    </tr>\n    <tr>\n      <th>9</th>\n      <td>5</td>\n      <td>194611020STB</td>\n      <td>NBA</td>\n      <td>0</td>\n      <td>1947</td>\n      <td>11/2/1946</td>\n      <td>1</td>\n      <td>0</td>\n      <td>STB</td>\n      <td>Bombers</td>\n      <td>56</td>\n      <td>1300.0000</td>\n      <td>1304.6908</td>\n      <td>41.492020</td>\n      <td>PIT</td>\n      <td>Ironmen</td>\n      <td>51</td>\n      <td>1300.0000</td>\n      <td>1295.3092</td>\n      <td>H</td>\n      <td>W</td>\n      <td>0.640065</td>\n      <td>NaN</td>\n    </tr>\n    <tr>\n      <th>10</th>\n      <td>6</td>\n      <td>194611030CLR</td>\n      <td>NBA</td>\n      <td>1</td>\n      <td>1947</td>\n      <td>11/3/1946</td>\n      <td>2</td>\n      <td>0</td>\n      <td>TRH</td>\n      <td>Huskies</td>\n      <td>60</td>\n      <td>1293.2767</td>\n      <td>1286.1534</td>\n      <td>39.548164</td>\n      <td>CLR</td>\n      <td>Rebels</td>\n      <td>71</td>\n      <td>1300.0000</td>\n      <td>1307.1233</td>\n      <td>A</td>\n      <td>L</td>\n      <td>0.351068</td>\n      <td>NaN</td>\n    </tr>\n    <tr>\n      <th>11</th>\n      <td>6</td>\n      <td>194611030CLR</td>\n      <td>NBA</td>\n      <td>0</td>\n      <td>1947</td>\n      <td>11/3/1946</td>\n      <td>1</td>\n      <td>0</td>\n      <td>CLR</td>\n      <td>Rebels</td>\n      <td>71</td>\n      <td>1300.0000</td>\n      <td>1307.1233</td>\n      <td>41.747120</td>\n      <td>TRH</td>\n      <td>Huskies</td>\n      <td>60</td>\n      <td>1293.2767</td>\n      <td>1286.1534</td>\n      <td>H</td>\n      <td>W</td>\n      <td>0.648932</td>\n      <td>NaN</td>\n    </tr>\n    <tr>\n      <th>12</th>\n      <td>7</td>\n      <td>194611040PIT</td>\n      <td>NBA</td>\n      <td>0</td>\n      <td>1947</td>\n      <td>11/4/1946</td>\n      <td>2</td>\n      <td>0</td>\n      <td>PIT</td>\n      <td>Ironmen</td>\n      <td>56</td>\n      <td>1295.3092</td>\n      <td>1277.9456</td>\n      <td>38.689037</td>\n      <td>WSC</td>\n      <td>Capitols</td>\n      <td>71</td>\n      <td>1320.3811</td>\n      <td>1337.7448</td>\n      <td>H</td>\n      <td>L</td>\n      <td>0.606189</td>\n      <td>NaN</td>\n    </tr>\n    <tr>\n      <th>13</th>\n      <td>7</td>\n      <td>194611040PIT</td>\n      <td>NBA</td>\n      <td>1</td>\n      <td>1947</td>\n      <td>11/4/1946</td>\n      <td>2</td>\n      <td>0</td>\n      <td>WSC</td>\n      <td>Capitols</td>\n      <td>71</td>\n      <td>1320.3811</td>\n      <td>1337.7448</td>\n      <td>44.946995</td>\n      <td>PIT</td>\n      <td>Ironmen</td>\n      <td>56</td>\n      <td>1295.3092</td>\n      <td>1277.9456</td>\n      <td>A</td>\n      <td>W</td>\n      <td>0.393811</td>\n      <td>NaN</td>\n    </tr>\n    <tr>\n      <th>14</th>\n      <td>8</td>\n      <td>194611050BOS</td>\n      <td>NBA</td>\n      <td>0</td>\n      <td>1947</td>\n      <td>11/5/1946</td>\n      <td>2</td>\n      <td>0</td>\n      <td>BOS</td>\n      <td>Celtics</td>\n      <td>55</td>\n      <td>1294.8458</td>\n      <td>1288.4139</td>\n      <td>39.785030</td>\n      <td>CHS</td>\n      <td>Stags</td>\n      <td>57</td>\n      <td>1309.6521</td>\n      <td>1316.0840</td>\n      <td>H</td>\n      <td>L</td>\n      <td>0.620204</td>\n      <td>NaN</td>\n    </tr>\n    <tr>\n      <th>15</th>\n      <td>8</td>\n      <td>194611050BOS</td>\n      <td>NBA</td>\n      <td>1</td>\n      <td>1947</td>\n      <td>11/5/1946</td>\n      <td>2</td>\n      <td>0</td>\n      <td>CHS</td>\n      <td>Stags</td>\n      <td>57</td>\n      <td>1309.6521</td>\n      <td>1316.0840</td>\n      <td>42.686188</td>\n      <td>BOS</td>\n      <td>Celtics</td>\n      <td>55</td>\n      <td>1294.8458</td>\n      <td>1288.4139</td>\n      <td>A</td>\n      <td>W</td>\n      <td>0.379796</td>\n      <td>NaN</td>\n    </tr>\n    <tr>\n      <th>16</th>\n      <td>9</td>\n      <td>194611050DTF</td>\n      <td>NBA</td>\n      <td>1</td>\n      <td>1947</td>\n      <td>11/5/1946</td>\n      <td>2</td>\n      <td>0</td>\n      <td>STB</td>\n      <td>Bombers</td>\n      <td>53</td>\n      <td>1304.6908</td>\n      <td>1312.8473</td>\n      <td>42.347137</td>\n      <td>DTF</td>\n      <td>Falcons</td>\n      <td>49</td>\n      <td>1279.6189</td>\n      <td>1271.4624</td>\n      <td>A</td>\n      <td>W</td>\n      <td>0.393811</td>\n      <td>NaN</td>\n    </tr>\n    <tr>\n      <th>17</th>\n      <td>9</td>\n      <td>194611050DTF</td>\n      <td>NBA</td>\n      <td>0</td>\n      <td>1947</td>\n      <td>11/5/1946</td>\n      <td>2</td>\n      <td>0</td>\n      <td>DTF</td>\n      <td>Falcons</td>\n      <td>49</td>\n      <td>1279.6189</td>\n      <td>1271.4624</td>\n      <td>38.011841</td>\n      <td>STB</td>\n      <td>Bombers</td>\n      <td>53</td>\n      <td>1304.6908</td>\n      <td>1312.8473</td>\n      <td>H</td>\n      <td>L</td>\n      <td>0.606189</td>\n      <td>NaN</td>\n    </tr>\n    <tr>\n      <th>18</th>\n      <td>10</td>\n      <td>194611070GSW</td>\n      <td>NBA</td>\n      <td>1</td>\n      <td>1947</td>\n      <td>11/7/1946</td>\n      <td>3</td>\n      <td>0</td>\n      <td>PIT</td>\n      <td>Ironmen</td>\n      <td>75</td>\n      <td>1277.9456</td>\n      <td>1273.2786</td>\n      <td>38.201401</td>\n      <td>PHW</td>\n      <td>Warriors</td>\n      <td>81</td>\n      <td>1300.0000</td>\n      <td>1304.6670</td>\n      <td>A</td>\n      <td>L</td>\n      <td>0.331236</td>\n      <td>NaN</td>\n    </tr>\n    <tr>\n      <th>19</th>\n      <td>10</td>\n      <td>194611070GSW</td>\n      <td>NBA</td>\n      <td>0</td>\n      <td>1947</td>\n      <td>11/7/1946</td>\n      <td>1</td>\n      <td>0</td>\n      <td>PHW</td>\n      <td>Warriors</td>\n      <td>81</td>\n      <td>1300.0000</td>\n      <td>1304.6670</td>\n      <td>41.489525</td>\n      <td>PIT</td>\n      <td>Ironmen</td>\n      <td>75</td>\n      <td>1277.9456</td>\n      <td>1273.2786</td>\n      <td>H</td>\n      <td>W</td>\n      <td>0.668764</td>\n      <td>NaN</td>\n    </tr>\n  </tbody>\n</table>\n</div>"
     },
     "metadata": {},
     "execution_count": 30
    }
   ],
   "source": [
    "df_csv.head(20)"
   ]
  },
  {
   "cell_type": "code",
   "execution_count": 26,
   "metadata": {},
   "outputs": [
    {
     "output_type": "stream",
     "name": "stdout",
     "text": [
      "<class 'pandas.core.frame.DataFrame'>\nRangeIndex: 126314 entries, 0 to 126313\nData columns (total 23 columns):\n #   Column         Non-Null Count   Dtype  \n---  ------         --------------   -----  \n 0   gameorder      126314 non-null  int64  \n 1   game_id        126314 non-null  object \n 2   lg_id          126314 non-null  object \n 3   _iscopy        126314 non-null  int64  \n 4   year_id        126314 non-null  int64  \n 5   date_game      126314 non-null  object \n 6   seasongame     126314 non-null  int64  \n 7   is_playoffs    126314 non-null  int64  \n 8   team_id        126314 non-null  object \n 9   fran_id        126314 non-null  object \n 10  pts            126314 non-null  int64  \n 11  elo_i          126314 non-null  float64\n 12  elo_n          126314 non-null  float64\n 13  win_equiv      126314 non-null  float64\n 14  opp_id         126314 non-null  object \n 15  opp_fran       126314 non-null  object \n 16  opp_pts        126314 non-null  int64  \n 17  opp_elo_i      126314 non-null  float64\n 18  opp_elo_n      126314 non-null  float64\n 19  game_location  126314 non-null  object \n 20  game_result    126314 non-null  object \n 21  forecast       126314 non-null  float64\n 22  notes          5424 non-null    object \ndtypes: float64(6), int64(7), object(10)\nmemory usage: 22.2+ MB\n"
     ]
    }
   ],
   "source": [
    "df_csv.info()"
   ]
  },
  {
   "cell_type": "code",
   "execution_count": 31,
   "metadata": {},
   "outputs": [
    {
     "output_type": "execute_result",
     "data": {
      "text/plain": [
       "0         NaN\n",
       "1         NaN\n",
       "2         NaN\n",
       "3         NaN\n",
       "4         NaN\n",
       "         ... \n",
       "126309    NaN\n",
       "126310    NaN\n",
       "126311    NaN\n",
       "126312    NaN\n",
       "126313    NaN\n",
       "Name: notes, Length: 126314, dtype: object"
      ]
     },
     "metadata": {},
     "execution_count": 31
    }
   ],
   "source": [
    "df_csv['notes']"
   ]
  },
  {
   "cell_type": "code",
   "execution_count": 32,
   "metadata": {},
   "outputs": [
    {
     "output_type": "execute_result",
     "data": {
      "text/plain": [
       "0         0.640065\n",
       "1         0.359935\n",
       "2         0.631101\n",
       "3         0.368899\n",
       "4         0.640065\n",
       "            ...   \n",
       "126309    0.546572\n",
       "126310    0.765565\n",
       "126311    0.234435\n",
       "126312    0.481450\n",
       "126313    0.518550\n",
       "Name: forecast, Length: 126314, dtype: float64"
      ]
     },
     "metadata": {},
     "execution_count": 32
    }
   ],
   "source": [
    "df_csv['forecast']"
   ]
  },
  {
   "cell_type": "code",
   "execution_count": 34,
   "metadata": {},
   "outputs": [
    {
     "output_type": "execute_result",
     "data": {
      "text/plain": [
       "0         0.640065\n",
       "1         0.359935\n",
       "2         0.631101\n",
       "3         0.368899\n",
       "4         0.640065\n",
       "            ...   \n",
       "126309    0.546572\n",
       "126310    0.765565\n",
       "126311    0.234435\n",
       "126312    0.481450\n",
       "126313    0.518550\n",
       "Name: forecast, Length: 126314, dtype: float64"
      ]
     },
     "metadata": {},
     "execution_count": 34
    }
   ],
   "source": [
    "df_csv.forecast"
   ]
  },
  {
   "cell_type": "code",
   "execution_count": 35,
   "metadata": {},
   "outputs": [
    {
     "output_type": "execute_result",
     "data": {
      "text/plain": [
       "           gameorder        _iscopy        year_id     seasongame  \\\n",
       "count  126314.000000  126314.000000  126314.000000  126314.000000   \n",
       "mean    31579.000000       0.500000    1988.200374      43.533733   \n",
       "std     18231.927643       0.500002      17.582309      25.375178   \n",
       "min         1.000000       0.000000    1947.000000       1.000000   \n",
       "25%     15790.000000       0.000000    1975.000000      22.000000   \n",
       "50%     31579.000000       0.500000    1990.000000      43.000000   \n",
       "75%     47368.000000       1.000000    2003.000000      65.000000   \n",
       "max     63157.000000       1.000000    2015.000000     108.000000   \n",
       "\n",
       "         is_playoffs            pts          elo_i          elo_n  \\\n",
       "count  126314.000000  126314.000000  126314.000000  126314.000000   \n",
       "mean        0.063857     102.729982    1495.236055    1495.236055   \n",
       "std         0.244499      14.814845     112.139945     112.461687   \n",
       "min         0.000000       0.000000    1091.644500    1085.774400   \n",
       "25%         0.000000      93.000000    1417.237975    1416.994900   \n",
       "50%         0.000000     103.000000    1500.945550    1500.954400   \n",
       "75%         0.000000     112.000000    1576.060000    1576.291625   \n",
       "max         1.000000     186.000000    1853.104500    1853.104500   \n",
       "\n",
       "           win_equiv        opp_pts      opp_elo_i      opp_elo_n  \\\n",
       "count  126314.000000  126314.000000  126314.000000  126314.000000   \n",
       "mean       41.707889     102.729982    1495.236055    1495.236055   \n",
       "std        10.627332      14.814845     112.139945     112.461687   \n",
       "min        10.152501       0.000000    1091.644500    1085.774400   \n",
       "25%        34.103035      93.000000    1417.237975    1416.994900   \n",
       "50%        42.113357     103.000000    1500.945550    1500.954400   \n",
       "75%        49.635328     112.000000    1576.060000    1576.291625   \n",
       "max        71.112038     186.000000    1853.104500    1853.104500   \n",
       "\n",
       "            forecast  \n",
       "count  126314.000000  \n",
       "mean        0.500000  \n",
       "std         0.215252  \n",
       "min         0.020447  \n",
       "25%         0.327989  \n",
       "50%         0.500000  \n",
       "75%         0.672011  \n",
       "max         0.979553  "
      ],
      "text/html": "<div>\n<style scoped>\n    .dataframe tbody tr th:only-of-type {\n        vertical-align: middle;\n    }\n\n    .dataframe tbody tr th {\n        vertical-align: top;\n    }\n\n    .dataframe thead th {\n        text-align: right;\n    }\n</style>\n<table border=\"1\" class=\"dataframe\">\n  <thead>\n    <tr style=\"text-align: right;\">\n      <th></th>\n      <th>gameorder</th>\n      <th>_iscopy</th>\n      <th>year_id</th>\n      <th>seasongame</th>\n      <th>is_playoffs</th>\n      <th>pts</th>\n      <th>elo_i</th>\n      <th>elo_n</th>\n      <th>win_equiv</th>\n      <th>opp_pts</th>\n      <th>opp_elo_i</th>\n      <th>opp_elo_n</th>\n      <th>forecast</th>\n    </tr>\n  </thead>\n  <tbody>\n    <tr>\n      <th>count</th>\n      <td>126314.000000</td>\n      <td>126314.000000</td>\n      <td>126314.000000</td>\n      <td>126314.000000</td>\n      <td>126314.000000</td>\n      <td>126314.000000</td>\n      <td>126314.000000</td>\n      <td>126314.000000</td>\n      <td>126314.000000</td>\n      <td>126314.000000</td>\n      <td>126314.000000</td>\n      <td>126314.000000</td>\n      <td>126314.000000</td>\n    </tr>\n    <tr>\n      <th>mean</th>\n      <td>31579.000000</td>\n      <td>0.500000</td>\n      <td>1988.200374</td>\n      <td>43.533733</td>\n      <td>0.063857</td>\n      <td>102.729982</td>\n      <td>1495.236055</td>\n      <td>1495.236055</td>\n      <td>41.707889</td>\n      <td>102.729982</td>\n      <td>1495.236055</td>\n      <td>1495.236055</td>\n      <td>0.500000</td>\n    </tr>\n    <tr>\n      <th>std</th>\n      <td>18231.927643</td>\n      <td>0.500002</td>\n      <td>17.582309</td>\n      <td>25.375178</td>\n      <td>0.244499</td>\n      <td>14.814845</td>\n      <td>112.139945</td>\n      <td>112.461687</td>\n      <td>10.627332</td>\n      <td>14.814845</td>\n      <td>112.139945</td>\n      <td>112.461687</td>\n      <td>0.215252</td>\n    </tr>\n    <tr>\n      <th>min</th>\n      <td>1.000000</td>\n      <td>0.000000</td>\n      <td>1947.000000</td>\n      <td>1.000000</td>\n      <td>0.000000</td>\n      <td>0.000000</td>\n      <td>1091.644500</td>\n      <td>1085.774400</td>\n      <td>10.152501</td>\n      <td>0.000000</td>\n      <td>1091.644500</td>\n      <td>1085.774400</td>\n      <td>0.020447</td>\n    </tr>\n    <tr>\n      <th>25%</th>\n      <td>15790.000000</td>\n      <td>0.000000</td>\n      <td>1975.000000</td>\n      <td>22.000000</td>\n      <td>0.000000</td>\n      <td>93.000000</td>\n      <td>1417.237975</td>\n      <td>1416.994900</td>\n      <td>34.103035</td>\n      <td>93.000000</td>\n      <td>1417.237975</td>\n      <td>1416.994900</td>\n      <td>0.327989</td>\n    </tr>\n    <tr>\n      <th>50%</th>\n      <td>31579.000000</td>\n      <td>0.500000</td>\n      <td>1990.000000</td>\n      <td>43.000000</td>\n      <td>0.000000</td>\n      <td>103.000000</td>\n      <td>1500.945550</td>\n      <td>1500.954400</td>\n      <td>42.113357</td>\n      <td>103.000000</td>\n      <td>1500.945550</td>\n      <td>1500.954400</td>\n      <td>0.500000</td>\n    </tr>\n    <tr>\n      <th>75%</th>\n      <td>47368.000000</td>\n      <td>1.000000</td>\n      <td>2003.000000</td>\n      <td>65.000000</td>\n      <td>0.000000</td>\n      <td>112.000000</td>\n      <td>1576.060000</td>\n      <td>1576.291625</td>\n      <td>49.635328</td>\n      <td>112.000000</td>\n      <td>1576.060000</td>\n      <td>1576.291625</td>\n      <td>0.672011</td>\n    </tr>\n    <tr>\n      <th>max</th>\n      <td>63157.000000</td>\n      <td>1.000000</td>\n      <td>2015.000000</td>\n      <td>108.000000</td>\n      <td>1.000000</td>\n      <td>186.000000</td>\n      <td>1853.104500</td>\n      <td>1853.104500</td>\n      <td>71.112038</td>\n      <td>186.000000</td>\n      <td>1853.104500</td>\n      <td>1853.104500</td>\n      <td>0.979553</td>\n    </tr>\n  </tbody>\n</table>\n</div>"
     },
     "metadata": {},
     "execution_count": 35
    }
   ],
   "source": [
    "df_csv.describe()"
   ]
  },
  {
   "cell_type": "code",
   "execution_count": 36,
   "metadata": {},
   "outputs": [
    {
     "output_type": "execute_result",
     "data": {
      "text/plain": [
       "        gameorder       game_id lg_id  _iscopy  year_id   date_game  \\\n",
       "113656      56829  201010260BOS   NBA        1     2011  10/26/2010   \n",
       "113657      56829  201010260BOS   NBA        0     2011  10/26/2010   \n",
       "113658      56830  201010260LAL   NBA        1     2011  10/26/2010   \n",
       "113659      56830  201010260LAL   NBA        0     2011  10/26/2010   \n",
       "113660      56831  201010260POR   NBA        1     2011  10/26/2010   \n",
       "...           ...           ...   ...      ...      ...         ...   \n",
       "126309      63155  201506110CLE   NBA        0     2015   6/11/2015   \n",
       "126310      63156  201506140GSW   NBA        0     2015   6/14/2015   \n",
       "126311      63156  201506140GSW   NBA        1     2015   6/14/2015   \n",
       "126312      63157  201506170CLE   NBA        0     2015   6/16/2015   \n",
       "126313      63157  201506170CLE   NBA        1     2015   6/16/2015   \n",
       "\n",
       "        seasongame  is_playoffs team_id    fran_id  pts      elo_i      elo_n  \\\n",
       "113656           1            0     MIA       Heat   80  1547.3638  1543.1600   \n",
       "113657           1            0     BOS    Celtics   88  1625.0994  1629.3031   \n",
       "113658           1            0     HOU    Rockets  110  1504.1956  1502.5969   \n",
       "113659           1            0     LAL     Lakers  112  1647.6016  1649.2002   \n",
       "113660           1            0     PHO       Suns   92  1643.0225  1630.6204   \n",
       "...            ...          ...     ...        ...  ...        ...        ...   \n",
       "126309         100            1     CLE  Cavaliers   82  1723.4149  1704.3949   \n",
       "126310         102            1     GSW   Warriors  104  1809.9791  1813.6349   \n",
       "126311         101            1     CLE  Cavaliers   91  1704.3949  1700.7391   \n",
       "126312         102            1     CLE  Cavaliers   97  1700.7391  1692.0859   \n",
       "126313         103            1     GSW   Warriors  105  1813.6349  1822.2881   \n",
       "\n",
       "        win_equiv opp_id      opp_fran  opp_pts  opp_elo_i  opp_elo_n  \\\n",
       "113656  45.141479    BOS       Celtics       88  1625.0994  1629.3031   \n",
       "113657  53.754559    MIA          Heat       80  1547.3638  1543.1600   \n",
       "113658  40.900764    LAL        Lakers      112  1647.6016  1649.2002   \n",
       "113659  55.608730    HOU       Rockets      110  1504.1956  1502.5969   \n",
       "113660  53.879230    POR  Trailblazers      106  1552.8141  1565.2162   \n",
       "...           ...    ...           ...      ...        ...        ...   \n",
       "126309  60.309792    GSW      Warriors      103  1790.9591  1809.9791   \n",
       "126310  68.013329    CLE     Cavaliers       91  1704.3949  1700.7391   \n",
       "126311  60.010067    GSW      Warriors      104  1809.9791  1813.6349   \n",
       "126312  59.290245    GSW      Warriors      105  1813.6349  1822.2881   \n",
       "126313  68.519516    CLE     Cavaliers       97  1700.7391  1692.0859   \n",
       "\n",
       "       game_location game_result  forecast notes  \n",
       "113656             A           L  0.264418   NaN  \n",
       "113657             H           W  0.735582   NaN  \n",
       "113658             A           L  0.197632   NaN  \n",
       "113659             H           W  0.802368   NaN  \n",
       "113660             A           L  0.485912   NaN  \n",
       "...              ...         ...       ...   ...  \n",
       "126309             H           L  0.546572   NaN  \n",
       "126310             H           W  0.765565   NaN  \n",
       "126311             A           L  0.234435   NaN  \n",
       "126312             H           L  0.481450   NaN  \n",
       "126313             A           W  0.518550   NaN  \n",
       "\n",
       "[12658 rows x 23 columns]"
      ],
      "text/html": "<div>\n<style scoped>\n    .dataframe tbody tr th:only-of-type {\n        vertical-align: middle;\n    }\n\n    .dataframe tbody tr th {\n        vertical-align: top;\n    }\n\n    .dataframe thead th {\n        text-align: right;\n    }\n</style>\n<table border=\"1\" class=\"dataframe\">\n  <thead>\n    <tr style=\"text-align: right;\">\n      <th></th>\n      <th>gameorder</th>\n      <th>game_id</th>\n      <th>lg_id</th>\n      <th>_iscopy</th>\n      <th>year_id</th>\n      <th>date_game</th>\n      <th>seasongame</th>\n      <th>is_playoffs</th>\n      <th>team_id</th>\n      <th>fran_id</th>\n      <th>pts</th>\n      <th>elo_i</th>\n      <th>elo_n</th>\n      <th>win_equiv</th>\n      <th>opp_id</th>\n      <th>opp_fran</th>\n      <th>opp_pts</th>\n      <th>opp_elo_i</th>\n      <th>opp_elo_n</th>\n      <th>game_location</th>\n      <th>game_result</th>\n      <th>forecast</th>\n      <th>notes</th>\n    </tr>\n  </thead>\n  <tbody>\n    <tr>\n      <th>113656</th>\n      <td>56829</td>\n      <td>201010260BOS</td>\n      <td>NBA</td>\n      <td>1</td>\n      <td>2011</td>\n      <td>10/26/2010</td>\n      <td>1</td>\n      <td>0</td>\n      <td>MIA</td>\n      <td>Heat</td>\n      <td>80</td>\n      <td>1547.3638</td>\n      <td>1543.1600</td>\n      <td>45.141479</td>\n      <td>BOS</td>\n      <td>Celtics</td>\n      <td>88</td>\n      <td>1625.0994</td>\n      <td>1629.3031</td>\n      <td>A</td>\n      <td>L</td>\n      <td>0.264418</td>\n      <td>NaN</td>\n    </tr>\n    <tr>\n      <th>113657</th>\n      <td>56829</td>\n      <td>201010260BOS</td>\n      <td>NBA</td>\n      <td>0</td>\n      <td>2011</td>\n      <td>10/26/2010</td>\n      <td>1</td>\n      <td>0</td>\n      <td>BOS</td>\n      <td>Celtics</td>\n      <td>88</td>\n      <td>1625.0994</td>\n      <td>1629.3031</td>\n      <td>53.754559</td>\n      <td>MIA</td>\n      <td>Heat</td>\n      <td>80</td>\n      <td>1547.3638</td>\n      <td>1543.1600</td>\n      <td>H</td>\n      <td>W</td>\n      <td>0.735582</td>\n      <td>NaN</td>\n    </tr>\n    <tr>\n      <th>113658</th>\n      <td>56830</td>\n      <td>201010260LAL</td>\n      <td>NBA</td>\n      <td>1</td>\n      <td>2011</td>\n      <td>10/26/2010</td>\n      <td>1</td>\n      <td>0</td>\n      <td>HOU</td>\n      <td>Rockets</td>\n      <td>110</td>\n      <td>1504.1956</td>\n      <td>1502.5969</td>\n      <td>40.900764</td>\n      <td>LAL</td>\n      <td>Lakers</td>\n      <td>112</td>\n      <td>1647.6016</td>\n      <td>1649.2002</td>\n      <td>A</td>\n      <td>L</td>\n      <td>0.197632</td>\n      <td>NaN</td>\n    </tr>\n    <tr>\n      <th>113659</th>\n      <td>56830</td>\n      <td>201010260LAL</td>\n      <td>NBA</td>\n      <td>0</td>\n      <td>2011</td>\n      <td>10/26/2010</td>\n      <td>1</td>\n      <td>0</td>\n      <td>LAL</td>\n      <td>Lakers</td>\n      <td>112</td>\n      <td>1647.6016</td>\n      <td>1649.2002</td>\n      <td>55.608730</td>\n      <td>HOU</td>\n      <td>Rockets</td>\n      <td>110</td>\n      <td>1504.1956</td>\n      <td>1502.5969</td>\n      <td>H</td>\n      <td>W</td>\n      <td>0.802368</td>\n      <td>NaN</td>\n    </tr>\n    <tr>\n      <th>113660</th>\n      <td>56831</td>\n      <td>201010260POR</td>\n      <td>NBA</td>\n      <td>1</td>\n      <td>2011</td>\n      <td>10/26/2010</td>\n      <td>1</td>\n      <td>0</td>\n      <td>PHO</td>\n      <td>Suns</td>\n      <td>92</td>\n      <td>1643.0225</td>\n      <td>1630.6204</td>\n      <td>53.879230</td>\n      <td>POR</td>\n      <td>Trailblazers</td>\n      <td>106</td>\n      <td>1552.8141</td>\n      <td>1565.2162</td>\n      <td>A</td>\n      <td>L</td>\n      <td>0.485912</td>\n      <td>NaN</td>\n    </tr>\n    <tr>\n      <th>...</th>\n      <td>...</td>\n      <td>...</td>\n      <td>...</td>\n      <td>...</td>\n      <td>...</td>\n      <td>...</td>\n      <td>...</td>\n      <td>...</td>\n      <td>...</td>\n      <td>...</td>\n      <td>...</td>\n      <td>...</td>\n      <td>...</td>\n      <td>...</td>\n      <td>...</td>\n      <td>...</td>\n      <td>...</td>\n      <td>...</td>\n      <td>...</td>\n      <td>...</td>\n      <td>...</td>\n      <td>...</td>\n      <td>...</td>\n    </tr>\n    <tr>\n      <th>126309</th>\n      <td>63155</td>\n      <td>201506110CLE</td>\n      <td>NBA</td>\n      <td>0</td>\n      <td>2015</td>\n      <td>6/11/2015</td>\n      <td>100</td>\n      <td>1</td>\n      <td>CLE</td>\n      <td>Cavaliers</td>\n      <td>82</td>\n      <td>1723.4149</td>\n      <td>1704.3949</td>\n      <td>60.309792</td>\n      <td>GSW</td>\n      <td>Warriors</td>\n      <td>103</td>\n      <td>1790.9591</td>\n      <td>1809.9791</td>\n      <td>H</td>\n      <td>L</td>\n      <td>0.546572</td>\n      <td>NaN</td>\n    </tr>\n    <tr>\n      <th>126310</th>\n      <td>63156</td>\n      <td>201506140GSW</td>\n      <td>NBA</td>\n      <td>0</td>\n      <td>2015</td>\n      <td>6/14/2015</td>\n      <td>102</td>\n      <td>1</td>\n      <td>GSW</td>\n      <td>Warriors</td>\n      <td>104</td>\n      <td>1809.9791</td>\n      <td>1813.6349</td>\n      <td>68.013329</td>\n      <td>CLE</td>\n      <td>Cavaliers</td>\n      <td>91</td>\n      <td>1704.3949</td>\n      <td>1700.7391</td>\n      <td>H</td>\n      <td>W</td>\n      <td>0.765565</td>\n      <td>NaN</td>\n    </tr>\n    <tr>\n      <th>126311</th>\n      <td>63156</td>\n      <td>201506140GSW</td>\n      <td>NBA</td>\n      <td>1</td>\n      <td>2015</td>\n      <td>6/14/2015</td>\n      <td>101</td>\n      <td>1</td>\n      <td>CLE</td>\n      <td>Cavaliers</td>\n      <td>91</td>\n      <td>1704.3949</td>\n      <td>1700.7391</td>\n      <td>60.010067</td>\n      <td>GSW</td>\n      <td>Warriors</td>\n      <td>104</td>\n      <td>1809.9791</td>\n      <td>1813.6349</td>\n      <td>A</td>\n      <td>L</td>\n      <td>0.234435</td>\n      <td>NaN</td>\n    </tr>\n    <tr>\n      <th>126312</th>\n      <td>63157</td>\n      <td>201506170CLE</td>\n      <td>NBA</td>\n      <td>0</td>\n      <td>2015</td>\n      <td>6/16/2015</td>\n      <td>102</td>\n      <td>1</td>\n      <td>CLE</td>\n      <td>Cavaliers</td>\n      <td>97</td>\n      <td>1700.7391</td>\n      <td>1692.0859</td>\n      <td>59.290245</td>\n      <td>GSW</td>\n      <td>Warriors</td>\n      <td>105</td>\n      <td>1813.6349</td>\n      <td>1822.2881</td>\n      <td>H</td>\n      <td>L</td>\n      <td>0.481450</td>\n      <td>NaN</td>\n    </tr>\n    <tr>\n      <th>126313</th>\n      <td>63157</td>\n      <td>201506170CLE</td>\n      <td>NBA</td>\n      <td>1</td>\n      <td>2015</td>\n      <td>6/16/2015</td>\n      <td>103</td>\n      <td>1</td>\n      <td>GSW</td>\n      <td>Warriors</td>\n      <td>105</td>\n      <td>1813.6349</td>\n      <td>1822.2881</td>\n      <td>68.519516</td>\n      <td>CLE</td>\n      <td>Cavaliers</td>\n      <td>97</td>\n      <td>1700.7391</td>\n      <td>1692.0859</td>\n      <td>A</td>\n      <td>W</td>\n      <td>0.518550</td>\n      <td>NaN</td>\n    </tr>\n  </tbody>\n</table>\n<p>12658 rows × 23 columns</p>\n</div>"
     },
     "metadata": {},
     "execution_count": 36
    }
   ],
   "source": [
    "## Masking\n",
    "\n",
    "df_csv[df_csv['year_id'] >= 2011]"
   ]
  },
  {
   "cell_type": "code",
   "execution_count": 37,
   "metadata": {},
   "outputs": [
    {
     "output_type": "execute_result",
     "data": {
      "text/plain": [
       "        gameorder       game_id lg_id  _iscopy  year_id   date_game  \\\n",
       "113658      56830  201010260LAL   NBA        1     2011  10/26/2010   \n",
       "113659      56830  201010260LAL   NBA        0     2011  10/26/2010   \n",
       "113661      56831  201010260POR   NBA        0     2011  10/26/2010   \n",
       "113665      56833  201010270DAL   NBA        0     2011  10/27/2010   \n",
       "113666      56834  201010270DEN   NBA        0     2011  10/27/2010   \n",
       "...           ...           ...   ...      ...      ...         ...   \n",
       "126301      63151  201505270GSW   NBA        0     2015   5/27/2015   \n",
       "126303      63152  201506040GSW   NBA        0     2015    6/4/2015   \n",
       "126308      63155  201506110CLE   NBA        1     2015   6/11/2015   \n",
       "126310      63156  201506140GSW   NBA        0     2015   6/14/2015   \n",
       "126313      63157  201506170CLE   NBA        1     2015   6/16/2015   \n",
       "\n",
       "        seasongame  is_playoffs team_id       fran_id  pts      elo_i  \\\n",
       "113658           1            0     HOU       Rockets  110  1504.1956   \n",
       "113659           1            0     LAL        Lakers  112  1647.6016   \n",
       "113661           1            0     POR  Trailblazers  106  1552.8141   \n",
       "113665           1            0     DAL     Mavericks  101  1572.3136   \n",
       "113666           1            0     DEN       Nuggets  110  1573.8165   \n",
       "...            ...          ...     ...           ...  ...        ...   \n",
       "126301          97            1     GSW      Warriors  104  1797.8933   \n",
       "126303          98            1     GSW      Warriors  108  1802.2509   \n",
       "126308         101            1     GSW      Warriors  103  1790.9591   \n",
       "126310         102            1     GSW      Warriors  104  1809.9791   \n",
       "126313         103            1     GSW      Warriors  105  1813.6349   \n",
       "\n",
       "            elo_n  win_equiv opp_id   opp_fran  opp_pts  opp_elo_i  opp_elo_n  \\\n",
       "113658  1502.5969  40.900764    LAL     Lakers      112  1647.6016  1649.2002   \n",
       "113659  1649.2002  55.608730    HOU    Rockets      110  1504.1956  1502.5969   \n",
       "113661  1565.2162  47.416088    PHO       Suns       92  1643.0225  1630.6204   \n",
       "113665  1579.5146  48.870228    CHA    Hornets       86  1524.3628  1517.1617   \n",
       "113666  1585.5883  49.481976    UTA       Jazz       88  1575.7539  1563.9822   \n",
       "...           ...        ...    ...        ...      ...        ...        ...   \n",
       "126301  1802.2509  67.324539    HOU    Rockets       90  1658.9934  1654.6359   \n",
       "126303  1806.2035  67.566650    CLE  Cavaliers      100  1712.1232  1708.1705   \n",
       "126308  1809.9791  67.794983    CLE  Cavaliers       82  1723.4149  1704.3949   \n",
       "126310  1813.6349  68.013329    CLE  Cavaliers       91  1704.3949  1700.7391   \n",
       "126313  1822.2881  68.519516    CLE  Cavaliers       97  1700.7391  1692.0859   \n",
       "\n",
       "       game_location game_result  forecast notes  \n",
       "113658             A           L  0.197632   NaN  \n",
       "113659             H           W  0.802368   NaN  \n",
       "113661             H           W  0.514088   NaN  \n",
       "113665             H           W  0.700918   NaN  \n",
       "113666             H           W  0.637492   NaN  \n",
       "...              ...         ...       ...   ...  \n",
       "126301             H           W  0.798222   NaN  \n",
       "126303             H           W  0.749221   NaN  \n",
       "126308             A           W  0.453428   NaN  \n",
       "126310             H           W  0.765565   NaN  \n",
       "126313             A           W  0.518550   NaN  \n",
       "\n",
       "[5548 rows x 23 columns]"
      ],
      "text/html": "<div>\n<style scoped>\n    .dataframe tbody tr th:only-of-type {\n        vertical-align: middle;\n    }\n\n    .dataframe tbody tr th {\n        vertical-align: top;\n    }\n\n    .dataframe thead th {\n        text-align: right;\n    }\n</style>\n<table border=\"1\" class=\"dataframe\">\n  <thead>\n    <tr style=\"text-align: right;\">\n      <th></th>\n      <th>gameorder</th>\n      <th>game_id</th>\n      <th>lg_id</th>\n      <th>_iscopy</th>\n      <th>year_id</th>\n      <th>date_game</th>\n      <th>seasongame</th>\n      <th>is_playoffs</th>\n      <th>team_id</th>\n      <th>fran_id</th>\n      <th>pts</th>\n      <th>elo_i</th>\n      <th>elo_n</th>\n      <th>win_equiv</th>\n      <th>opp_id</th>\n      <th>opp_fran</th>\n      <th>opp_pts</th>\n      <th>opp_elo_i</th>\n      <th>opp_elo_n</th>\n      <th>game_location</th>\n      <th>game_result</th>\n      <th>forecast</th>\n      <th>notes</th>\n    </tr>\n  </thead>\n  <tbody>\n    <tr>\n      <th>113658</th>\n      <td>56830</td>\n      <td>201010260LAL</td>\n      <td>NBA</td>\n      <td>1</td>\n      <td>2011</td>\n      <td>10/26/2010</td>\n      <td>1</td>\n      <td>0</td>\n      <td>HOU</td>\n      <td>Rockets</td>\n      <td>110</td>\n      <td>1504.1956</td>\n      <td>1502.5969</td>\n      <td>40.900764</td>\n      <td>LAL</td>\n      <td>Lakers</td>\n      <td>112</td>\n      <td>1647.6016</td>\n      <td>1649.2002</td>\n      <td>A</td>\n      <td>L</td>\n      <td>0.197632</td>\n      <td>NaN</td>\n    </tr>\n    <tr>\n      <th>113659</th>\n      <td>56830</td>\n      <td>201010260LAL</td>\n      <td>NBA</td>\n      <td>0</td>\n      <td>2011</td>\n      <td>10/26/2010</td>\n      <td>1</td>\n      <td>0</td>\n      <td>LAL</td>\n      <td>Lakers</td>\n      <td>112</td>\n      <td>1647.6016</td>\n      <td>1649.2002</td>\n      <td>55.608730</td>\n      <td>HOU</td>\n      <td>Rockets</td>\n      <td>110</td>\n      <td>1504.1956</td>\n      <td>1502.5969</td>\n      <td>H</td>\n      <td>W</td>\n      <td>0.802368</td>\n      <td>NaN</td>\n    </tr>\n    <tr>\n      <th>113661</th>\n      <td>56831</td>\n      <td>201010260POR</td>\n      <td>NBA</td>\n      <td>0</td>\n      <td>2011</td>\n      <td>10/26/2010</td>\n      <td>1</td>\n      <td>0</td>\n      <td>POR</td>\n      <td>Trailblazers</td>\n      <td>106</td>\n      <td>1552.8141</td>\n      <td>1565.2162</td>\n      <td>47.416088</td>\n      <td>PHO</td>\n      <td>Suns</td>\n      <td>92</td>\n      <td>1643.0225</td>\n      <td>1630.6204</td>\n      <td>H</td>\n      <td>W</td>\n      <td>0.514088</td>\n      <td>NaN</td>\n    </tr>\n    <tr>\n      <th>113665</th>\n      <td>56833</td>\n      <td>201010270DAL</td>\n      <td>NBA</td>\n      <td>0</td>\n      <td>2011</td>\n      <td>10/27/2010</td>\n      <td>1</td>\n      <td>0</td>\n      <td>DAL</td>\n      <td>Mavericks</td>\n      <td>101</td>\n      <td>1572.3136</td>\n      <td>1579.5146</td>\n      <td>48.870228</td>\n      <td>CHA</td>\n      <td>Hornets</td>\n      <td>86</td>\n      <td>1524.3628</td>\n      <td>1517.1617</td>\n      <td>H</td>\n      <td>W</td>\n      <td>0.700918</td>\n      <td>NaN</td>\n    </tr>\n    <tr>\n      <th>113666</th>\n      <td>56834</td>\n      <td>201010270DEN</td>\n      <td>NBA</td>\n      <td>0</td>\n      <td>2011</td>\n      <td>10/27/2010</td>\n      <td>1</td>\n      <td>0</td>\n      <td>DEN</td>\n      <td>Nuggets</td>\n      <td>110</td>\n      <td>1573.8165</td>\n      <td>1585.5883</td>\n      <td>49.481976</td>\n      <td>UTA</td>\n      <td>Jazz</td>\n      <td>88</td>\n      <td>1575.7539</td>\n      <td>1563.9822</td>\n      <td>H</td>\n      <td>W</td>\n      <td>0.637492</td>\n      <td>NaN</td>\n    </tr>\n    <tr>\n      <th>...</th>\n      <td>...</td>\n      <td>...</td>\n      <td>...</td>\n      <td>...</td>\n      <td>...</td>\n      <td>...</td>\n      <td>...</td>\n      <td>...</td>\n      <td>...</td>\n      <td>...</td>\n      <td>...</td>\n      <td>...</td>\n      <td>...</td>\n      <td>...</td>\n      <td>...</td>\n      <td>...</td>\n      <td>...</td>\n      <td>...</td>\n      <td>...</td>\n      <td>...</td>\n      <td>...</td>\n      <td>...</td>\n      <td>...</td>\n    </tr>\n    <tr>\n      <th>126301</th>\n      <td>63151</td>\n      <td>201505270GSW</td>\n      <td>NBA</td>\n      <td>0</td>\n      <td>2015</td>\n      <td>5/27/2015</td>\n      <td>97</td>\n      <td>1</td>\n      <td>GSW</td>\n      <td>Warriors</td>\n      <td>104</td>\n      <td>1797.8933</td>\n      <td>1802.2509</td>\n      <td>67.324539</td>\n      <td>HOU</td>\n      <td>Rockets</td>\n      <td>90</td>\n      <td>1658.9934</td>\n      <td>1654.6359</td>\n      <td>H</td>\n      <td>W</td>\n      <td>0.798222</td>\n      <td>NaN</td>\n    </tr>\n    <tr>\n      <th>126303</th>\n      <td>63152</td>\n      <td>201506040GSW</td>\n      <td>NBA</td>\n      <td>0</td>\n      <td>2015</td>\n      <td>6/4/2015</td>\n      <td>98</td>\n      <td>1</td>\n      <td>GSW</td>\n      <td>Warriors</td>\n      <td>108</td>\n      <td>1802.2509</td>\n      <td>1806.2035</td>\n      <td>67.566650</td>\n      <td>CLE</td>\n      <td>Cavaliers</td>\n      <td>100</td>\n      <td>1712.1232</td>\n      <td>1708.1705</td>\n      <td>H</td>\n      <td>W</td>\n      <td>0.749221</td>\n      <td>NaN</td>\n    </tr>\n    <tr>\n      <th>126308</th>\n      <td>63155</td>\n      <td>201506110CLE</td>\n      <td>NBA</td>\n      <td>1</td>\n      <td>2015</td>\n      <td>6/11/2015</td>\n      <td>101</td>\n      <td>1</td>\n      <td>GSW</td>\n      <td>Warriors</td>\n      <td>103</td>\n      <td>1790.9591</td>\n      <td>1809.9791</td>\n      <td>67.794983</td>\n      <td>CLE</td>\n      <td>Cavaliers</td>\n      <td>82</td>\n      <td>1723.4149</td>\n      <td>1704.3949</td>\n      <td>A</td>\n      <td>W</td>\n      <td>0.453428</td>\n      <td>NaN</td>\n    </tr>\n    <tr>\n      <th>126310</th>\n      <td>63156</td>\n      <td>201506140GSW</td>\n      <td>NBA</td>\n      <td>0</td>\n      <td>2015</td>\n      <td>6/14/2015</td>\n      <td>102</td>\n      <td>1</td>\n      <td>GSW</td>\n      <td>Warriors</td>\n      <td>104</td>\n      <td>1809.9791</td>\n      <td>1813.6349</td>\n      <td>68.013329</td>\n      <td>CLE</td>\n      <td>Cavaliers</td>\n      <td>91</td>\n      <td>1704.3949</td>\n      <td>1700.7391</td>\n      <td>H</td>\n      <td>W</td>\n      <td>0.765565</td>\n      <td>NaN</td>\n    </tr>\n    <tr>\n      <th>126313</th>\n      <td>63157</td>\n      <td>201506170CLE</td>\n      <td>NBA</td>\n      <td>1</td>\n      <td>2015</td>\n      <td>6/16/2015</td>\n      <td>103</td>\n      <td>1</td>\n      <td>GSW</td>\n      <td>Warriors</td>\n      <td>105</td>\n      <td>1813.6349</td>\n      <td>1822.2881</td>\n      <td>68.519516</td>\n      <td>CLE</td>\n      <td>Cavaliers</td>\n      <td>97</td>\n      <td>1700.7391</td>\n      <td>1692.0859</td>\n      <td>A</td>\n      <td>W</td>\n      <td>0.518550</td>\n      <td>NaN</td>\n    </tr>\n  </tbody>\n</table>\n<p>5548 rows × 23 columns</p>\n</div>"
     },
     "metadata": {},
     "execution_count": 37
    }
   ],
   "source": [
    "df_csv[(df_csv['year_id'] >= 2011) & (df_csv['pts'] > 100)]"
   ]
  },
  {
   "cell_type": "code",
   "execution_count": 39,
   "metadata": {},
   "outputs": [
    {
     "output_type": "execute_result",
     "data": {
      "text/plain": [
       "61     82\n",
       "57     79\n",
       "40     78\n",
       "44     78\n",
       "62     78\n",
       "       ..\n",
       "97      3\n",
       "99      3\n",
       "100     2\n",
       "104     2\n",
       "105     1\n",
       "Name: seasongame, Length: 105, dtype: int64"
      ]
     },
     "metadata": {},
     "execution_count": 39
    }
   ],
   "source": [
    "df_csv[(df_csv['year_id'] >= 2011) & (df_csv['pts'] > 100)].seasongame.value_counts()"
   ]
  },
  {
   "cell_type": "code",
   "execution_count": 40,
   "metadata": {},
   "outputs": [
    {
     "output_type": "stream",
     "name": "stdout",
     "text": [
      "<class 'pandas.core.frame.DataFrame'>\nInt64Index: 5548 entries, 113658 to 126313\nData columns (total 23 columns):\n #   Column         Non-Null Count  Dtype  \n---  ------         --------------  -----  \n 0   gameorder      5548 non-null   int64  \n 1   game_id        5548 non-null   object \n 2   lg_id          5548 non-null   object \n 3   _iscopy        5548 non-null   int64  \n 4   year_id        5548 non-null   int64  \n 5   date_game      5548 non-null   object \n 6   seasongame     5548 non-null   int64  \n 7   is_playoffs    5548 non-null   int64  \n 8   team_id        5548 non-null   object \n 9   fran_id        5548 non-null   object \n 10  pts            5548 non-null   int64  \n 11  elo_i          5548 non-null   float64\n 12  elo_n          5548 non-null   float64\n 13  win_equiv      5548 non-null   float64\n 14  opp_id         5548 non-null   object \n 15  opp_fran       5548 non-null   object \n 16  opp_pts        5548 non-null   int64  \n 17  opp_elo_i      5548 non-null   float64\n 18  opp_elo_n      5548 non-null   float64\n 19  game_location  5548 non-null   object \n 20  game_result    5548 non-null   object \n 21  forecast       5548 non-null   float64\n 22  notes          9 non-null      object \ndtypes: float64(6), int64(7), object(10)\nmemory usage: 1.0+ MB\n"
     ]
    }
   ],
   "source": [
    "df_csv[(df_csv['year_id'] >= 2011) & (df_csv['pts'] > 100)].info()"
   ]
  },
  {
   "cell_type": "code",
   "execution_count": 43,
   "metadata": {},
   "outputs": [
    {
     "output_type": "execute_result",
     "data": {
      "text/plain": [
       "    seasongame  year_id notes  forecast\n",
       "0            1     1947   NaN  0.640065\n",
       "1            1     1947   NaN  0.359935\n",
       "2            1     1947   NaN  0.631101\n",
       "3            2     1947   NaN  0.368899\n",
       "4            1     1947   NaN  0.640065\n",
       "..         ...      ...   ...       ...\n",
       "95           7     1947   NaN  0.669638\n",
       "96          10     1947   NaN  0.381212\n",
       "97          10     1947   NaN  0.618788\n",
       "98           9     1947   NaN  0.396477\n",
       "99          10     1947   NaN  0.603523\n",
       "\n",
       "[100 rows x 4 columns]"
      ],
      "text/html": "<div>\n<style scoped>\n    .dataframe tbody tr th:only-of-type {\n        vertical-align: middle;\n    }\n\n    .dataframe tbody tr th {\n        vertical-align: top;\n    }\n\n    .dataframe thead th {\n        text-align: right;\n    }\n</style>\n<table border=\"1\" class=\"dataframe\">\n  <thead>\n    <tr style=\"text-align: right;\">\n      <th></th>\n      <th>seasongame</th>\n      <th>year_id</th>\n      <th>notes</th>\n      <th>forecast</th>\n    </tr>\n  </thead>\n  <tbody>\n    <tr>\n      <th>0</th>\n      <td>1</td>\n      <td>1947</td>\n      <td>NaN</td>\n      <td>0.640065</td>\n    </tr>\n    <tr>\n      <th>1</th>\n      <td>1</td>\n      <td>1947</td>\n      <td>NaN</td>\n      <td>0.359935</td>\n    </tr>\n    <tr>\n      <th>2</th>\n      <td>1</td>\n      <td>1947</td>\n      <td>NaN</td>\n      <td>0.631101</td>\n    </tr>\n    <tr>\n      <th>3</th>\n      <td>2</td>\n      <td>1947</td>\n      <td>NaN</td>\n      <td>0.368899</td>\n    </tr>\n    <tr>\n      <th>4</th>\n      <td>1</td>\n      <td>1947</td>\n      <td>NaN</td>\n      <td>0.640065</td>\n    </tr>\n    <tr>\n      <th>...</th>\n      <td>...</td>\n      <td>...</td>\n      <td>...</td>\n      <td>...</td>\n    </tr>\n    <tr>\n      <th>95</th>\n      <td>7</td>\n      <td>1947</td>\n      <td>NaN</td>\n      <td>0.669638</td>\n    </tr>\n    <tr>\n      <th>96</th>\n      <td>10</td>\n      <td>1947</td>\n      <td>NaN</td>\n      <td>0.381212</td>\n    </tr>\n    <tr>\n      <th>97</th>\n      <td>10</td>\n      <td>1947</td>\n      <td>NaN</td>\n      <td>0.618788</td>\n    </tr>\n    <tr>\n      <th>98</th>\n      <td>9</td>\n      <td>1947</td>\n      <td>NaN</td>\n      <td>0.396477</td>\n    </tr>\n    <tr>\n      <th>99</th>\n      <td>10</td>\n      <td>1947</td>\n      <td>NaN</td>\n      <td>0.603523</td>\n    </tr>\n  </tbody>\n</table>\n<p>100 rows × 4 columns</p>\n</div>"
     },
     "metadata": {},
     "execution_count": 43
    }
   ],
   "source": [
    "selected_col = ['seasongame','year_id','notes','forecast']\n",
    "df_csv[selected_col].head(100)"
   ]
  },
  {
   "cell_type": "code",
   "execution_count": 44,
   "metadata": {},
   "outputs": [],
   "source": [
    "### Simple data analisis"
   ]
  },
  {
   "cell_type": "code",
   "execution_count": 47,
   "metadata": {},
   "outputs": [],
   "source": [
    "np.random.seed(40)\n",
    "tugas = np.random.normal(75,10,40)\n",
    "praktik = np.random.normal(85,3,40)\n",
    "uts = np.random.normal(60,15,40)\n",
    "uas = np.random.normal(70,7,40)"
   ]
  },
  {
   "cell_type": "code",
   "execution_count": 83,
   "metadata": {},
   "outputs": [
    {
     "output_type": "execute_result",
     "data": {
      "text/plain": [
       "        tugas  praktikum        uts        uas\n",
       "0   68.924523  88.157223  58.615912  66.127834\n",
       "1   73.738636  87.914201  73.060888  68.512144\n",
       "2   68.153936  85.230495  47.412113  64.865571\n",
       "3   84.287147  83.694998  72.348831  72.595102\n",
       "4   56.555990  86.658983  70.526285  77.216318\n",
       "5   70.329976  85.800149  68.975408  72.127953\n",
       "6   97.924903  85.026968  52.380075  74.011678\n",
       "7   79.888101  86.923308  62.042072  61.469886\n",
       "8   82.102670  84.466879  37.618281  64.599704\n",
       "9   85.555344  87.088833  69.174983  67.532436\n",
       "10  75.540731  81.433825  80.542914  94.062143\n",
       "11  77.579534  84.004909  34.459029  72.503904\n",
       "12  80.882816  85.090228  52.218285  71.572437\n",
       "13  83.852442  81.676254  41.479452  72.221237\n",
       "14  64.829930  83.350225  16.785081  68.514238\n",
       "15  73.663070  78.901271  59.764151  67.804981\n",
       "16  70.618145  89.223753  34.609730  81.408150\n",
       "17  79.934435  86.899325  50.705480  71.213974\n",
       "18  73.009909  91.638241  73.114878  70.801429\n",
       "19  62.250164  83.420193  85.792785  70.616443\n",
       "20  77.934942  86.628645  60.514351  72.127675\n",
       "21  76.089503  84.746561  47.273485  67.343517\n",
       "22  75.317268  88.876045  64.032470  63.767378\n",
       "23  87.726399  84.469868  33.879342  76.219635\n",
       "24  85.714479  90.063361  61.897395  76.005092\n",
       "25  79.158180  81.860159  57.678089  75.378861\n",
       "26  90.506792  86.926361  72.104113  74.225174\n",
       "27  71.886211  84.481115  46.630340  71.810653\n",
       "28  61.207601  81.663805  59.031648  56.349517\n",
       "29  88.714088  84.937892  57.956051  65.521082\n",
       "30  75.277117  79.559435  57.391592  67.106881\n",
       "31  71.796004  85.610566  79.824496  71.620923\n",
       "32  66.538296  86.595622  36.471564  64.890014\n",
       "33  70.665711  81.948930  51.320413  81.325749\n",
       "34  61.629655  79.455848  66.540092  59.380811\n",
       "35  77.091722  85.517647  48.706368  73.192019\n",
       "36  60.756787  87.358605  46.138467  63.978182\n",
       "37  69.465231  84.785590  23.444203  62.586605\n",
       "38  75.747986  87.509046  36.178642  64.803370\n",
       "39  69.943802  84.405313  46.079842  68.695245"
      ],
      "text/html": "<div>\n<style scoped>\n    .dataframe tbody tr th:only-of-type {\n        vertical-align: middle;\n    }\n\n    .dataframe tbody tr th {\n        vertical-align: top;\n    }\n\n    .dataframe thead th {\n        text-align: right;\n    }\n</style>\n<table border=\"1\" class=\"dataframe\">\n  <thead>\n    <tr style=\"text-align: right;\">\n      <th></th>\n      <th>tugas</th>\n      <th>praktikum</th>\n      <th>uts</th>\n      <th>uas</th>\n    </tr>\n  </thead>\n  <tbody>\n    <tr>\n      <th>0</th>\n      <td>68.924523</td>\n      <td>88.157223</td>\n      <td>58.615912</td>\n      <td>66.127834</td>\n    </tr>\n    <tr>\n      <th>1</th>\n      <td>73.738636</td>\n      <td>87.914201</td>\n      <td>73.060888</td>\n      <td>68.512144</td>\n    </tr>\n    <tr>\n      <th>2</th>\n      <td>68.153936</td>\n      <td>85.230495</td>\n      <td>47.412113</td>\n      <td>64.865571</td>\n    </tr>\n    <tr>\n      <th>3</th>\n      <td>84.287147</td>\n      <td>83.694998</td>\n      <td>72.348831</td>\n      <td>72.595102</td>\n    </tr>\n    <tr>\n      <th>4</th>\n      <td>56.555990</td>\n      <td>86.658983</td>\n      <td>70.526285</td>\n      <td>77.216318</td>\n    </tr>\n    <tr>\n      <th>5</th>\n      <td>70.329976</td>\n      <td>85.800149</td>\n      <td>68.975408</td>\n      <td>72.127953</td>\n    </tr>\n    <tr>\n      <th>6</th>\n      <td>97.924903</td>\n      <td>85.026968</td>\n      <td>52.380075</td>\n      <td>74.011678</td>\n    </tr>\n    <tr>\n      <th>7</th>\n      <td>79.888101</td>\n      <td>86.923308</td>\n      <td>62.042072</td>\n      <td>61.469886</td>\n    </tr>\n    <tr>\n      <th>8</th>\n      <td>82.102670</td>\n      <td>84.466879</td>\n      <td>37.618281</td>\n      <td>64.599704</td>\n    </tr>\n    <tr>\n      <th>9</th>\n      <td>85.555344</td>\n      <td>87.088833</td>\n      <td>69.174983</td>\n      <td>67.532436</td>\n    </tr>\n    <tr>\n      <th>10</th>\n      <td>75.540731</td>\n      <td>81.433825</td>\n      <td>80.542914</td>\n      <td>94.062143</td>\n    </tr>\n    <tr>\n      <th>11</th>\n      <td>77.579534</td>\n      <td>84.004909</td>\n      <td>34.459029</td>\n      <td>72.503904</td>\n    </tr>\n    <tr>\n      <th>12</th>\n      <td>80.882816</td>\n      <td>85.090228</td>\n      <td>52.218285</td>\n      <td>71.572437</td>\n    </tr>\n    <tr>\n      <th>13</th>\n      <td>83.852442</td>\n      <td>81.676254</td>\n      <td>41.479452</td>\n      <td>72.221237</td>\n    </tr>\n    <tr>\n      <th>14</th>\n      <td>64.829930</td>\n      <td>83.350225</td>\n      <td>16.785081</td>\n      <td>68.514238</td>\n    </tr>\n    <tr>\n      <th>15</th>\n      <td>73.663070</td>\n      <td>78.901271</td>\n      <td>59.764151</td>\n      <td>67.804981</td>\n    </tr>\n    <tr>\n      <th>16</th>\n      <td>70.618145</td>\n      <td>89.223753</td>\n      <td>34.609730</td>\n      <td>81.408150</td>\n    </tr>\n    <tr>\n      <th>17</th>\n      <td>79.934435</td>\n      <td>86.899325</td>\n      <td>50.705480</td>\n      <td>71.213974</td>\n    </tr>\n    <tr>\n      <th>18</th>\n      <td>73.009909</td>\n      <td>91.638241</td>\n      <td>73.114878</td>\n      <td>70.801429</td>\n    </tr>\n    <tr>\n      <th>19</th>\n      <td>62.250164</td>\n      <td>83.420193</td>\n      <td>85.792785</td>\n      <td>70.616443</td>\n    </tr>\n    <tr>\n      <th>20</th>\n      <td>77.934942</td>\n      <td>86.628645</td>\n      <td>60.514351</td>\n      <td>72.127675</td>\n    </tr>\n    <tr>\n      <th>21</th>\n      <td>76.089503</td>\n      <td>84.746561</td>\n      <td>47.273485</td>\n      <td>67.343517</td>\n    </tr>\n    <tr>\n      <th>22</th>\n      <td>75.317268</td>\n      <td>88.876045</td>\n      <td>64.032470</td>\n      <td>63.767378</td>\n    </tr>\n    <tr>\n      <th>23</th>\n      <td>87.726399</td>\n      <td>84.469868</td>\n      <td>33.879342</td>\n      <td>76.219635</td>\n    </tr>\n    <tr>\n      <th>24</th>\n      <td>85.714479</td>\n      <td>90.063361</td>\n      <td>61.897395</td>\n      <td>76.005092</td>\n    </tr>\n    <tr>\n      <th>25</th>\n      <td>79.158180</td>\n      <td>81.860159</td>\n      <td>57.678089</td>\n      <td>75.378861</td>\n    </tr>\n    <tr>\n      <th>26</th>\n      <td>90.506792</td>\n      <td>86.926361</td>\n      <td>72.104113</td>\n      <td>74.225174</td>\n    </tr>\n    <tr>\n      <th>27</th>\n      <td>71.886211</td>\n      <td>84.481115</td>\n      <td>46.630340</td>\n      <td>71.810653</td>\n    </tr>\n    <tr>\n      <th>28</th>\n      <td>61.207601</td>\n      <td>81.663805</td>\n      <td>59.031648</td>\n      <td>56.349517</td>\n    </tr>\n    <tr>\n      <th>29</th>\n      <td>88.714088</td>\n      <td>84.937892</td>\n      <td>57.956051</td>\n      <td>65.521082</td>\n    </tr>\n    <tr>\n      <th>30</th>\n      <td>75.277117</td>\n      <td>79.559435</td>\n      <td>57.391592</td>\n      <td>67.106881</td>\n    </tr>\n    <tr>\n      <th>31</th>\n      <td>71.796004</td>\n      <td>85.610566</td>\n      <td>79.824496</td>\n      <td>71.620923</td>\n    </tr>\n    <tr>\n      <th>32</th>\n      <td>66.538296</td>\n      <td>86.595622</td>\n      <td>36.471564</td>\n      <td>64.890014</td>\n    </tr>\n    <tr>\n      <th>33</th>\n      <td>70.665711</td>\n      <td>81.948930</td>\n      <td>51.320413</td>\n      <td>81.325749</td>\n    </tr>\n    <tr>\n      <th>34</th>\n      <td>61.629655</td>\n      <td>79.455848</td>\n      <td>66.540092</td>\n      <td>59.380811</td>\n    </tr>\n    <tr>\n      <th>35</th>\n      <td>77.091722</td>\n      <td>85.517647</td>\n      <td>48.706368</td>\n      <td>73.192019</td>\n    </tr>\n    <tr>\n      <th>36</th>\n      <td>60.756787</td>\n      <td>87.358605</td>\n      <td>46.138467</td>\n      <td>63.978182</td>\n    </tr>\n    <tr>\n      <th>37</th>\n      <td>69.465231</td>\n      <td>84.785590</td>\n      <td>23.444203</td>\n      <td>62.586605</td>\n    </tr>\n    <tr>\n      <th>38</th>\n      <td>75.747986</td>\n      <td>87.509046</td>\n      <td>36.178642</td>\n      <td>64.803370</td>\n    </tr>\n    <tr>\n      <th>39</th>\n      <td>69.943802</td>\n      <td>84.405313</td>\n      <td>46.079842</td>\n      <td>68.695245</td>\n    </tr>\n  </tbody>\n</table>\n</div>"
     },
     "metadata": {},
     "execution_count": 83
    }
   ],
   "source": [
    "nilai = pd.DataFrame({'tugas':tugas,'praktikum':praktik,'uts':uts,'uas':uas})\n",
    "nilai"
   ]
  },
  {
   "cell_type": "code",
   "execution_count": 88,
   "metadata": {},
   "outputs": [],
   "source": [
    "persentasi = np.random.normal(90,1,40)\n",
    "nilai['persentasi'] = persentasi"
   ]
  },
  {
   "cell_type": "code",
   "execution_count": 89,
   "metadata": {},
   "outputs": [
    {
     "output_type": "execute_result",
     "data": {
      "text/plain": [
       "       tugas  praktikum        uts        uas  persentasi\n",
       "0  68.924523  88.157223  58.615912  66.127834   91.284083\n",
       "1  73.738636  87.914201  73.060888  68.512144   89.474742\n",
       "2  68.153936  85.230495  47.412113  64.865571   92.452354\n",
       "3  84.287147  83.694998  72.348831  72.595102   88.293673\n",
       "4  56.555990  86.658983  70.526285  77.216318   90.450060"
      ],
      "text/html": "<div>\n<style scoped>\n    .dataframe tbody tr th:only-of-type {\n        vertical-align: middle;\n    }\n\n    .dataframe tbody tr th {\n        vertical-align: top;\n    }\n\n    .dataframe thead th {\n        text-align: right;\n    }\n</style>\n<table border=\"1\" class=\"dataframe\">\n  <thead>\n    <tr style=\"text-align: right;\">\n      <th></th>\n      <th>tugas</th>\n      <th>praktikum</th>\n      <th>uts</th>\n      <th>uas</th>\n      <th>persentasi</th>\n    </tr>\n  </thead>\n  <tbody>\n    <tr>\n      <th>0</th>\n      <td>68.924523</td>\n      <td>88.157223</td>\n      <td>58.615912</td>\n      <td>66.127834</td>\n      <td>91.284083</td>\n    </tr>\n    <tr>\n      <th>1</th>\n      <td>73.738636</td>\n      <td>87.914201</td>\n      <td>73.060888</td>\n      <td>68.512144</td>\n      <td>89.474742</td>\n    </tr>\n    <tr>\n      <th>2</th>\n      <td>68.153936</td>\n      <td>85.230495</td>\n      <td>47.412113</td>\n      <td>64.865571</td>\n      <td>92.452354</td>\n    </tr>\n    <tr>\n      <th>3</th>\n      <td>84.287147</td>\n      <td>83.694998</td>\n      <td>72.348831</td>\n      <td>72.595102</td>\n      <td>88.293673</td>\n    </tr>\n    <tr>\n      <th>4</th>\n      <td>56.555990</td>\n      <td>86.658983</td>\n      <td>70.526285</td>\n      <td>77.216318</td>\n      <td>90.450060</td>\n    </tr>\n  </tbody>\n</table>\n</div>"
     },
     "metadata": {},
     "execution_count": 89
    }
   ],
   "source": [
    "nilai.head()"
   ]
  },
  {
   "cell_type": "code",
   "execution_count": 90,
   "metadata": {},
   "outputs": [
    {
     "output_type": "execute_result",
     "data": {
      "text/plain": [
       "       tugas  praktikum  persentasi        uts        uas\n",
       "0  68.924523  88.157223   91.284083  58.615912  66.127834\n",
       "1  73.738636  87.914201   89.474742  73.060888  68.512144\n",
       "2  68.153936  85.230495   92.452354  47.412113  64.865571\n",
       "3  84.287147  83.694998   88.293673  72.348831  72.595102\n",
       "4  56.555990  86.658983   90.450060  70.526285  77.216318"
      ],
      "text/html": "<div>\n<style scoped>\n    .dataframe tbody tr th:only-of-type {\n        vertical-align: middle;\n    }\n\n    .dataframe tbody tr th {\n        vertical-align: top;\n    }\n\n    .dataframe thead th {\n        text-align: right;\n    }\n</style>\n<table border=\"1\" class=\"dataframe\">\n  <thead>\n    <tr style=\"text-align: right;\">\n      <th></th>\n      <th>tugas</th>\n      <th>praktikum</th>\n      <th>persentasi</th>\n      <th>uts</th>\n      <th>uas</th>\n    </tr>\n  </thead>\n  <tbody>\n    <tr>\n      <th>0</th>\n      <td>68.924523</td>\n      <td>88.157223</td>\n      <td>91.284083</td>\n      <td>58.615912</td>\n      <td>66.127834</td>\n    </tr>\n    <tr>\n      <th>1</th>\n      <td>73.738636</td>\n      <td>87.914201</td>\n      <td>89.474742</td>\n      <td>73.060888</td>\n      <td>68.512144</td>\n    </tr>\n    <tr>\n      <th>2</th>\n      <td>68.153936</td>\n      <td>85.230495</td>\n      <td>92.452354</td>\n      <td>47.412113</td>\n      <td>64.865571</td>\n    </tr>\n    <tr>\n      <th>3</th>\n      <td>84.287147</td>\n      <td>83.694998</td>\n      <td>88.293673</td>\n      <td>72.348831</td>\n      <td>72.595102</td>\n    </tr>\n    <tr>\n      <th>4</th>\n      <td>56.555990</td>\n      <td>86.658983</td>\n      <td>90.450060</td>\n      <td>70.526285</td>\n      <td>77.216318</td>\n    </tr>\n  </tbody>\n</table>\n</div>"
     },
     "metadata": {},
     "execution_count": 90
    }
   ],
   "source": [
    "nilai = nilai[['tugas','praktikum','persentasi','uts','uas']]\n",
    "nilai.head()"
   ]
  },
  {
   "cell_type": "code",
   "execution_count": 58,
   "metadata": {},
   "outputs": [
    {
     "output_type": "execute_result",
     "data": {
      "text/plain": [
       "        tugas  praktikum  persentasi        uts        uas\n",
       "2   68.153936  85.230495   90.207976  47.412113  64.865571\n",
       "8   82.102670  84.466879   89.550060  37.618281  64.599704\n",
       "11  77.579534  84.004909   91.527836  34.459029  72.503904\n",
       "13  83.852442  81.676254   88.605115  41.479452  72.221237\n",
       "14  64.829930  83.350225   90.082724  16.785081  68.514238\n",
       "16  70.618145  89.223753   90.444807  34.609730  81.408150\n",
       "21  76.089503  84.746561   89.779631  47.273485  67.343517\n",
       "23  87.726399  84.469868   90.820009  33.879342  76.219635\n",
       "27  71.886211  84.481115   90.795117  46.630340  71.810653\n",
       "32  66.538296  86.595622   87.880055  36.471564  64.890014\n",
       "35  77.091722  85.517647   90.081323  48.706368  73.192019\n",
       "36  60.756787  87.358605   90.947083  46.138467  63.978182\n",
       "37  69.465231  84.785590   89.466283  23.444203  62.586605\n",
       "38  75.747986  87.509046   90.013596  36.178642  64.803370\n",
       "39  69.943802  84.405313   88.561620  46.079842  68.695245"
      ],
      "text/html": "<div>\n<style scoped>\n    .dataframe tbody tr th:only-of-type {\n        vertical-align: middle;\n    }\n\n    .dataframe tbody tr th {\n        vertical-align: top;\n    }\n\n    .dataframe thead th {\n        text-align: right;\n    }\n</style>\n<table border=\"1\" class=\"dataframe\">\n  <thead>\n    <tr style=\"text-align: right;\">\n      <th></th>\n      <th>tugas</th>\n      <th>praktikum</th>\n      <th>persentasi</th>\n      <th>uts</th>\n      <th>uas</th>\n    </tr>\n  </thead>\n  <tbody>\n    <tr>\n      <th>2</th>\n      <td>68.153936</td>\n      <td>85.230495</td>\n      <td>90.207976</td>\n      <td>47.412113</td>\n      <td>64.865571</td>\n    </tr>\n    <tr>\n      <th>8</th>\n      <td>82.102670</td>\n      <td>84.466879</td>\n      <td>89.550060</td>\n      <td>37.618281</td>\n      <td>64.599704</td>\n    </tr>\n    <tr>\n      <th>11</th>\n      <td>77.579534</td>\n      <td>84.004909</td>\n      <td>91.527836</td>\n      <td>34.459029</td>\n      <td>72.503904</td>\n    </tr>\n    <tr>\n      <th>13</th>\n      <td>83.852442</td>\n      <td>81.676254</td>\n      <td>88.605115</td>\n      <td>41.479452</td>\n      <td>72.221237</td>\n    </tr>\n    <tr>\n      <th>14</th>\n      <td>64.829930</td>\n      <td>83.350225</td>\n      <td>90.082724</td>\n      <td>16.785081</td>\n      <td>68.514238</td>\n    </tr>\n    <tr>\n      <th>16</th>\n      <td>70.618145</td>\n      <td>89.223753</td>\n      <td>90.444807</td>\n      <td>34.609730</td>\n      <td>81.408150</td>\n    </tr>\n    <tr>\n      <th>21</th>\n      <td>76.089503</td>\n      <td>84.746561</td>\n      <td>89.779631</td>\n      <td>47.273485</td>\n      <td>67.343517</td>\n    </tr>\n    <tr>\n      <th>23</th>\n      <td>87.726399</td>\n      <td>84.469868</td>\n      <td>90.820009</td>\n      <td>33.879342</td>\n      <td>76.219635</td>\n    </tr>\n    <tr>\n      <th>27</th>\n      <td>71.886211</td>\n      <td>84.481115</td>\n      <td>90.795117</td>\n      <td>46.630340</td>\n      <td>71.810653</td>\n    </tr>\n    <tr>\n      <th>32</th>\n      <td>66.538296</td>\n      <td>86.595622</td>\n      <td>87.880055</td>\n      <td>36.471564</td>\n      <td>64.890014</td>\n    </tr>\n    <tr>\n      <th>35</th>\n      <td>77.091722</td>\n      <td>85.517647</td>\n      <td>90.081323</td>\n      <td>48.706368</td>\n      <td>73.192019</td>\n    </tr>\n    <tr>\n      <th>36</th>\n      <td>60.756787</td>\n      <td>87.358605</td>\n      <td>90.947083</td>\n      <td>46.138467</td>\n      <td>63.978182</td>\n    </tr>\n    <tr>\n      <th>37</th>\n      <td>69.465231</td>\n      <td>84.785590</td>\n      <td>89.466283</td>\n      <td>23.444203</td>\n      <td>62.586605</td>\n    </tr>\n    <tr>\n      <th>38</th>\n      <td>75.747986</td>\n      <td>87.509046</td>\n      <td>90.013596</td>\n      <td>36.178642</td>\n      <td>64.803370</td>\n    </tr>\n    <tr>\n      <th>39</th>\n      <td>69.943802</td>\n      <td>84.405313</td>\n      <td>88.561620</td>\n      <td>46.079842</td>\n      <td>68.695245</td>\n    </tr>\n  </tbody>\n</table>\n</div>"
     },
     "metadata": {},
     "execution_count": 58
    }
   ],
   "source": [
    "nilai[nilai['uts'] < 50]"
   ]
  },
  {
   "cell_type": "code",
   "execution_count": 92,
   "metadata": {},
   "outputs": [],
   "source": [
    "nilai['remedial_uts'] = 0"
   ]
  },
  {
   "cell_type": "code",
   "execution_count": 93,
   "metadata": {},
   "outputs": [
    {
     "output_type": "execute_result",
     "data": {
      "text/plain": [
       "        tugas  praktikum  persentasi        uts        uas  remedial_uts\n",
       "0   68.924523  88.157223   91.284083  58.615912  66.127834             0\n",
       "1   73.738636  87.914201   89.474742  73.060888  68.512144             0\n",
       "2   68.153936  85.230495   92.452354  47.412113  64.865571             0\n",
       "3   84.287147  83.694998   88.293673  72.348831  72.595102             0\n",
       "4   56.555990  86.658983   90.450060  70.526285  77.216318             0\n",
       "5   70.329976  85.800149   88.957860  68.975408  72.127953             0\n",
       "6   97.924903  85.026968   88.523256  52.380075  74.011678             0\n",
       "7   79.888101  86.923308   89.481299  62.042072  61.469886             0\n",
       "8   82.102670  84.466879   89.982448  37.618281  64.599704             0\n",
       "9   85.555344  87.088833   91.951021  69.174983  67.532436             0\n",
       "10  75.540731  81.433825   90.368098  80.542914  94.062143             0\n",
       "11  77.579534  84.004909   89.023701  34.459029  72.503904             0\n",
       "12  80.882816  85.090228   90.354309  52.218285  71.572437             0\n",
       "13  83.852442  81.676254   89.361049  41.479452  72.221237             0\n",
       "14  64.829930  83.350225   89.753282  16.785081  68.514238             0\n",
       "15  73.663070  78.901271   89.488795  59.764151  67.804981             0\n",
       "16  70.618145  89.223753   89.669852  34.609730  81.408150             0\n",
       "17  79.934435  86.899325   88.549823  50.705480  71.213974             0\n",
       "18  73.009909  91.638241   89.976017  73.114878  70.801429             0\n",
       "19  62.250164  83.420193   87.087763  85.792785  70.616443             0\n",
       "20  77.934942  86.628645   89.604813  60.514351  72.127675             0\n",
       "21  76.089503  84.746561   90.596750  47.273485  67.343517             0\n",
       "22  75.317268  88.876045   88.171647  64.032470  63.767378             0\n",
       "23  87.726399  84.469868   87.136056  33.879342  76.219635             0\n",
       "24  85.714479  90.063361   90.692471  61.897395  76.005092             0\n",
       "25  79.158180  81.860159   91.209303  57.678089  75.378861             0\n",
       "26  90.506792  86.926361   90.665396  72.104113  74.225174             0\n",
       "27  71.886211  84.481115   89.384933  46.630340  71.810653             0\n",
       "28  61.207601  81.663805   89.878107  59.031648  56.349517             0\n",
       "29  88.714088  84.937892   90.413941  57.956051  65.521082             0\n",
       "30  75.277117  79.559435   88.854738  57.391592  67.106881             0\n",
       "31  71.796004  85.610566   89.958122  79.824496  71.620923             0\n",
       "32  66.538296  86.595622   90.351959  36.471564  64.890014             0\n",
       "33  70.665711  81.948930   87.489990  51.320413  81.325749             0\n",
       "34  61.629655  79.455848   89.880397  66.540092  59.380811             0\n",
       "35  77.091722  85.517647   90.433449  48.706368  73.192019             0\n",
       "36  60.756787  87.358605   89.570352  46.138467  63.978182             0\n",
       "37  69.465231  84.785590   89.745942  23.444203  62.586605             0\n",
       "38  75.747986  87.509046   89.188927  36.178642  64.803370             0\n",
       "39  69.943802  84.405313   88.367947  46.079842  68.695245             0"
      ],
      "text/html": "<div>\n<style scoped>\n    .dataframe tbody tr th:only-of-type {\n        vertical-align: middle;\n    }\n\n    .dataframe tbody tr th {\n        vertical-align: top;\n    }\n\n    .dataframe thead th {\n        text-align: right;\n    }\n</style>\n<table border=\"1\" class=\"dataframe\">\n  <thead>\n    <tr style=\"text-align: right;\">\n      <th></th>\n      <th>tugas</th>\n      <th>praktikum</th>\n      <th>persentasi</th>\n      <th>uts</th>\n      <th>uas</th>\n      <th>remedial_uts</th>\n    </tr>\n  </thead>\n  <tbody>\n    <tr>\n      <th>0</th>\n      <td>68.924523</td>\n      <td>88.157223</td>\n      <td>91.284083</td>\n      <td>58.615912</td>\n      <td>66.127834</td>\n      <td>0</td>\n    </tr>\n    <tr>\n      <th>1</th>\n      <td>73.738636</td>\n      <td>87.914201</td>\n      <td>89.474742</td>\n      <td>73.060888</td>\n      <td>68.512144</td>\n      <td>0</td>\n    </tr>\n    <tr>\n      <th>2</th>\n      <td>68.153936</td>\n      <td>85.230495</td>\n      <td>92.452354</td>\n      <td>47.412113</td>\n      <td>64.865571</td>\n      <td>0</td>\n    </tr>\n    <tr>\n      <th>3</th>\n      <td>84.287147</td>\n      <td>83.694998</td>\n      <td>88.293673</td>\n      <td>72.348831</td>\n      <td>72.595102</td>\n      <td>0</td>\n    </tr>\n    <tr>\n      <th>4</th>\n      <td>56.555990</td>\n      <td>86.658983</td>\n      <td>90.450060</td>\n      <td>70.526285</td>\n      <td>77.216318</td>\n      <td>0</td>\n    </tr>\n    <tr>\n      <th>5</th>\n      <td>70.329976</td>\n      <td>85.800149</td>\n      <td>88.957860</td>\n      <td>68.975408</td>\n      <td>72.127953</td>\n      <td>0</td>\n    </tr>\n    <tr>\n      <th>6</th>\n      <td>97.924903</td>\n      <td>85.026968</td>\n      <td>88.523256</td>\n      <td>52.380075</td>\n      <td>74.011678</td>\n      <td>0</td>\n    </tr>\n    <tr>\n      <th>7</th>\n      <td>79.888101</td>\n      <td>86.923308</td>\n      <td>89.481299</td>\n      <td>62.042072</td>\n      <td>61.469886</td>\n      <td>0</td>\n    </tr>\n    <tr>\n      <th>8</th>\n      <td>82.102670</td>\n      <td>84.466879</td>\n      <td>89.982448</td>\n      <td>37.618281</td>\n      <td>64.599704</td>\n      <td>0</td>\n    </tr>\n    <tr>\n      <th>9</th>\n      <td>85.555344</td>\n      <td>87.088833</td>\n      <td>91.951021</td>\n      <td>69.174983</td>\n      <td>67.532436</td>\n      <td>0</td>\n    </tr>\n    <tr>\n      <th>10</th>\n      <td>75.540731</td>\n      <td>81.433825</td>\n      <td>90.368098</td>\n      <td>80.542914</td>\n      <td>94.062143</td>\n      <td>0</td>\n    </tr>\n    <tr>\n      <th>11</th>\n      <td>77.579534</td>\n      <td>84.004909</td>\n      <td>89.023701</td>\n      <td>34.459029</td>\n      <td>72.503904</td>\n      <td>0</td>\n    </tr>\n    <tr>\n      <th>12</th>\n      <td>80.882816</td>\n      <td>85.090228</td>\n      <td>90.354309</td>\n      <td>52.218285</td>\n      <td>71.572437</td>\n      <td>0</td>\n    </tr>\n    <tr>\n      <th>13</th>\n      <td>83.852442</td>\n      <td>81.676254</td>\n      <td>89.361049</td>\n      <td>41.479452</td>\n      <td>72.221237</td>\n      <td>0</td>\n    </tr>\n    <tr>\n      <th>14</th>\n      <td>64.829930</td>\n      <td>83.350225</td>\n      <td>89.753282</td>\n      <td>16.785081</td>\n      <td>68.514238</td>\n      <td>0</td>\n    </tr>\n    <tr>\n      <th>15</th>\n      <td>73.663070</td>\n      <td>78.901271</td>\n      <td>89.488795</td>\n      <td>59.764151</td>\n      <td>67.804981</td>\n      <td>0</td>\n    </tr>\n    <tr>\n      <th>16</th>\n      <td>70.618145</td>\n      <td>89.223753</td>\n      <td>89.669852</td>\n      <td>34.609730</td>\n      <td>81.408150</td>\n      <td>0</td>\n    </tr>\n    <tr>\n      <th>17</th>\n      <td>79.934435</td>\n      <td>86.899325</td>\n      <td>88.549823</td>\n      <td>50.705480</td>\n      <td>71.213974</td>\n      <td>0</td>\n    </tr>\n    <tr>\n      <th>18</th>\n      <td>73.009909</td>\n      <td>91.638241</td>\n      <td>89.976017</td>\n      <td>73.114878</td>\n      <td>70.801429</td>\n      <td>0</td>\n    </tr>\n    <tr>\n      <th>19</th>\n      <td>62.250164</td>\n      <td>83.420193</td>\n      <td>87.087763</td>\n      <td>85.792785</td>\n      <td>70.616443</td>\n      <td>0</td>\n    </tr>\n    <tr>\n      <th>20</th>\n      <td>77.934942</td>\n      <td>86.628645</td>\n      <td>89.604813</td>\n      <td>60.514351</td>\n      <td>72.127675</td>\n      <td>0</td>\n    </tr>\n    <tr>\n      <th>21</th>\n      <td>76.089503</td>\n      <td>84.746561</td>\n      <td>90.596750</td>\n      <td>47.273485</td>\n      <td>67.343517</td>\n      <td>0</td>\n    </tr>\n    <tr>\n      <th>22</th>\n      <td>75.317268</td>\n      <td>88.876045</td>\n      <td>88.171647</td>\n      <td>64.032470</td>\n      <td>63.767378</td>\n      <td>0</td>\n    </tr>\n    <tr>\n      <th>23</th>\n      <td>87.726399</td>\n      <td>84.469868</td>\n      <td>87.136056</td>\n      <td>33.879342</td>\n      <td>76.219635</td>\n      <td>0</td>\n    </tr>\n    <tr>\n      <th>24</th>\n      <td>85.714479</td>\n      <td>90.063361</td>\n      <td>90.692471</td>\n      <td>61.897395</td>\n      <td>76.005092</td>\n      <td>0</td>\n    </tr>\n    <tr>\n      <th>25</th>\n      <td>79.158180</td>\n      <td>81.860159</td>\n      <td>91.209303</td>\n      <td>57.678089</td>\n      <td>75.378861</td>\n      <td>0</td>\n    </tr>\n    <tr>\n      <th>26</th>\n      <td>90.506792</td>\n      <td>86.926361</td>\n      <td>90.665396</td>\n      <td>72.104113</td>\n      <td>74.225174</td>\n      <td>0</td>\n    </tr>\n    <tr>\n      <th>27</th>\n      <td>71.886211</td>\n      <td>84.481115</td>\n      <td>89.384933</td>\n      <td>46.630340</td>\n      <td>71.810653</td>\n      <td>0</td>\n    </tr>\n    <tr>\n      <th>28</th>\n      <td>61.207601</td>\n      <td>81.663805</td>\n      <td>89.878107</td>\n      <td>59.031648</td>\n      <td>56.349517</td>\n      <td>0</td>\n    </tr>\n    <tr>\n      <th>29</th>\n      <td>88.714088</td>\n      <td>84.937892</td>\n      <td>90.413941</td>\n      <td>57.956051</td>\n      <td>65.521082</td>\n      <td>0</td>\n    </tr>\n    <tr>\n      <th>30</th>\n      <td>75.277117</td>\n      <td>79.559435</td>\n      <td>88.854738</td>\n      <td>57.391592</td>\n      <td>67.106881</td>\n      <td>0</td>\n    </tr>\n    <tr>\n      <th>31</th>\n      <td>71.796004</td>\n      <td>85.610566</td>\n      <td>89.958122</td>\n      <td>79.824496</td>\n      <td>71.620923</td>\n      <td>0</td>\n    </tr>\n    <tr>\n      <th>32</th>\n      <td>66.538296</td>\n      <td>86.595622</td>\n      <td>90.351959</td>\n      <td>36.471564</td>\n      <td>64.890014</td>\n      <td>0</td>\n    </tr>\n    <tr>\n      <th>33</th>\n      <td>70.665711</td>\n      <td>81.948930</td>\n      <td>87.489990</td>\n      <td>51.320413</td>\n      <td>81.325749</td>\n      <td>0</td>\n    </tr>\n    <tr>\n      <th>34</th>\n      <td>61.629655</td>\n      <td>79.455848</td>\n      <td>89.880397</td>\n      <td>66.540092</td>\n      <td>59.380811</td>\n      <td>0</td>\n    </tr>\n    <tr>\n      <th>35</th>\n      <td>77.091722</td>\n      <td>85.517647</td>\n      <td>90.433449</td>\n      <td>48.706368</td>\n      <td>73.192019</td>\n      <td>0</td>\n    </tr>\n    <tr>\n      <th>36</th>\n      <td>60.756787</td>\n      <td>87.358605</td>\n      <td>89.570352</td>\n      <td>46.138467</td>\n      <td>63.978182</td>\n      <td>0</td>\n    </tr>\n    <tr>\n      <th>37</th>\n      <td>69.465231</td>\n      <td>84.785590</td>\n      <td>89.745942</td>\n      <td>23.444203</td>\n      <td>62.586605</td>\n      <td>0</td>\n    </tr>\n    <tr>\n      <th>38</th>\n      <td>75.747986</td>\n      <td>87.509046</td>\n      <td>89.188927</td>\n      <td>36.178642</td>\n      <td>64.803370</td>\n      <td>0</td>\n    </tr>\n    <tr>\n      <th>39</th>\n      <td>69.943802</td>\n      <td>84.405313</td>\n      <td>88.367947</td>\n      <td>46.079842</td>\n      <td>68.695245</td>\n      <td>0</td>\n    </tr>\n  </tbody>\n</table>\n</div>"
     },
     "metadata": {},
     "execution_count": 93
    }
   ],
   "source": [
    "nilai"
   ]
  },
  {
   "cell_type": "code",
   "execution_count": 94,
   "metadata": {},
   "outputs": [
    {
     "output_type": "execute_result",
     "data": {
      "text/plain": [
       "        tugas  praktikum  persentasi        uts        uas  remedial_uts\n",
       "2   68.153936  85.230495   92.452354  47.412113  64.865571             0\n",
       "8   82.102670  84.466879   89.982448  37.618281  64.599704             0\n",
       "11  77.579534  84.004909   89.023701  34.459029  72.503904             0\n",
       "13  83.852442  81.676254   89.361049  41.479452  72.221237             0\n",
       "14  64.829930  83.350225   89.753282  16.785081  68.514238             0\n",
       "16  70.618145  89.223753   89.669852  34.609730  81.408150             0\n",
       "21  76.089503  84.746561   90.596750  47.273485  67.343517             0\n",
       "23  87.726399  84.469868   87.136056  33.879342  76.219635             0\n",
       "27  71.886211  84.481115   89.384933  46.630340  71.810653             0\n",
       "32  66.538296  86.595622   90.351959  36.471564  64.890014             0\n",
       "35  77.091722  85.517647   90.433449  48.706368  73.192019             0\n",
       "36  60.756787  87.358605   89.570352  46.138467  63.978182             0\n",
       "37  69.465231  84.785590   89.745942  23.444203  62.586605             0\n",
       "38  75.747986  87.509046   89.188927  36.178642  64.803370             0\n",
       "39  69.943802  84.405313   88.367947  46.079842  68.695245             0"
      ],
      "text/html": "<div>\n<style scoped>\n    .dataframe tbody tr th:only-of-type {\n        vertical-align: middle;\n    }\n\n    .dataframe tbody tr th {\n        vertical-align: top;\n    }\n\n    .dataframe thead th {\n        text-align: right;\n    }\n</style>\n<table border=\"1\" class=\"dataframe\">\n  <thead>\n    <tr style=\"text-align: right;\">\n      <th></th>\n      <th>tugas</th>\n      <th>praktikum</th>\n      <th>persentasi</th>\n      <th>uts</th>\n      <th>uas</th>\n      <th>remedial_uts</th>\n    </tr>\n  </thead>\n  <tbody>\n    <tr>\n      <th>2</th>\n      <td>68.153936</td>\n      <td>85.230495</td>\n      <td>92.452354</td>\n      <td>47.412113</td>\n      <td>64.865571</td>\n      <td>0</td>\n    </tr>\n    <tr>\n      <th>8</th>\n      <td>82.102670</td>\n      <td>84.466879</td>\n      <td>89.982448</td>\n      <td>37.618281</td>\n      <td>64.599704</td>\n      <td>0</td>\n    </tr>\n    <tr>\n      <th>11</th>\n      <td>77.579534</td>\n      <td>84.004909</td>\n      <td>89.023701</td>\n      <td>34.459029</td>\n      <td>72.503904</td>\n      <td>0</td>\n    </tr>\n    <tr>\n      <th>13</th>\n      <td>83.852442</td>\n      <td>81.676254</td>\n      <td>89.361049</td>\n      <td>41.479452</td>\n      <td>72.221237</td>\n      <td>0</td>\n    </tr>\n    <tr>\n      <th>14</th>\n      <td>64.829930</td>\n      <td>83.350225</td>\n      <td>89.753282</td>\n      <td>16.785081</td>\n      <td>68.514238</td>\n      <td>0</td>\n    </tr>\n    <tr>\n      <th>16</th>\n      <td>70.618145</td>\n      <td>89.223753</td>\n      <td>89.669852</td>\n      <td>34.609730</td>\n      <td>81.408150</td>\n      <td>0</td>\n    </tr>\n    <tr>\n      <th>21</th>\n      <td>76.089503</td>\n      <td>84.746561</td>\n      <td>90.596750</td>\n      <td>47.273485</td>\n      <td>67.343517</td>\n      <td>0</td>\n    </tr>\n    <tr>\n      <th>23</th>\n      <td>87.726399</td>\n      <td>84.469868</td>\n      <td>87.136056</td>\n      <td>33.879342</td>\n      <td>76.219635</td>\n      <td>0</td>\n    </tr>\n    <tr>\n      <th>27</th>\n      <td>71.886211</td>\n      <td>84.481115</td>\n      <td>89.384933</td>\n      <td>46.630340</td>\n      <td>71.810653</td>\n      <td>0</td>\n    </tr>\n    <tr>\n      <th>32</th>\n      <td>66.538296</td>\n      <td>86.595622</td>\n      <td>90.351959</td>\n      <td>36.471564</td>\n      <td>64.890014</td>\n      <td>0</td>\n    </tr>\n    <tr>\n      <th>35</th>\n      <td>77.091722</td>\n      <td>85.517647</td>\n      <td>90.433449</td>\n      <td>48.706368</td>\n      <td>73.192019</td>\n      <td>0</td>\n    </tr>\n    <tr>\n      <th>36</th>\n      <td>60.756787</td>\n      <td>87.358605</td>\n      <td>89.570352</td>\n      <td>46.138467</td>\n      <td>63.978182</td>\n      <td>0</td>\n    </tr>\n    <tr>\n      <th>37</th>\n      <td>69.465231</td>\n      <td>84.785590</td>\n      <td>89.745942</td>\n      <td>23.444203</td>\n      <td>62.586605</td>\n      <td>0</td>\n    </tr>\n    <tr>\n      <th>38</th>\n      <td>75.747986</td>\n      <td>87.509046</td>\n      <td>89.188927</td>\n      <td>36.178642</td>\n      <td>64.803370</td>\n      <td>0</td>\n    </tr>\n    <tr>\n      <th>39</th>\n      <td>69.943802</td>\n      <td>84.405313</td>\n      <td>88.367947</td>\n      <td>46.079842</td>\n      <td>68.695245</td>\n      <td>0</td>\n    </tr>\n  </tbody>\n</table>\n</div>"
     },
     "metadata": {},
     "execution_count": 94
    }
   ],
   "source": [
    "nilai[nilai['uts'] < 50]"
   ]
  },
  {
   "cell_type": "code",
   "execution_count": 62,
   "metadata": {},
   "outputs": [
    {
     "output_type": "execute_result",
     "data": {
      "text/plain": [
       "       tugas  praktikum  persentasi        uts        uas  remedial_uts  \\\n",
       "0  68.924523  88.157223   89.673283  58.615912  66.127834             0   \n",
       "1  73.738636  87.914201   90.804326  73.060888  68.512144             0   \n",
       "2  68.153936  85.230495   90.207976  47.412113  64.865571             0   \n",
       "3  84.287147  83.694998   89.961863  72.348831  72.595102             0   \n",
       "4  56.555990  86.658983   90.920276  70.526285  77.216318             0   \n",
       "\n",
       "   hapus_column  \n",
       "0             0  \n",
       "1             0  \n",
       "2             0  \n",
       "3             0  \n",
       "4             0  "
      ],
      "text/html": "<div>\n<style scoped>\n    .dataframe tbody tr th:only-of-type {\n        vertical-align: middle;\n    }\n\n    .dataframe tbody tr th {\n        vertical-align: top;\n    }\n\n    .dataframe thead th {\n        text-align: right;\n    }\n</style>\n<table border=\"1\" class=\"dataframe\">\n  <thead>\n    <tr style=\"text-align: right;\">\n      <th></th>\n      <th>tugas</th>\n      <th>praktikum</th>\n      <th>persentasi</th>\n      <th>uts</th>\n      <th>uas</th>\n      <th>remedial_uts</th>\n      <th>hapus_column</th>\n    </tr>\n  </thead>\n  <tbody>\n    <tr>\n      <th>0</th>\n      <td>68.924523</td>\n      <td>88.157223</td>\n      <td>89.673283</td>\n      <td>58.615912</td>\n      <td>66.127834</td>\n      <td>0</td>\n      <td>0</td>\n    </tr>\n    <tr>\n      <th>1</th>\n      <td>73.738636</td>\n      <td>87.914201</td>\n      <td>90.804326</td>\n      <td>73.060888</td>\n      <td>68.512144</td>\n      <td>0</td>\n      <td>0</td>\n    </tr>\n    <tr>\n      <th>2</th>\n      <td>68.153936</td>\n      <td>85.230495</td>\n      <td>90.207976</td>\n      <td>47.412113</td>\n      <td>64.865571</td>\n      <td>0</td>\n      <td>0</td>\n    </tr>\n    <tr>\n      <th>3</th>\n      <td>84.287147</td>\n      <td>83.694998</td>\n      <td>89.961863</td>\n      <td>72.348831</td>\n      <td>72.595102</td>\n      <td>0</td>\n      <td>0</td>\n    </tr>\n    <tr>\n      <th>4</th>\n      <td>56.555990</td>\n      <td>86.658983</td>\n      <td>90.920276</td>\n      <td>70.526285</td>\n      <td>77.216318</td>\n      <td>0</td>\n      <td>0</td>\n    </tr>\n  </tbody>\n</table>\n</div>"
     },
     "metadata": {},
     "execution_count": 62
    }
   ],
   "source": [
    "nilai['hapus_column'] = 0\n",
    "nilai.head()"
   ]
  },
  {
   "cell_type": "code",
   "execution_count": 63,
   "metadata": {},
   "outputs": [
    {
     "output_type": "execute_result",
     "data": {
      "text/plain": [
       "        tugas  praktikum  persentasi        uts        uas  remedial_uts\n",
       "0   68.924523  88.157223   89.673283  58.615912  66.127834             0\n",
       "1   73.738636  87.914201   90.804326  73.060888  68.512144             0\n",
       "2   68.153936  85.230495   90.207976  47.412113  64.865571             0\n",
       "3   84.287147  83.694998   89.961863  72.348831  72.595102             0\n",
       "4   56.555990  86.658983   90.920276  70.526285  77.216318             0\n",
       "5   70.329976  85.800149   89.456130  68.975408  72.127953             0\n",
       "6   97.924903  85.026968   91.868257  52.380075  74.011678             0\n",
       "7   79.888101  86.923308   91.769350  62.042072  61.469886             0\n",
       "8   82.102670  84.466879   89.550060  37.618281  64.599704             0\n",
       "9   85.555344  87.088833   88.660259  69.174983  67.532436             0\n",
       "10  75.540731  81.433825   90.948440  80.542914  94.062143             0\n",
       "11  77.579534  84.004909   91.527836  34.459029  72.503904             0\n",
       "12  80.882816  85.090228   89.743065  52.218285  71.572437             0\n",
       "13  83.852442  81.676254   88.605115  41.479452  72.221237             0\n",
       "14  64.829930  83.350225   90.082724  16.785081  68.514238             0\n",
       "15  73.663070  78.901271   89.739807  59.764151  67.804981             0\n",
       "16  70.618145  89.223753   90.444807  34.609730  81.408150             0\n",
       "17  79.934435  86.899325   90.887298  50.705480  71.213974             0\n",
       "18  73.009909  91.638241   88.697382  73.114878  70.801429             0\n",
       "19  62.250164  83.420193   89.833174  85.792785  70.616443             0\n",
       "20  77.934942  86.628645   88.294178  60.514351  72.127675             0\n",
       "21  76.089503  84.746561   89.779631  47.273485  67.343517             0\n",
       "22  75.317268  88.876045   90.546276  64.032470  63.767378             0\n",
       "23  87.726399  84.469868   90.820009  33.879342  76.219635             0\n",
       "24  85.714479  90.063361   89.696370  61.897395  76.005092             0\n",
       "25  79.158180  81.860159   91.741751  57.678089  75.378861             0\n",
       "26  90.506792  86.926361   90.876036  72.104113  74.225174             0\n",
       "27  71.886211  84.481115   90.795117  46.630340  71.810653             0\n",
       "28  61.207601  81.663805   89.608443  59.031648  56.349517             0\n",
       "29  88.714088  84.937892   88.873850  57.956051  65.521082             0\n",
       "30  75.277117  79.559435   91.761017  57.391592  67.106881             0\n",
       "31  71.796004  85.610566   91.000558  79.824496  71.620923             0\n",
       "32  66.538296  86.595622   87.880055  36.471564  64.890014             0\n",
       "33  70.665711  81.948930   91.908159  51.320413  81.325749             0\n",
       "34  61.629655  79.455848   88.947522  66.540092  59.380811             0\n",
       "35  77.091722  85.517647   90.081323  48.706368  73.192019             0\n",
       "36  60.756787  87.358605   90.947083  46.138467  63.978182             0\n",
       "37  69.465231  84.785590   89.466283  23.444203  62.586605             0\n",
       "38  75.747986  87.509046   90.013596  36.178642  64.803370             0\n",
       "39  69.943802  84.405313   88.561620  46.079842  68.695245             0"
      ],
      "text/html": "<div>\n<style scoped>\n    .dataframe tbody tr th:only-of-type {\n        vertical-align: middle;\n    }\n\n    .dataframe tbody tr th {\n        vertical-align: top;\n    }\n\n    .dataframe thead th {\n        text-align: right;\n    }\n</style>\n<table border=\"1\" class=\"dataframe\">\n  <thead>\n    <tr style=\"text-align: right;\">\n      <th></th>\n      <th>tugas</th>\n      <th>praktikum</th>\n      <th>persentasi</th>\n      <th>uts</th>\n      <th>uas</th>\n      <th>remedial_uts</th>\n    </tr>\n  </thead>\n  <tbody>\n    <tr>\n      <th>0</th>\n      <td>68.924523</td>\n      <td>88.157223</td>\n      <td>89.673283</td>\n      <td>58.615912</td>\n      <td>66.127834</td>\n      <td>0</td>\n    </tr>\n    <tr>\n      <th>1</th>\n      <td>73.738636</td>\n      <td>87.914201</td>\n      <td>90.804326</td>\n      <td>73.060888</td>\n      <td>68.512144</td>\n      <td>0</td>\n    </tr>\n    <tr>\n      <th>2</th>\n      <td>68.153936</td>\n      <td>85.230495</td>\n      <td>90.207976</td>\n      <td>47.412113</td>\n      <td>64.865571</td>\n      <td>0</td>\n    </tr>\n    <tr>\n      <th>3</th>\n      <td>84.287147</td>\n      <td>83.694998</td>\n      <td>89.961863</td>\n      <td>72.348831</td>\n      <td>72.595102</td>\n      <td>0</td>\n    </tr>\n    <tr>\n      <th>4</th>\n      <td>56.555990</td>\n      <td>86.658983</td>\n      <td>90.920276</td>\n      <td>70.526285</td>\n      <td>77.216318</td>\n      <td>0</td>\n    </tr>\n    <tr>\n      <th>5</th>\n      <td>70.329976</td>\n      <td>85.800149</td>\n      <td>89.456130</td>\n      <td>68.975408</td>\n      <td>72.127953</td>\n      <td>0</td>\n    </tr>\n    <tr>\n      <th>6</th>\n      <td>97.924903</td>\n      <td>85.026968</td>\n      <td>91.868257</td>\n      <td>52.380075</td>\n      <td>74.011678</td>\n      <td>0</td>\n    </tr>\n    <tr>\n      <th>7</th>\n      <td>79.888101</td>\n      <td>86.923308</td>\n      <td>91.769350</td>\n      <td>62.042072</td>\n      <td>61.469886</td>\n      <td>0</td>\n    </tr>\n    <tr>\n      <th>8</th>\n      <td>82.102670</td>\n      <td>84.466879</td>\n      <td>89.550060</td>\n      <td>37.618281</td>\n      <td>64.599704</td>\n      <td>0</td>\n    </tr>\n    <tr>\n      <th>9</th>\n      <td>85.555344</td>\n      <td>87.088833</td>\n      <td>88.660259</td>\n      <td>69.174983</td>\n      <td>67.532436</td>\n      <td>0</td>\n    </tr>\n    <tr>\n      <th>10</th>\n      <td>75.540731</td>\n      <td>81.433825</td>\n      <td>90.948440</td>\n      <td>80.542914</td>\n      <td>94.062143</td>\n      <td>0</td>\n    </tr>\n    <tr>\n      <th>11</th>\n      <td>77.579534</td>\n      <td>84.004909</td>\n      <td>91.527836</td>\n      <td>34.459029</td>\n      <td>72.503904</td>\n      <td>0</td>\n    </tr>\n    <tr>\n      <th>12</th>\n      <td>80.882816</td>\n      <td>85.090228</td>\n      <td>89.743065</td>\n      <td>52.218285</td>\n      <td>71.572437</td>\n      <td>0</td>\n    </tr>\n    <tr>\n      <th>13</th>\n      <td>83.852442</td>\n      <td>81.676254</td>\n      <td>88.605115</td>\n      <td>41.479452</td>\n      <td>72.221237</td>\n      <td>0</td>\n    </tr>\n    <tr>\n      <th>14</th>\n      <td>64.829930</td>\n      <td>83.350225</td>\n      <td>90.082724</td>\n      <td>16.785081</td>\n      <td>68.514238</td>\n      <td>0</td>\n    </tr>\n    <tr>\n      <th>15</th>\n      <td>73.663070</td>\n      <td>78.901271</td>\n      <td>89.739807</td>\n      <td>59.764151</td>\n      <td>67.804981</td>\n      <td>0</td>\n    </tr>\n    <tr>\n      <th>16</th>\n      <td>70.618145</td>\n      <td>89.223753</td>\n      <td>90.444807</td>\n      <td>34.609730</td>\n      <td>81.408150</td>\n      <td>0</td>\n    </tr>\n    <tr>\n      <th>17</th>\n      <td>79.934435</td>\n      <td>86.899325</td>\n      <td>90.887298</td>\n      <td>50.705480</td>\n      <td>71.213974</td>\n      <td>0</td>\n    </tr>\n    <tr>\n      <th>18</th>\n      <td>73.009909</td>\n      <td>91.638241</td>\n      <td>88.697382</td>\n      <td>73.114878</td>\n      <td>70.801429</td>\n      <td>0</td>\n    </tr>\n    <tr>\n      <th>19</th>\n      <td>62.250164</td>\n      <td>83.420193</td>\n      <td>89.833174</td>\n      <td>85.792785</td>\n      <td>70.616443</td>\n      <td>0</td>\n    </tr>\n    <tr>\n      <th>20</th>\n      <td>77.934942</td>\n      <td>86.628645</td>\n      <td>88.294178</td>\n      <td>60.514351</td>\n      <td>72.127675</td>\n      <td>0</td>\n    </tr>\n    <tr>\n      <th>21</th>\n      <td>76.089503</td>\n      <td>84.746561</td>\n      <td>89.779631</td>\n      <td>47.273485</td>\n      <td>67.343517</td>\n      <td>0</td>\n    </tr>\n    <tr>\n      <th>22</th>\n      <td>75.317268</td>\n      <td>88.876045</td>\n      <td>90.546276</td>\n      <td>64.032470</td>\n      <td>63.767378</td>\n      <td>0</td>\n    </tr>\n    <tr>\n      <th>23</th>\n      <td>87.726399</td>\n      <td>84.469868</td>\n      <td>90.820009</td>\n      <td>33.879342</td>\n      <td>76.219635</td>\n      <td>0</td>\n    </tr>\n    <tr>\n      <th>24</th>\n      <td>85.714479</td>\n      <td>90.063361</td>\n      <td>89.696370</td>\n      <td>61.897395</td>\n      <td>76.005092</td>\n      <td>0</td>\n    </tr>\n    <tr>\n      <th>25</th>\n      <td>79.158180</td>\n      <td>81.860159</td>\n      <td>91.741751</td>\n      <td>57.678089</td>\n      <td>75.378861</td>\n      <td>0</td>\n    </tr>\n    <tr>\n      <th>26</th>\n      <td>90.506792</td>\n      <td>86.926361</td>\n      <td>90.876036</td>\n      <td>72.104113</td>\n      <td>74.225174</td>\n      <td>0</td>\n    </tr>\n    <tr>\n      <th>27</th>\n      <td>71.886211</td>\n      <td>84.481115</td>\n      <td>90.795117</td>\n      <td>46.630340</td>\n      <td>71.810653</td>\n      <td>0</td>\n    </tr>\n    <tr>\n      <th>28</th>\n      <td>61.207601</td>\n      <td>81.663805</td>\n      <td>89.608443</td>\n      <td>59.031648</td>\n      <td>56.349517</td>\n      <td>0</td>\n    </tr>\n    <tr>\n      <th>29</th>\n      <td>88.714088</td>\n      <td>84.937892</td>\n      <td>88.873850</td>\n      <td>57.956051</td>\n      <td>65.521082</td>\n      <td>0</td>\n    </tr>\n    <tr>\n      <th>30</th>\n      <td>75.277117</td>\n      <td>79.559435</td>\n      <td>91.761017</td>\n      <td>57.391592</td>\n      <td>67.106881</td>\n      <td>0</td>\n    </tr>\n    <tr>\n      <th>31</th>\n      <td>71.796004</td>\n      <td>85.610566</td>\n      <td>91.000558</td>\n      <td>79.824496</td>\n      <td>71.620923</td>\n      <td>0</td>\n    </tr>\n    <tr>\n      <th>32</th>\n      <td>66.538296</td>\n      <td>86.595622</td>\n      <td>87.880055</td>\n      <td>36.471564</td>\n      <td>64.890014</td>\n      <td>0</td>\n    </tr>\n    <tr>\n      <th>33</th>\n      <td>70.665711</td>\n      <td>81.948930</td>\n      <td>91.908159</td>\n      <td>51.320413</td>\n      <td>81.325749</td>\n      <td>0</td>\n    </tr>\n    <tr>\n      <th>34</th>\n      <td>61.629655</td>\n      <td>79.455848</td>\n      <td>88.947522</td>\n      <td>66.540092</td>\n      <td>59.380811</td>\n      <td>0</td>\n    </tr>\n    <tr>\n      <th>35</th>\n      <td>77.091722</td>\n      <td>85.517647</td>\n      <td>90.081323</td>\n      <td>48.706368</td>\n      <td>73.192019</td>\n      <td>0</td>\n    </tr>\n    <tr>\n      <th>36</th>\n      <td>60.756787</td>\n      <td>87.358605</td>\n      <td>90.947083</td>\n      <td>46.138467</td>\n      <td>63.978182</td>\n      <td>0</td>\n    </tr>\n    <tr>\n      <th>37</th>\n      <td>69.465231</td>\n      <td>84.785590</td>\n      <td>89.466283</td>\n      <td>23.444203</td>\n      <td>62.586605</td>\n      <td>0</td>\n    </tr>\n    <tr>\n      <th>38</th>\n      <td>75.747986</td>\n      <td>87.509046</td>\n      <td>90.013596</td>\n      <td>36.178642</td>\n      <td>64.803370</td>\n      <td>0</td>\n    </tr>\n    <tr>\n      <th>39</th>\n      <td>69.943802</td>\n      <td>84.405313</td>\n      <td>88.561620</td>\n      <td>46.079842</td>\n      <td>68.695245</td>\n      <td>0</td>\n    </tr>\n  </tbody>\n</table>\n</div>"
     },
     "metadata": {},
     "execution_count": 63
    }
   ],
   "source": [
    "nilai.drop('hapus_column',axis=1)\n",
    "nilai.drop('hapus_column',axis=1,inplace=True)\n",
    "nilai.drop(0)\n",
    "nilai.drop(0,inplace=True)"
   ]
  },
  {
   "cell_type": "code",
   "execution_count": 64,
   "metadata": {},
   "outputs": [
    {
     "output_type": "execute_result",
     "data": {
      "text/plain": [
       "array([71.01326978, 69.61937518, 70.30563645, 71.18997822, 70.48149476,\n",
       "       70.83524308, 71.22609704, 71.72169283, 69.78862239, 68.78401705,\n",
       "       70.6397264 , 68.75248991, 70.03137696, 70.55576899, 71.55630085])"
      ]
     },
     "metadata": {},
     "execution_count": 64
    }
   ],
   "source": [
    "nilai_remed = np.random.normal(70,1,14)\n",
    "nilai_remed"
   ]
  },
  {
   "cell_type": "code",
   "execution_count": 106,
   "metadata": {},
   "outputs": [],
   "source": [
    "nilai['harian'] = 0.4 * nilai.tugas + 0.3 * nilai.praktikum + 0.3 * nilai.persentasi"
   ]
  },
  {
   "cell_type": "code",
   "execution_count": 95,
   "metadata": {},
   "outputs": [
    {
     "output_type": "execute_result",
     "data": {
      "text/plain": [
       "       tugas  praktikum  persentasi        uts        uas  remedial_uts\n",
       "0  68.924523  88.157223   91.284083  58.615912  66.127834             0\n",
       "1  73.738636  87.914201   89.474742  73.060888  68.512144             0\n",
       "2  68.153936  85.230495   92.452354  47.412113  64.865571             0\n",
       "3  84.287147  83.694998   88.293673  72.348831  72.595102             0\n",
       "4  56.555990  86.658983   90.450060  70.526285  77.216318             0"
      ],
      "text/html": "<div>\n<style scoped>\n    .dataframe tbody tr th:only-of-type {\n        vertical-align: middle;\n    }\n\n    .dataframe tbody tr th {\n        vertical-align: top;\n    }\n\n    .dataframe thead th {\n        text-align: right;\n    }\n</style>\n<table border=\"1\" class=\"dataframe\">\n  <thead>\n    <tr style=\"text-align: right;\">\n      <th></th>\n      <th>tugas</th>\n      <th>praktikum</th>\n      <th>persentasi</th>\n      <th>uts</th>\n      <th>uas</th>\n      <th>remedial_uts</th>\n    </tr>\n  </thead>\n  <tbody>\n    <tr>\n      <th>0</th>\n      <td>68.924523</td>\n      <td>88.157223</td>\n      <td>91.284083</td>\n      <td>58.615912</td>\n      <td>66.127834</td>\n      <td>0</td>\n    </tr>\n    <tr>\n      <th>1</th>\n      <td>73.738636</td>\n      <td>87.914201</td>\n      <td>89.474742</td>\n      <td>73.060888</td>\n      <td>68.512144</td>\n      <td>0</td>\n    </tr>\n    <tr>\n      <th>2</th>\n      <td>68.153936</td>\n      <td>85.230495</td>\n      <td>92.452354</td>\n      <td>47.412113</td>\n      <td>64.865571</td>\n      <td>0</td>\n    </tr>\n    <tr>\n      <th>3</th>\n      <td>84.287147</td>\n      <td>83.694998</td>\n      <td>88.293673</td>\n      <td>72.348831</td>\n      <td>72.595102</td>\n      <td>0</td>\n    </tr>\n    <tr>\n      <th>4</th>\n      <td>56.555990</td>\n      <td>86.658983</td>\n      <td>90.450060</td>\n      <td>70.526285</td>\n      <td>77.216318</td>\n      <td>0</td>\n    </tr>\n  </tbody>\n</table>\n</div>"
     },
     "metadata": {},
     "execution_count": 95
    }
   ],
   "source": [
    "nilai.head()"
   ]
  },
  {
   "cell_type": "code",
   "execution_count": 68,
   "metadata": {},
   "outputs": [],
   "source": [
    "nilai.drop('hapus_column',axis=1,inplace=True)"
   ]
  },
  {
   "cell_type": "code",
   "execution_count": 69,
   "metadata": {},
   "outputs": [
    {
     "output_type": "execute_result",
     "data": {
      "text/plain": [
       "       tugas  praktikum  persentasi        uts        uas  remedial_uts  \\\n",
       "0  68.924523  88.157223   89.673283  58.615912  66.127834             0   \n",
       "1  73.738636  87.914201   90.804326  73.060888  68.512144             0   \n",
       "2  68.153936  85.230495   90.207976  47.412113  64.865571             0   \n",
       "3  84.287147  83.694998   89.961863  72.348831  72.595102             0   \n",
       "4  56.555990  86.658983   90.920276  70.526285  77.216318             0   \n",
       "\n",
       "      harian  \n",
       "0  80.918961  \n",
       "1  83.111012  \n",
       "2  79.893116  \n",
       "3  85.811917  \n",
       "4  75.896174  "
      ],
      "text/html": "<div>\n<style scoped>\n    .dataframe tbody tr th:only-of-type {\n        vertical-align: middle;\n    }\n\n    .dataframe tbody tr th {\n        vertical-align: top;\n    }\n\n    .dataframe thead th {\n        text-align: right;\n    }\n</style>\n<table border=\"1\" class=\"dataframe\">\n  <thead>\n    <tr style=\"text-align: right;\">\n      <th></th>\n      <th>tugas</th>\n      <th>praktikum</th>\n      <th>persentasi</th>\n      <th>uts</th>\n      <th>uas</th>\n      <th>remedial_uts</th>\n      <th>harian</th>\n    </tr>\n  </thead>\n  <tbody>\n    <tr>\n      <th>0</th>\n      <td>68.924523</td>\n      <td>88.157223</td>\n      <td>89.673283</td>\n      <td>58.615912</td>\n      <td>66.127834</td>\n      <td>0</td>\n      <td>80.918961</td>\n    </tr>\n    <tr>\n      <th>1</th>\n      <td>73.738636</td>\n      <td>87.914201</td>\n      <td>90.804326</td>\n      <td>73.060888</td>\n      <td>68.512144</td>\n      <td>0</td>\n      <td>83.111012</td>\n    </tr>\n    <tr>\n      <th>2</th>\n      <td>68.153936</td>\n      <td>85.230495</td>\n      <td>90.207976</td>\n      <td>47.412113</td>\n      <td>64.865571</td>\n      <td>0</td>\n      <td>79.893116</td>\n    </tr>\n    <tr>\n      <th>3</th>\n      <td>84.287147</td>\n      <td>83.694998</td>\n      <td>89.961863</td>\n      <td>72.348831</td>\n      <td>72.595102</td>\n      <td>0</td>\n      <td>85.811917</td>\n    </tr>\n    <tr>\n      <th>4</th>\n      <td>56.555990</td>\n      <td>86.658983</td>\n      <td>90.920276</td>\n      <td>70.526285</td>\n      <td>77.216318</td>\n      <td>0</td>\n      <td>75.896174</td>\n    </tr>\n  </tbody>\n</table>\n</div>"
     },
     "metadata": {},
     "execution_count": 69
    }
   ],
   "source": [
    "nilai.head()"
   ]
  },
  {
   "cell_type": "code",
   "execution_count": 96,
   "metadata": {},
   "outputs": [],
   "source": [
    "nilai['remedial_uts'].loc[nilai.uts < 50] = nilai_remed"
   ]
  },
  {
   "cell_type": "code",
   "execution_count": 97,
   "metadata": {},
   "outputs": [
    {
     "output_type": "execute_result",
     "data": {
      "text/plain": [
       "        tugas  praktikum  persentasi        uts        uas  remedial_uts\n",
       "0   68.924523  88.157223   91.284083  58.615912  66.127834      0.000000\n",
       "1   73.738636  87.914201   89.474742  73.060888  68.512144      0.000000\n",
       "2   68.153936  85.230495   92.452354  47.412113  64.865571     71.013270\n",
       "3   84.287147  83.694998   88.293673  72.348831  72.595102      0.000000\n",
       "4   56.555990  86.658983   90.450060  70.526285  77.216318      0.000000\n",
       "5   70.329976  85.800149   88.957860  68.975408  72.127953      0.000000\n",
       "6   97.924903  85.026968   88.523256  52.380075  74.011678      0.000000\n",
       "7   79.888101  86.923308   89.481299  62.042072  61.469886      0.000000\n",
       "8   82.102670  84.466879   89.982448  37.618281  64.599704     69.619375\n",
       "9   85.555344  87.088833   91.951021  69.174983  67.532436      0.000000\n",
       "10  75.540731  81.433825   90.368098  80.542914  94.062143      0.000000\n",
       "11  77.579534  84.004909   89.023701  34.459029  72.503904     70.305636\n",
       "12  80.882816  85.090228   90.354309  52.218285  71.572437      0.000000\n",
       "13  83.852442  81.676254   89.361049  41.479452  72.221237     71.189978\n",
       "14  64.829930  83.350225   89.753282  16.785081  68.514238     70.481495\n",
       "15  73.663070  78.901271   89.488795  59.764151  67.804981      0.000000\n",
       "16  70.618145  89.223753   89.669852  34.609730  81.408150     70.835243\n",
       "17  79.934435  86.899325   88.549823  50.705480  71.213974      0.000000\n",
       "18  73.009909  91.638241   89.976017  73.114878  70.801429      0.000000\n",
       "19  62.250164  83.420193   87.087763  85.792785  70.616443      0.000000\n",
       "20  77.934942  86.628645   89.604813  60.514351  72.127675      0.000000\n",
       "21  76.089503  84.746561   90.596750  47.273485  67.343517     71.226097\n",
       "22  75.317268  88.876045   88.171647  64.032470  63.767378      0.000000\n",
       "23  87.726399  84.469868   87.136056  33.879342  76.219635     71.721693\n",
       "24  85.714479  90.063361   90.692471  61.897395  76.005092      0.000000\n",
       "25  79.158180  81.860159   91.209303  57.678089  75.378861      0.000000\n",
       "26  90.506792  86.926361   90.665396  72.104113  74.225174      0.000000\n",
       "27  71.886211  84.481115   89.384933  46.630340  71.810653     69.788622\n",
       "28  61.207601  81.663805   89.878107  59.031648  56.349517      0.000000\n",
       "29  88.714088  84.937892   90.413941  57.956051  65.521082      0.000000\n",
       "30  75.277117  79.559435   88.854738  57.391592  67.106881      0.000000\n",
       "31  71.796004  85.610566   89.958122  79.824496  71.620923      0.000000\n",
       "32  66.538296  86.595622   90.351959  36.471564  64.890014     68.784017\n",
       "33  70.665711  81.948930   87.489990  51.320413  81.325749      0.000000\n",
       "34  61.629655  79.455848   89.880397  66.540092  59.380811      0.000000\n",
       "35  77.091722  85.517647   90.433449  48.706368  73.192019     70.639726\n",
       "36  60.756787  87.358605   89.570352  46.138467  63.978182     68.752490\n",
       "37  69.465231  84.785590   89.745942  23.444203  62.586605     70.031377\n",
       "38  75.747986  87.509046   89.188927  36.178642  64.803370     70.555769\n",
       "39  69.943802  84.405313   88.367947  46.079842  68.695245     71.556301"
      ],
      "text/html": "<div>\n<style scoped>\n    .dataframe tbody tr th:only-of-type {\n        vertical-align: middle;\n    }\n\n    .dataframe tbody tr th {\n        vertical-align: top;\n    }\n\n    .dataframe thead th {\n        text-align: right;\n    }\n</style>\n<table border=\"1\" class=\"dataframe\">\n  <thead>\n    <tr style=\"text-align: right;\">\n      <th></th>\n      <th>tugas</th>\n      <th>praktikum</th>\n      <th>persentasi</th>\n      <th>uts</th>\n      <th>uas</th>\n      <th>remedial_uts</th>\n    </tr>\n  </thead>\n  <tbody>\n    <tr>\n      <th>0</th>\n      <td>68.924523</td>\n      <td>88.157223</td>\n      <td>91.284083</td>\n      <td>58.615912</td>\n      <td>66.127834</td>\n      <td>0.000000</td>\n    </tr>\n    <tr>\n      <th>1</th>\n      <td>73.738636</td>\n      <td>87.914201</td>\n      <td>89.474742</td>\n      <td>73.060888</td>\n      <td>68.512144</td>\n      <td>0.000000</td>\n    </tr>\n    <tr>\n      <th>2</th>\n      <td>68.153936</td>\n      <td>85.230495</td>\n      <td>92.452354</td>\n      <td>47.412113</td>\n      <td>64.865571</td>\n      <td>71.013270</td>\n    </tr>\n    <tr>\n      <th>3</th>\n      <td>84.287147</td>\n      <td>83.694998</td>\n      <td>88.293673</td>\n      <td>72.348831</td>\n      <td>72.595102</td>\n      <td>0.000000</td>\n    </tr>\n    <tr>\n      <th>4</th>\n      <td>56.555990</td>\n      <td>86.658983</td>\n      <td>90.450060</td>\n      <td>70.526285</td>\n      <td>77.216318</td>\n      <td>0.000000</td>\n    </tr>\n    <tr>\n      <th>5</th>\n      <td>70.329976</td>\n      <td>85.800149</td>\n      <td>88.957860</td>\n      <td>68.975408</td>\n      <td>72.127953</td>\n      <td>0.000000</td>\n    </tr>\n    <tr>\n      <th>6</th>\n      <td>97.924903</td>\n      <td>85.026968</td>\n      <td>88.523256</td>\n      <td>52.380075</td>\n      <td>74.011678</td>\n      <td>0.000000</td>\n    </tr>\n    <tr>\n      <th>7</th>\n      <td>79.888101</td>\n      <td>86.923308</td>\n      <td>89.481299</td>\n      <td>62.042072</td>\n      <td>61.469886</td>\n      <td>0.000000</td>\n    </tr>\n    <tr>\n      <th>8</th>\n      <td>82.102670</td>\n      <td>84.466879</td>\n      <td>89.982448</td>\n      <td>37.618281</td>\n      <td>64.599704</td>\n      <td>69.619375</td>\n    </tr>\n    <tr>\n      <th>9</th>\n      <td>85.555344</td>\n      <td>87.088833</td>\n      <td>91.951021</td>\n      <td>69.174983</td>\n      <td>67.532436</td>\n      <td>0.000000</td>\n    </tr>\n    <tr>\n      <th>10</th>\n      <td>75.540731</td>\n      <td>81.433825</td>\n      <td>90.368098</td>\n      <td>80.542914</td>\n      <td>94.062143</td>\n      <td>0.000000</td>\n    </tr>\n    <tr>\n      <th>11</th>\n      <td>77.579534</td>\n      <td>84.004909</td>\n      <td>89.023701</td>\n      <td>34.459029</td>\n      <td>72.503904</td>\n      <td>70.305636</td>\n    </tr>\n    <tr>\n      <th>12</th>\n      <td>80.882816</td>\n      <td>85.090228</td>\n      <td>90.354309</td>\n      <td>52.218285</td>\n      <td>71.572437</td>\n      <td>0.000000</td>\n    </tr>\n    <tr>\n      <th>13</th>\n      <td>83.852442</td>\n      <td>81.676254</td>\n      <td>89.361049</td>\n      <td>41.479452</td>\n      <td>72.221237</td>\n      <td>71.189978</td>\n    </tr>\n    <tr>\n      <th>14</th>\n      <td>64.829930</td>\n      <td>83.350225</td>\n      <td>89.753282</td>\n      <td>16.785081</td>\n      <td>68.514238</td>\n      <td>70.481495</td>\n    </tr>\n    <tr>\n      <th>15</th>\n      <td>73.663070</td>\n      <td>78.901271</td>\n      <td>89.488795</td>\n      <td>59.764151</td>\n      <td>67.804981</td>\n      <td>0.000000</td>\n    </tr>\n    <tr>\n      <th>16</th>\n      <td>70.618145</td>\n      <td>89.223753</td>\n      <td>89.669852</td>\n      <td>34.609730</td>\n      <td>81.408150</td>\n      <td>70.835243</td>\n    </tr>\n    <tr>\n      <th>17</th>\n      <td>79.934435</td>\n      <td>86.899325</td>\n      <td>88.549823</td>\n      <td>50.705480</td>\n      <td>71.213974</td>\n      <td>0.000000</td>\n    </tr>\n    <tr>\n      <th>18</th>\n      <td>73.009909</td>\n      <td>91.638241</td>\n      <td>89.976017</td>\n      <td>73.114878</td>\n      <td>70.801429</td>\n      <td>0.000000</td>\n    </tr>\n    <tr>\n      <th>19</th>\n      <td>62.250164</td>\n      <td>83.420193</td>\n      <td>87.087763</td>\n      <td>85.792785</td>\n      <td>70.616443</td>\n      <td>0.000000</td>\n    </tr>\n    <tr>\n      <th>20</th>\n      <td>77.934942</td>\n      <td>86.628645</td>\n      <td>89.604813</td>\n      <td>60.514351</td>\n      <td>72.127675</td>\n      <td>0.000000</td>\n    </tr>\n    <tr>\n      <th>21</th>\n      <td>76.089503</td>\n      <td>84.746561</td>\n      <td>90.596750</td>\n      <td>47.273485</td>\n      <td>67.343517</td>\n      <td>71.226097</td>\n    </tr>\n    <tr>\n      <th>22</th>\n      <td>75.317268</td>\n      <td>88.876045</td>\n      <td>88.171647</td>\n      <td>64.032470</td>\n      <td>63.767378</td>\n      <td>0.000000</td>\n    </tr>\n    <tr>\n      <th>23</th>\n      <td>87.726399</td>\n      <td>84.469868</td>\n      <td>87.136056</td>\n      <td>33.879342</td>\n      <td>76.219635</td>\n      <td>71.721693</td>\n    </tr>\n    <tr>\n      <th>24</th>\n      <td>85.714479</td>\n      <td>90.063361</td>\n      <td>90.692471</td>\n      <td>61.897395</td>\n      <td>76.005092</td>\n      <td>0.000000</td>\n    </tr>\n    <tr>\n      <th>25</th>\n      <td>79.158180</td>\n      <td>81.860159</td>\n      <td>91.209303</td>\n      <td>57.678089</td>\n      <td>75.378861</td>\n      <td>0.000000</td>\n    </tr>\n    <tr>\n      <th>26</th>\n      <td>90.506792</td>\n      <td>86.926361</td>\n      <td>90.665396</td>\n      <td>72.104113</td>\n      <td>74.225174</td>\n      <td>0.000000</td>\n    </tr>\n    <tr>\n      <th>27</th>\n      <td>71.886211</td>\n      <td>84.481115</td>\n      <td>89.384933</td>\n      <td>46.630340</td>\n      <td>71.810653</td>\n      <td>69.788622</td>\n    </tr>\n    <tr>\n      <th>28</th>\n      <td>61.207601</td>\n      <td>81.663805</td>\n      <td>89.878107</td>\n      <td>59.031648</td>\n      <td>56.349517</td>\n      <td>0.000000</td>\n    </tr>\n    <tr>\n      <th>29</th>\n      <td>88.714088</td>\n      <td>84.937892</td>\n      <td>90.413941</td>\n      <td>57.956051</td>\n      <td>65.521082</td>\n      <td>0.000000</td>\n    </tr>\n    <tr>\n      <th>30</th>\n      <td>75.277117</td>\n      <td>79.559435</td>\n      <td>88.854738</td>\n      <td>57.391592</td>\n      <td>67.106881</td>\n      <td>0.000000</td>\n    </tr>\n    <tr>\n      <th>31</th>\n      <td>71.796004</td>\n      <td>85.610566</td>\n      <td>89.958122</td>\n      <td>79.824496</td>\n      <td>71.620923</td>\n      <td>0.000000</td>\n    </tr>\n    <tr>\n      <th>32</th>\n      <td>66.538296</td>\n      <td>86.595622</td>\n      <td>90.351959</td>\n      <td>36.471564</td>\n      <td>64.890014</td>\n      <td>68.784017</td>\n    </tr>\n    <tr>\n      <th>33</th>\n      <td>70.665711</td>\n      <td>81.948930</td>\n      <td>87.489990</td>\n      <td>51.320413</td>\n      <td>81.325749</td>\n      <td>0.000000</td>\n    </tr>\n    <tr>\n      <th>34</th>\n      <td>61.629655</td>\n      <td>79.455848</td>\n      <td>89.880397</td>\n      <td>66.540092</td>\n      <td>59.380811</td>\n      <td>0.000000</td>\n    </tr>\n    <tr>\n      <th>35</th>\n      <td>77.091722</td>\n      <td>85.517647</td>\n      <td>90.433449</td>\n      <td>48.706368</td>\n      <td>73.192019</td>\n      <td>70.639726</td>\n    </tr>\n    <tr>\n      <th>36</th>\n      <td>60.756787</td>\n      <td>87.358605</td>\n      <td>89.570352</td>\n      <td>46.138467</td>\n      <td>63.978182</td>\n      <td>68.752490</td>\n    </tr>\n    <tr>\n      <th>37</th>\n      <td>69.465231</td>\n      <td>84.785590</td>\n      <td>89.745942</td>\n      <td>23.444203</td>\n      <td>62.586605</td>\n      <td>70.031377</td>\n    </tr>\n    <tr>\n      <th>38</th>\n      <td>75.747986</td>\n      <td>87.509046</td>\n      <td>89.188927</td>\n      <td>36.178642</td>\n      <td>64.803370</td>\n      <td>70.555769</td>\n    </tr>\n    <tr>\n      <th>39</th>\n      <td>69.943802</td>\n      <td>84.405313</td>\n      <td>88.367947</td>\n      <td>46.079842</td>\n      <td>68.695245</td>\n      <td>71.556301</td>\n    </tr>\n  </tbody>\n</table>\n</div>"
     },
     "metadata": {},
     "execution_count": 97
    }
   ],
   "source": [
    "nilai"
   ]
  },
  {
   "cell_type": "code",
   "execution_count": 98,
   "metadata": {},
   "outputs": [
    {
     "output_type": "execute_result",
     "data": {
      "text/plain": [
       "       tugas  praktikum  persentasi        uts        uas  remedial_uts\n",
       "0  68.924523  88.157223   91.284083  58.615912  66.127834       0.00000\n",
       "1  73.738636  87.914201   89.474742  73.060888  68.512144       0.00000\n",
       "2  68.153936  85.230495   92.452354  47.412113  64.865571      71.01327\n",
       "3  84.287147  83.694998   88.293673  72.348831  72.595102       0.00000\n",
       "4  56.555990  86.658983   90.450060  70.526285  77.216318       0.00000"
      ],
      "text/html": "<div>\n<style scoped>\n    .dataframe tbody tr th:only-of-type {\n        vertical-align: middle;\n    }\n\n    .dataframe tbody tr th {\n        vertical-align: top;\n    }\n\n    .dataframe thead th {\n        text-align: right;\n    }\n</style>\n<table border=\"1\" class=\"dataframe\">\n  <thead>\n    <tr style=\"text-align: right;\">\n      <th></th>\n      <th>tugas</th>\n      <th>praktikum</th>\n      <th>persentasi</th>\n      <th>uts</th>\n      <th>uas</th>\n      <th>remedial_uts</th>\n    </tr>\n  </thead>\n  <tbody>\n    <tr>\n      <th>0</th>\n      <td>68.924523</td>\n      <td>88.157223</td>\n      <td>91.284083</td>\n      <td>58.615912</td>\n      <td>66.127834</td>\n      <td>0.00000</td>\n    </tr>\n    <tr>\n      <th>1</th>\n      <td>73.738636</td>\n      <td>87.914201</td>\n      <td>89.474742</td>\n      <td>73.060888</td>\n      <td>68.512144</td>\n      <td>0.00000</td>\n    </tr>\n    <tr>\n      <th>2</th>\n      <td>68.153936</td>\n      <td>85.230495</td>\n      <td>92.452354</td>\n      <td>47.412113</td>\n      <td>64.865571</td>\n      <td>71.01327</td>\n    </tr>\n    <tr>\n      <th>3</th>\n      <td>84.287147</td>\n      <td>83.694998</td>\n      <td>88.293673</td>\n      <td>72.348831</td>\n      <td>72.595102</td>\n      <td>0.00000</td>\n    </tr>\n    <tr>\n      <th>4</th>\n      <td>56.555990</td>\n      <td>86.658983</td>\n      <td>90.450060</td>\n      <td>70.526285</td>\n      <td>77.216318</td>\n      <td>0.00000</td>\n    </tr>\n  </tbody>\n</table>\n</div>"
     },
     "metadata": {},
     "execution_count": 98
    }
   ],
   "source": [
    "nilai.head()"
   ]
  },
  {
   "cell_type": "code",
   "execution_count": 102,
   "metadata": {},
   "outputs": [],
   "source": [
    "def hitung(a,b):\n",
    "    if b == 0:\n",
    "        return a\n",
    "    else:\n",
    "        return 0.6 * a + 0.4 * b"
   ]
  },
  {
   "cell_type": "code",
   "execution_count": 103,
   "metadata": {},
   "outputs": [],
   "source": [
    "nilai['uts_fixed'] = nilai.apply(lambda x : hitung(x['uts'],x['remedial_uts']),axis=1)"
   ]
  },
  {
   "cell_type": "code",
   "execution_count": 107,
   "metadata": {},
   "outputs": [
    {
     "output_type": "execute_result",
     "data": {
      "text/plain": [
       "       tugas  praktikum  persentasi        uts        uas  remedial_uts  \\\n",
       "0  68.924523  88.157223   91.284083  58.615912  66.127834       0.00000   \n",
       "1  73.738636  87.914201   89.474742  73.060888  68.512144       0.00000   \n",
       "2  68.153936  85.230495   92.452354  47.412113  64.865571      71.01327   \n",
       "3  84.287147  83.694998   88.293673  72.348831  72.595102       0.00000   \n",
       "4  56.555990  86.658983   90.450060  70.526285  77.216318       0.00000   \n",
       "\n",
       "   uts_fixed     harian  \n",
       "0  58.615912  81.402201  \n",
       "1  73.060888  82.712137  \n",
       "2  56.852576  80.566429  \n",
       "3  72.348831  85.311460  \n",
       "4  70.526285  75.755109  "
      ],
      "text/html": "<div>\n<style scoped>\n    .dataframe tbody tr th:only-of-type {\n        vertical-align: middle;\n    }\n\n    .dataframe tbody tr th {\n        vertical-align: top;\n    }\n\n    .dataframe thead th {\n        text-align: right;\n    }\n</style>\n<table border=\"1\" class=\"dataframe\">\n  <thead>\n    <tr style=\"text-align: right;\">\n      <th></th>\n      <th>tugas</th>\n      <th>praktikum</th>\n      <th>persentasi</th>\n      <th>uts</th>\n      <th>uas</th>\n      <th>remedial_uts</th>\n      <th>uts_fixed</th>\n      <th>harian</th>\n    </tr>\n  </thead>\n  <tbody>\n    <tr>\n      <th>0</th>\n      <td>68.924523</td>\n      <td>88.157223</td>\n      <td>91.284083</td>\n      <td>58.615912</td>\n      <td>66.127834</td>\n      <td>0.00000</td>\n      <td>58.615912</td>\n      <td>81.402201</td>\n    </tr>\n    <tr>\n      <th>1</th>\n      <td>73.738636</td>\n      <td>87.914201</td>\n      <td>89.474742</td>\n      <td>73.060888</td>\n      <td>68.512144</td>\n      <td>0.00000</td>\n      <td>73.060888</td>\n      <td>82.712137</td>\n    </tr>\n    <tr>\n      <th>2</th>\n      <td>68.153936</td>\n      <td>85.230495</td>\n      <td>92.452354</td>\n      <td>47.412113</td>\n      <td>64.865571</td>\n      <td>71.01327</td>\n      <td>56.852576</td>\n      <td>80.566429</td>\n    </tr>\n    <tr>\n      <th>3</th>\n      <td>84.287147</td>\n      <td>83.694998</td>\n      <td>88.293673</td>\n      <td>72.348831</td>\n      <td>72.595102</td>\n      <td>0.00000</td>\n      <td>72.348831</td>\n      <td>85.311460</td>\n    </tr>\n    <tr>\n      <th>4</th>\n      <td>56.555990</td>\n      <td>86.658983</td>\n      <td>90.450060</td>\n      <td>70.526285</td>\n      <td>77.216318</td>\n      <td>0.00000</td>\n      <td>70.526285</td>\n      <td>75.755109</td>\n    </tr>\n  </tbody>\n</table>\n</div>"
     },
     "metadata": {},
     "execution_count": 107
    }
   ],
   "source": [
    "nilai.head()"
   ]
  },
  {
   "cell_type": "code",
   "execution_count": 108,
   "metadata": {},
   "outputs": [],
   "source": [
    "nilai = nilai[['harian','uts_fixed','uas',]]"
   ]
  },
  {
   "cell_type": "code",
   "execution_count": 109,
   "metadata": {},
   "outputs": [
    {
     "output_type": "execute_result",
     "data": {
      "text/plain": [
       "      harian  uts_fixed        uas\n",
       "0  81.402201  58.615912  66.127834\n",
       "1  82.712137  73.060888  68.512144\n",
       "2  80.566429  56.852576  64.865571\n",
       "3  85.311460  72.348831  72.595102\n",
       "4  75.755109  70.526285  77.216318"
      ],
      "text/html": "<div>\n<style scoped>\n    .dataframe tbody tr th:only-of-type {\n        vertical-align: middle;\n    }\n\n    .dataframe tbody tr th {\n        vertical-align: top;\n    }\n\n    .dataframe thead th {\n        text-align: right;\n    }\n</style>\n<table border=\"1\" class=\"dataframe\">\n  <thead>\n    <tr style=\"text-align: right;\">\n      <th></th>\n      <th>harian</th>\n      <th>uts_fixed</th>\n      <th>uas</th>\n    </tr>\n  </thead>\n  <tbody>\n    <tr>\n      <th>0</th>\n      <td>81.402201</td>\n      <td>58.615912</td>\n      <td>66.127834</td>\n    </tr>\n    <tr>\n      <th>1</th>\n      <td>82.712137</td>\n      <td>73.060888</td>\n      <td>68.512144</td>\n    </tr>\n    <tr>\n      <th>2</th>\n      <td>80.566429</td>\n      <td>56.852576</td>\n      <td>64.865571</td>\n    </tr>\n    <tr>\n      <th>3</th>\n      <td>85.311460</td>\n      <td>72.348831</td>\n      <td>72.595102</td>\n    </tr>\n    <tr>\n      <th>4</th>\n      <td>75.755109</td>\n      <td>70.526285</td>\n      <td>77.216318</td>\n    </tr>\n  </tbody>\n</table>\n</div>"
     },
     "metadata": {},
     "execution_count": 109
    }
   ],
   "source": [
    "nilai.head()"
   ]
  },
  {
   "cell_type": "code",
   "execution_count": 110,
   "metadata": {},
   "outputs": [],
   "source": [
    "nilai.columns=['harian','uts','uas']"
   ]
  },
  {
   "cell_type": "code",
   "execution_count": 112,
   "metadata": {},
   "outputs": [
    {
     "output_type": "execute_result",
     "data": {
      "text/plain": [
       "      harian        uts        uas\n",
       "0  81.402201  58.615912  66.127834\n",
       "1  82.712137  73.060888  68.512144\n",
       "2  80.566429  56.852576  64.865571\n",
       "3  85.311460  72.348831  72.595102\n",
       "4  75.755109  70.526285  77.216318"
      ],
      "text/html": "<div>\n<style scoped>\n    .dataframe tbody tr th:only-of-type {\n        vertical-align: middle;\n    }\n\n    .dataframe tbody tr th {\n        vertical-align: top;\n    }\n\n    .dataframe thead th {\n        text-align: right;\n    }\n</style>\n<table border=\"1\" class=\"dataframe\">\n  <thead>\n    <tr style=\"text-align: right;\">\n      <th></th>\n      <th>harian</th>\n      <th>uts</th>\n      <th>uas</th>\n    </tr>\n  </thead>\n  <tbody>\n    <tr>\n      <th>0</th>\n      <td>81.402201</td>\n      <td>58.615912</td>\n      <td>66.127834</td>\n    </tr>\n    <tr>\n      <th>1</th>\n      <td>82.712137</td>\n      <td>73.060888</td>\n      <td>68.512144</td>\n    </tr>\n    <tr>\n      <th>2</th>\n      <td>80.566429</td>\n      <td>56.852576</td>\n      <td>64.865571</td>\n    </tr>\n    <tr>\n      <th>3</th>\n      <td>85.311460</td>\n      <td>72.348831</td>\n      <td>72.595102</td>\n    </tr>\n    <tr>\n      <th>4</th>\n      <td>75.755109</td>\n      <td>70.526285</td>\n      <td>77.216318</td>\n    </tr>\n  </tbody>\n</table>\n</div>"
     },
     "metadata": {},
     "execution_count": 112
    }
   ],
   "source": [
    "nilai.head()"
   ]
  },
  {
   "cell_type": "code",
   "execution_count": 113,
   "metadata": {},
   "outputs": [],
   "source": [
    "nilai['akhir'] = 0.2 * nilai['harian'] + 0.4 * nilai['uts'] + 0.4 * nilai['uas']"
   ]
  },
  {
   "cell_type": "code",
   "execution_count": 114,
   "metadata": {},
   "outputs": [
    {
     "output_type": "execute_result",
     "data": {
      "text/plain": [
       "      harian        uts        uas      akhir\n",
       "0  81.402201  58.615912  66.127834  66.177939\n",
       "1  82.712137  73.060888  68.512144  73.171641\n",
       "2  80.566429  56.852576  64.865571  64.800545\n",
       "3  85.311460  72.348831  72.595102  75.039865\n",
       "4  75.755109  70.526285  77.216318  74.248063"
      ],
      "text/html": "<div>\n<style scoped>\n    .dataframe tbody tr th:only-of-type {\n        vertical-align: middle;\n    }\n\n    .dataframe tbody tr th {\n        vertical-align: top;\n    }\n\n    .dataframe thead th {\n        text-align: right;\n    }\n</style>\n<table border=\"1\" class=\"dataframe\">\n  <thead>\n    <tr style=\"text-align: right;\">\n      <th></th>\n      <th>harian</th>\n      <th>uts</th>\n      <th>uas</th>\n      <th>akhir</th>\n    </tr>\n  </thead>\n  <tbody>\n    <tr>\n      <th>0</th>\n      <td>81.402201</td>\n      <td>58.615912</td>\n      <td>66.127834</td>\n      <td>66.177939</td>\n    </tr>\n    <tr>\n      <th>1</th>\n      <td>82.712137</td>\n      <td>73.060888</td>\n      <td>68.512144</td>\n      <td>73.171641</td>\n    </tr>\n    <tr>\n      <th>2</th>\n      <td>80.566429</td>\n      <td>56.852576</td>\n      <td>64.865571</td>\n      <td>64.800545</td>\n    </tr>\n    <tr>\n      <th>3</th>\n      <td>85.311460</td>\n      <td>72.348831</td>\n      <td>72.595102</td>\n      <td>75.039865</td>\n    </tr>\n    <tr>\n      <th>4</th>\n      <td>75.755109</td>\n      <td>70.526285</td>\n      <td>77.216318</td>\n      <td>74.248063</td>\n    </tr>\n  </tbody>\n</table>\n</div>"
     },
     "metadata": {},
     "execution_count": 114
    }
   ],
   "source": [
    "nilai.head()"
   ]
  },
  {
   "cell_type": "code",
   "execution_count": 115,
   "metadata": {},
   "outputs": [],
   "source": [
    "bins = [0,45,55,60,65,70,75,80,85,100]\n",
    "label = ['E','D','C','C+','B-','B','B+','A-','A']\n",
    "nilai['huruf']=pd.cut(nilai['akhir'],bins,labels=label)"
   ]
  },
  {
   "cell_type": "code",
   "execution_count": 116,
   "metadata": {},
   "outputs": [
    {
     "output_type": "execute_result",
     "data": {
      "text/plain": [
       "      harian        uts        uas      akhir huruf\n",
       "0  81.402201  58.615912  66.127834  66.177939    B-\n",
       "1  82.712137  73.060888  68.512144  73.171641     B\n",
       "2  80.566429  56.852576  64.865571  64.800545    C+\n",
       "3  85.311460  72.348831  72.595102  75.039865    B+\n",
       "4  75.755109  70.526285  77.216318  74.248063     B"
      ],
      "text/html": "<div>\n<style scoped>\n    .dataframe tbody tr th:only-of-type {\n        vertical-align: middle;\n    }\n\n    .dataframe tbody tr th {\n        vertical-align: top;\n    }\n\n    .dataframe thead th {\n        text-align: right;\n    }\n</style>\n<table border=\"1\" class=\"dataframe\">\n  <thead>\n    <tr style=\"text-align: right;\">\n      <th></th>\n      <th>harian</th>\n      <th>uts</th>\n      <th>uas</th>\n      <th>akhir</th>\n      <th>huruf</th>\n    </tr>\n  </thead>\n  <tbody>\n    <tr>\n      <th>0</th>\n      <td>81.402201</td>\n      <td>58.615912</td>\n      <td>66.127834</td>\n      <td>66.177939</td>\n      <td>B-</td>\n    </tr>\n    <tr>\n      <th>1</th>\n      <td>82.712137</td>\n      <td>73.060888</td>\n      <td>68.512144</td>\n      <td>73.171641</td>\n      <td>B</td>\n    </tr>\n    <tr>\n      <th>2</th>\n      <td>80.566429</td>\n      <td>56.852576</td>\n      <td>64.865571</td>\n      <td>64.800545</td>\n      <td>C+</td>\n    </tr>\n    <tr>\n      <th>3</th>\n      <td>85.311460</td>\n      <td>72.348831</td>\n      <td>72.595102</td>\n      <td>75.039865</td>\n      <td>B+</td>\n    </tr>\n    <tr>\n      <th>4</th>\n      <td>75.755109</td>\n      <td>70.526285</td>\n      <td>77.216318</td>\n      <td>74.248063</td>\n      <td>B</td>\n    </tr>\n  </tbody>\n</table>\n</div>"
     },
     "metadata": {},
     "execution_count": 116
    }
   ],
   "source": [
    "nilai.head()"
   ]
  },
  {
   "cell_type": "code",
   "execution_count": 117,
   "metadata": {},
   "outputs": [
    {
     "output_type": "execute_result",
     "data": {
      "text/plain": [
       "       harian        uts        uas      akhir huruf\n",
       "10  81.756869  80.542914  94.062143  86.193396     A"
      ],
      "text/html": "<div>\n<style scoped>\n    .dataframe tbody tr th:only-of-type {\n        vertical-align: middle;\n    }\n\n    .dataframe tbody tr th {\n        vertical-align: top;\n    }\n\n    .dataframe thead th {\n        text-align: right;\n    }\n</style>\n<table border=\"1\" class=\"dataframe\">\n  <thead>\n    <tr style=\"text-align: right;\">\n      <th></th>\n      <th>harian</th>\n      <th>uts</th>\n      <th>uas</th>\n      <th>akhir</th>\n      <th>huruf</th>\n    </tr>\n  </thead>\n  <tbody>\n    <tr>\n      <th>10</th>\n      <td>81.756869</td>\n      <td>80.542914</td>\n      <td>94.062143</td>\n      <td>86.193396</td>\n      <td>A</td>\n    </tr>\n  </tbody>\n</table>\n</div>"
     },
     "metadata": {},
     "execution_count": 117
    }
   ],
   "source": [
    "nilai[nilai['huruf'] == 'A']"
   ]
  },
  {
   "cell_type": "code",
   "execution_count": 118,
   "metadata": {},
   "outputs": [
    {
     "output_type": "execute_result",
     "data": {
      "text/plain": [
       "Empty DataFrame\n",
       "Columns: [harian, uts, uas, akhir, huruf]\n",
       "Index: []"
      ],
      "text/html": "<div>\n<style scoped>\n    .dataframe tbody tr th:only-of-type {\n        vertical-align: middle;\n    }\n\n    .dataframe tbody tr th {\n        vertical-align: top;\n    }\n\n    .dataframe thead th {\n        text-align: right;\n    }\n</style>\n<table border=\"1\" class=\"dataframe\">\n  <thead>\n    <tr style=\"text-align: right;\">\n      <th></th>\n      <th>harian</th>\n      <th>uts</th>\n      <th>uas</th>\n      <th>akhir</th>\n      <th>huruf</th>\n    </tr>\n  </thead>\n  <tbody>\n  </tbody>\n</table>\n</div>"
     },
     "metadata": {},
     "execution_count": 118
    }
   ],
   "source": [
    "nilai[nilai['huruf'] == '-A']"
   ]
  },
  {
   "cell_type": "code",
   "execution_count": 119,
   "metadata": {},
   "outputs": [
    {
     "output_type": "execute_result",
     "data": {
      "text/plain": [
       "       harian        uts        uas      akhir huruf\n",
       "1   82.712137  73.060888  68.512144  73.171641     B\n",
       "4   75.755109  70.526285  77.216318  74.248063     B\n",
       "5   80.559393  68.975408  72.127953  72.553223     B\n",
       "9   87.934094  69.174983  67.532436  72.269786     B\n",
       "18  83.688241  73.114878  70.801429  74.304171     B\n",
       "24  88.512541  61.897395  76.005092  72.863503     B"
      ],
      "text/html": "<div>\n<style scoped>\n    .dataframe tbody tr th:only-of-type {\n        vertical-align: middle;\n    }\n\n    .dataframe tbody tr th {\n        vertical-align: top;\n    }\n\n    .dataframe thead th {\n        text-align: right;\n    }\n</style>\n<table border=\"1\" class=\"dataframe\">\n  <thead>\n    <tr style=\"text-align: right;\">\n      <th></th>\n      <th>harian</th>\n      <th>uts</th>\n      <th>uas</th>\n      <th>akhir</th>\n      <th>huruf</th>\n    </tr>\n  </thead>\n  <tbody>\n    <tr>\n      <th>1</th>\n      <td>82.712137</td>\n      <td>73.060888</td>\n      <td>68.512144</td>\n      <td>73.171641</td>\n      <td>B</td>\n    </tr>\n    <tr>\n      <th>4</th>\n      <td>75.755109</td>\n      <td>70.526285</td>\n      <td>77.216318</td>\n      <td>74.248063</td>\n      <td>B</td>\n    </tr>\n    <tr>\n      <th>5</th>\n      <td>80.559393</td>\n      <td>68.975408</td>\n      <td>72.127953</td>\n      <td>72.553223</td>\n      <td>B</td>\n    </tr>\n    <tr>\n      <th>9</th>\n      <td>87.934094</td>\n      <td>69.174983</td>\n      <td>67.532436</td>\n      <td>72.269786</td>\n      <td>B</td>\n    </tr>\n    <tr>\n      <th>18</th>\n      <td>83.688241</td>\n      <td>73.114878</td>\n      <td>70.801429</td>\n      <td>74.304171</td>\n      <td>B</td>\n    </tr>\n    <tr>\n      <th>24</th>\n      <td>88.512541</td>\n      <td>61.897395</td>\n      <td>76.005092</td>\n      <td>72.863503</td>\n      <td>B</td>\n    </tr>\n  </tbody>\n</table>\n</div>"
     },
     "metadata": {},
     "execution_count": 119
    }
   ],
   "source": [
    "nilai[nilai['huruf'] == 'B']"
   ]
  },
  {
   "cell_type": "code",
   "execution_count": 121,
   "metadata": {},
   "outputs": [
    {
     "output_type": "execute_result",
     "data": {
      "text/plain": [
       "<matplotlib.axes._subplots.AxesSubplot at 0x7fc15d13e970>"
      ]
     },
     "metadata": {},
     "execution_count": 121
    },
    {
     "output_type": "display_data",
     "data": {
      "text/plain": "<Figure size 432x288 with 1 Axes>",
      "image/svg+xml": "<?xml version=\"1.0\" encoding=\"utf-8\" standalone=\"no\"?>\n<!DOCTYPE svg PUBLIC \"-//W3C//DTD SVG 1.1//EN\"\n  \"http://www.w3.org/Graphics/SVG/1.1/DTD/svg11.dtd\">\n<!-- Created with matplotlib (https://matplotlib.org/) -->\n<svg height=\"248.518125pt\" version=\"1.1\" viewBox=\"0 0 368.925 248.518125\" width=\"368.925pt\" xmlns=\"http://www.w3.org/2000/svg\" xmlns:xlink=\"http://www.w3.org/1999/xlink\">\n <defs>\n  <style type=\"text/css\">\n*{stroke-linecap:butt;stroke-linejoin:round;}\n  </style>\n </defs>\n <g id=\"figure_1\">\n  <g id=\"patch_1\">\n   <path d=\"M -0 248.518125 \nL 368.925 248.518125 \nL 368.925 0 \nL -0 0 \nz\n\" style=\"fill:none;\"/>\n  </g>\n  <g id=\"axes_1\">\n   <g id=\"patch_2\">\n    <path d=\"M 26.925 224.64 \nL 361.725 224.64 \nL 361.725 7.2 \nL 26.925 7.2 \nz\n\" style=\"fill:#ffffff;\"/>\n   </g>\n   <g id=\"matplotlib.axis_1\">\n    <g id=\"xtick_1\">\n     <g id=\"line2d_1\">\n      <defs>\n       <path d=\"M 0 0 \nL 0 3.5 \n\" id=\"m9f645728c9\" style=\"stroke:#000000;stroke-width:0.8;\"/>\n      </defs>\n      <g>\n       <use style=\"stroke:#000000;stroke-width:0.8;\" x=\"42.143182\" xlink:href=\"#m9f645728c9\" y=\"224.64\"/>\n      </g>\n     </g>\n     <g id=\"text_1\">\n      <!-- 0 -->\n      <defs>\n       <path d=\"M 31.78125 66.40625 \nQ 24.171875 66.40625 20.328125 58.90625 \nQ 16.5 51.421875 16.5 36.375 \nQ 16.5 21.390625 20.328125 13.890625 \nQ 24.171875 6.390625 31.78125 6.390625 \nQ 39.453125 6.390625 43.28125 13.890625 \nQ 47.125 21.390625 47.125 36.375 \nQ 47.125 51.421875 43.28125 58.90625 \nQ 39.453125 66.40625 31.78125 66.40625 \nz\nM 31.78125 74.21875 \nQ 44.046875 74.21875 50.515625 64.515625 \nQ 56.984375 54.828125 56.984375 36.375 \nQ 56.984375 17.96875 50.515625 8.265625 \nQ 44.046875 -1.421875 31.78125 -1.421875 \nQ 19.53125 -1.421875 13.0625 8.265625 \nQ 6.59375 17.96875 6.59375 36.375 \nQ 6.59375 54.828125 13.0625 64.515625 \nQ 19.53125 74.21875 31.78125 74.21875 \nz\n\" id=\"DejaVuSans-48\"/>\n      </defs>\n      <g transform=\"translate(38.961932 239.238437)scale(0.1 -0.1)\">\n       <use xlink:href=\"#DejaVuSans-48\"/>\n      </g>\n     </g>\n    </g>\n    <g id=\"xtick_2\">\n     <g id=\"line2d_2\">\n      <g>\n       <use style=\"stroke:#000000;stroke-width:0.8;\" x=\"81.164161\" xlink:href=\"#m9f645728c9\" y=\"224.64\"/>\n      </g>\n     </g>\n     <g id=\"text_2\">\n      <!-- 5 -->\n      <defs>\n       <path d=\"M 10.796875 72.90625 \nL 49.515625 72.90625 \nL 49.515625 64.59375 \nL 19.828125 64.59375 \nL 19.828125 46.734375 \nQ 21.96875 47.46875 24.109375 47.828125 \nQ 26.265625 48.1875 28.421875 48.1875 \nQ 40.625 48.1875 47.75 41.5 \nQ 54.890625 34.8125 54.890625 23.390625 \nQ 54.890625 11.625 47.5625 5.09375 \nQ 40.234375 -1.421875 26.90625 -1.421875 \nQ 22.3125 -1.421875 17.546875 -0.640625 \nQ 12.796875 0.140625 7.71875 1.703125 \nL 7.71875 11.625 \nQ 12.109375 9.234375 16.796875 8.0625 \nQ 21.484375 6.890625 26.703125 6.890625 \nQ 35.15625 6.890625 40.078125 11.328125 \nQ 45.015625 15.765625 45.015625 23.390625 \nQ 45.015625 31 40.078125 35.4375 \nQ 35.15625 39.890625 26.703125 39.890625 \nQ 22.75 39.890625 18.8125 39.015625 \nQ 14.890625 38.140625 10.796875 36.28125 \nz\n\" id=\"DejaVuSans-53\"/>\n      </defs>\n      <g transform=\"translate(77.982911 239.238437)scale(0.1 -0.1)\">\n       <use xlink:href=\"#DejaVuSans-53\"/>\n      </g>\n     </g>\n    </g>\n    <g id=\"xtick_3\">\n     <g id=\"line2d_3\">\n      <g>\n       <use style=\"stroke:#000000;stroke-width:0.8;\" x=\"120.18514\" xlink:href=\"#m9f645728c9\" y=\"224.64\"/>\n      </g>\n     </g>\n     <g id=\"text_3\">\n      <!-- 10 -->\n      <defs>\n       <path d=\"M 12.40625 8.296875 \nL 28.515625 8.296875 \nL 28.515625 63.921875 \nL 10.984375 60.40625 \nL 10.984375 69.390625 \nL 28.421875 72.90625 \nL 38.28125 72.90625 \nL 38.28125 8.296875 \nL 54.390625 8.296875 \nL 54.390625 0 \nL 12.40625 0 \nz\n\" id=\"DejaVuSans-49\"/>\n      </defs>\n      <g transform=\"translate(113.82264 239.238437)scale(0.1 -0.1)\">\n       <use xlink:href=\"#DejaVuSans-49\"/>\n       <use x=\"63.623047\" xlink:href=\"#DejaVuSans-48\"/>\n      </g>\n     </g>\n    </g>\n    <g id=\"xtick_4\">\n     <g id=\"line2d_4\">\n      <g>\n       <use style=\"stroke:#000000;stroke-width:0.8;\" x=\"159.206119\" xlink:href=\"#m9f645728c9\" y=\"224.64\"/>\n      </g>\n     </g>\n     <g id=\"text_4\">\n      <!-- 15 -->\n      <g transform=\"translate(152.843619 239.238437)scale(0.1 -0.1)\">\n       <use xlink:href=\"#DejaVuSans-49\"/>\n       <use x=\"63.623047\" xlink:href=\"#DejaVuSans-53\"/>\n      </g>\n     </g>\n    </g>\n    <g id=\"xtick_5\">\n     <g id=\"line2d_5\">\n      <g>\n       <use style=\"stroke:#000000;stroke-width:0.8;\" x=\"198.227098\" xlink:href=\"#m9f645728c9\" y=\"224.64\"/>\n      </g>\n     </g>\n     <g id=\"text_5\">\n      <!-- 20 -->\n      <defs>\n       <path d=\"M 19.1875 8.296875 \nL 53.609375 8.296875 \nL 53.609375 0 \nL 7.328125 0 \nL 7.328125 8.296875 \nQ 12.9375 14.109375 22.625 23.890625 \nQ 32.328125 33.6875 34.8125 36.53125 \nQ 39.546875 41.84375 41.421875 45.53125 \nQ 43.3125 49.21875 43.3125 52.78125 \nQ 43.3125 58.59375 39.234375 62.25 \nQ 35.15625 65.921875 28.609375 65.921875 \nQ 23.96875 65.921875 18.8125 64.3125 \nQ 13.671875 62.703125 7.8125 59.421875 \nL 7.8125 69.390625 \nQ 13.765625 71.78125 18.9375 73 \nQ 24.125 74.21875 28.421875 74.21875 \nQ 39.75 74.21875 46.484375 68.546875 \nQ 53.21875 62.890625 53.21875 53.421875 \nQ 53.21875 48.921875 51.53125 44.890625 \nQ 49.859375 40.875 45.40625 35.40625 \nQ 44.1875 33.984375 37.640625 27.21875 \nQ 31.109375 20.453125 19.1875 8.296875 \nz\n\" id=\"DejaVuSans-50\"/>\n      </defs>\n      <g transform=\"translate(191.864598 239.238437)scale(0.1 -0.1)\">\n       <use xlink:href=\"#DejaVuSans-50\"/>\n       <use x=\"63.623047\" xlink:href=\"#DejaVuSans-48\"/>\n      </g>\n     </g>\n    </g>\n    <g id=\"xtick_6\">\n     <g id=\"line2d_6\">\n      <g>\n       <use style=\"stroke:#000000;stroke-width:0.8;\" x=\"237.248077\" xlink:href=\"#m9f645728c9\" y=\"224.64\"/>\n      </g>\n     </g>\n     <g id=\"text_6\">\n      <!-- 25 -->\n      <g transform=\"translate(230.885577 239.238437)scale(0.1 -0.1)\">\n       <use xlink:href=\"#DejaVuSans-50\"/>\n       <use x=\"63.623047\" xlink:href=\"#DejaVuSans-53\"/>\n      </g>\n     </g>\n    </g>\n    <g id=\"xtick_7\">\n     <g id=\"line2d_7\">\n      <g>\n       <use style=\"stroke:#000000;stroke-width:0.8;\" x=\"276.269056\" xlink:href=\"#m9f645728c9\" y=\"224.64\"/>\n      </g>\n     </g>\n     <g id=\"text_7\">\n      <!-- 30 -->\n      <defs>\n       <path d=\"M 40.578125 39.3125 \nQ 47.65625 37.796875 51.625 33 \nQ 55.609375 28.21875 55.609375 21.1875 \nQ 55.609375 10.40625 48.1875 4.484375 \nQ 40.765625 -1.421875 27.09375 -1.421875 \nQ 22.515625 -1.421875 17.65625 -0.515625 \nQ 12.796875 0.390625 7.625 2.203125 \nL 7.625 11.71875 \nQ 11.71875 9.328125 16.59375 8.109375 \nQ 21.484375 6.890625 26.8125 6.890625 \nQ 36.078125 6.890625 40.9375 10.546875 \nQ 45.796875 14.203125 45.796875 21.1875 \nQ 45.796875 27.640625 41.28125 31.265625 \nQ 36.765625 34.90625 28.71875 34.90625 \nL 20.21875 34.90625 \nL 20.21875 43.015625 \nL 29.109375 43.015625 \nQ 36.375 43.015625 40.234375 45.921875 \nQ 44.09375 48.828125 44.09375 54.296875 \nQ 44.09375 59.90625 40.109375 62.90625 \nQ 36.140625 65.921875 28.71875 65.921875 \nQ 24.65625 65.921875 20.015625 65.03125 \nQ 15.375 64.15625 9.8125 62.3125 \nL 9.8125 71.09375 \nQ 15.4375 72.65625 20.34375 73.4375 \nQ 25.25 74.21875 29.59375 74.21875 \nQ 40.828125 74.21875 47.359375 69.109375 \nQ 53.90625 64.015625 53.90625 55.328125 \nQ 53.90625 49.265625 50.4375 45.09375 \nQ 46.96875 40.921875 40.578125 39.3125 \nz\n\" id=\"DejaVuSans-51\"/>\n      </defs>\n      <g transform=\"translate(269.906556 239.238437)scale(0.1 -0.1)\">\n       <use xlink:href=\"#DejaVuSans-51\"/>\n       <use x=\"63.623047\" xlink:href=\"#DejaVuSans-48\"/>\n      </g>\n     </g>\n    </g>\n    <g id=\"xtick_8\">\n     <g id=\"line2d_8\">\n      <g>\n       <use style=\"stroke:#000000;stroke-width:0.8;\" x=\"315.290035\" xlink:href=\"#m9f645728c9\" y=\"224.64\"/>\n      </g>\n     </g>\n     <g id=\"text_8\">\n      <!-- 35 -->\n      <g transform=\"translate(308.927535 239.238437)scale(0.1 -0.1)\">\n       <use xlink:href=\"#DejaVuSans-51\"/>\n       <use x=\"63.623047\" xlink:href=\"#DejaVuSans-53\"/>\n      </g>\n     </g>\n    </g>\n    <g id=\"xtick_9\">\n     <g id=\"line2d_9\">\n      <g>\n       <use style=\"stroke:#000000;stroke-width:0.8;\" x=\"354.311014\" xlink:href=\"#m9f645728c9\" y=\"224.64\"/>\n      </g>\n     </g>\n     <g id=\"text_9\">\n      <!-- 40 -->\n      <defs>\n       <path d=\"M 37.796875 64.3125 \nL 12.890625 25.390625 \nL 37.796875 25.390625 \nz\nM 35.203125 72.90625 \nL 47.609375 72.90625 \nL 47.609375 25.390625 \nL 58.015625 25.390625 \nL 58.015625 17.1875 \nL 47.609375 17.1875 \nL 47.609375 0 \nL 37.796875 0 \nL 37.796875 17.1875 \nL 4.890625 17.1875 \nL 4.890625 26.703125 \nz\n\" id=\"DejaVuSans-52\"/>\n      </defs>\n      <g transform=\"translate(347.948514 239.238437)scale(0.1 -0.1)\">\n       <use xlink:href=\"#DejaVuSans-52\"/>\n       <use x=\"63.623047\" xlink:href=\"#DejaVuSans-48\"/>\n      </g>\n     </g>\n    </g>\n   </g>\n   <g id=\"matplotlib.axis_2\">\n    <g id=\"ytick_1\">\n     <g id=\"line2d_10\">\n      <defs>\n       <path d=\"M 0 0 \nL -3.5 0 \n\" id=\"m375e6aa495\" style=\"stroke:#000000;stroke-width:0.8;\"/>\n      </defs>\n      <g>\n       <use style=\"stroke:#000000;stroke-width:0.8;\" x=\"26.925\" xlink:href=\"#m375e6aa495\" y=\"208.605128\"/>\n      </g>\n     </g>\n     <g id=\"text_10\">\n      <!-- 40 -->\n      <g transform=\"translate(7.2 212.404346)scale(0.1 -0.1)\">\n       <use xlink:href=\"#DejaVuSans-52\"/>\n       <use x=\"63.623047\" xlink:href=\"#DejaVuSans-48\"/>\n      </g>\n     </g>\n    </g>\n    <g id=\"ytick_2\">\n     <g id=\"line2d_11\">\n      <g>\n       <use style=\"stroke:#000000;stroke-width:0.8;\" x=\"26.925\" xlink:href=\"#m375e6aa495\" y=\"173.178953\"/>\n      </g>\n     </g>\n     <g id=\"text_11\">\n      <!-- 50 -->\n      <g transform=\"translate(7.2 176.978172)scale(0.1 -0.1)\">\n       <use xlink:href=\"#DejaVuSans-53\"/>\n       <use x=\"63.623047\" xlink:href=\"#DejaVuSans-48\"/>\n      </g>\n     </g>\n    </g>\n    <g id=\"ytick_3\">\n     <g id=\"line2d_12\">\n      <g>\n       <use style=\"stroke:#000000;stroke-width:0.8;\" x=\"26.925\" xlink:href=\"#m375e6aa495\" y=\"137.752778\"/>\n      </g>\n     </g>\n     <g id=\"text_12\">\n      <!-- 60 -->\n      <defs>\n       <path d=\"M 33.015625 40.375 \nQ 26.375 40.375 22.484375 35.828125 \nQ 18.609375 31.296875 18.609375 23.390625 \nQ 18.609375 15.53125 22.484375 10.953125 \nQ 26.375 6.390625 33.015625 6.390625 \nQ 39.65625 6.390625 43.53125 10.953125 \nQ 47.40625 15.53125 47.40625 23.390625 \nQ 47.40625 31.296875 43.53125 35.828125 \nQ 39.65625 40.375 33.015625 40.375 \nz\nM 52.59375 71.296875 \nL 52.59375 62.3125 \nQ 48.875 64.0625 45.09375 64.984375 \nQ 41.3125 65.921875 37.59375 65.921875 \nQ 27.828125 65.921875 22.671875 59.328125 \nQ 17.53125 52.734375 16.796875 39.40625 \nQ 19.671875 43.65625 24.015625 45.921875 \nQ 28.375 48.1875 33.59375 48.1875 \nQ 44.578125 48.1875 50.953125 41.515625 \nQ 57.328125 34.859375 57.328125 23.390625 \nQ 57.328125 12.15625 50.6875 5.359375 \nQ 44.046875 -1.421875 33.015625 -1.421875 \nQ 20.359375 -1.421875 13.671875 8.265625 \nQ 6.984375 17.96875 6.984375 36.375 \nQ 6.984375 53.65625 15.1875 63.9375 \nQ 23.390625 74.21875 37.203125 74.21875 \nQ 40.921875 74.21875 44.703125 73.484375 \nQ 48.484375 72.75 52.59375 71.296875 \nz\n\" id=\"DejaVuSans-54\"/>\n      </defs>\n      <g transform=\"translate(7.2 141.551997)scale(0.1 -0.1)\">\n       <use xlink:href=\"#DejaVuSans-54\"/>\n       <use x=\"63.623047\" xlink:href=\"#DejaVuSans-48\"/>\n      </g>\n     </g>\n    </g>\n    <g id=\"ytick_4\">\n     <g id=\"line2d_13\">\n      <g>\n       <use style=\"stroke:#000000;stroke-width:0.8;\" x=\"26.925\" xlink:href=\"#m375e6aa495\" y=\"102.326603\"/>\n      </g>\n     </g>\n     <g id=\"text_13\">\n      <!-- 70 -->\n      <defs>\n       <path d=\"M 8.203125 72.90625 \nL 55.078125 72.90625 \nL 55.078125 68.703125 \nL 28.609375 0 \nL 18.3125 0 \nL 43.21875 64.59375 \nL 8.203125 64.59375 \nz\n\" id=\"DejaVuSans-55\"/>\n      </defs>\n      <g transform=\"translate(7.2 106.125822)scale(0.1 -0.1)\">\n       <use xlink:href=\"#DejaVuSans-55\"/>\n       <use x=\"63.623047\" xlink:href=\"#DejaVuSans-48\"/>\n      </g>\n     </g>\n    </g>\n    <g id=\"ytick_5\">\n     <g id=\"line2d_14\">\n      <g>\n       <use style=\"stroke:#000000;stroke-width:0.8;\" x=\"26.925\" xlink:href=\"#m375e6aa495\" y=\"66.900429\"/>\n      </g>\n     </g>\n     <g id=\"text_14\">\n      <!-- 80 -->\n      <defs>\n       <path d=\"M 31.78125 34.625 \nQ 24.75 34.625 20.71875 30.859375 \nQ 16.703125 27.09375 16.703125 20.515625 \nQ 16.703125 13.921875 20.71875 10.15625 \nQ 24.75 6.390625 31.78125 6.390625 \nQ 38.8125 6.390625 42.859375 10.171875 \nQ 46.921875 13.96875 46.921875 20.515625 \nQ 46.921875 27.09375 42.890625 30.859375 \nQ 38.875 34.625 31.78125 34.625 \nz\nM 21.921875 38.8125 \nQ 15.578125 40.375 12.03125 44.71875 \nQ 8.5 49.078125 8.5 55.328125 \nQ 8.5 64.0625 14.71875 69.140625 \nQ 20.953125 74.21875 31.78125 74.21875 \nQ 42.671875 74.21875 48.875 69.140625 \nQ 55.078125 64.0625 55.078125 55.328125 \nQ 55.078125 49.078125 51.53125 44.71875 \nQ 48 40.375 41.703125 38.8125 \nQ 48.828125 37.15625 52.796875 32.3125 \nQ 56.78125 27.484375 56.78125 20.515625 \nQ 56.78125 9.90625 50.3125 4.234375 \nQ 43.84375 -1.421875 31.78125 -1.421875 \nQ 19.734375 -1.421875 13.25 4.234375 \nQ 6.78125 9.90625 6.78125 20.515625 \nQ 6.78125 27.484375 10.78125 32.3125 \nQ 14.796875 37.15625 21.921875 38.8125 \nz\nM 18.3125 54.390625 \nQ 18.3125 48.734375 21.84375 45.5625 \nQ 25.390625 42.390625 31.78125 42.390625 \nQ 38.140625 42.390625 41.71875 45.5625 \nQ 45.3125 48.734375 45.3125 54.390625 \nQ 45.3125 60.0625 41.71875 63.234375 \nQ 38.140625 66.40625 31.78125 66.40625 \nQ 25.390625 66.40625 21.84375 63.234375 \nQ 18.3125 60.0625 18.3125 54.390625 \nz\n\" id=\"DejaVuSans-56\"/>\n      </defs>\n      <g transform=\"translate(7.2 70.699647)scale(0.1 -0.1)\">\n       <use xlink:href=\"#DejaVuSans-56\"/>\n       <use x=\"63.623047\" xlink:href=\"#DejaVuSans-48\"/>\n      </g>\n     </g>\n    </g>\n    <g id=\"ytick_6\">\n     <g id=\"line2d_15\">\n      <g>\n       <use style=\"stroke:#000000;stroke-width:0.8;\" x=\"26.925\" xlink:href=\"#m375e6aa495\" y=\"31.474254\"/>\n      </g>\n     </g>\n     <g id=\"text_15\">\n      <!-- 90 -->\n      <defs>\n       <path d=\"M 10.984375 1.515625 \nL 10.984375 10.5 \nQ 14.703125 8.734375 18.5 7.8125 \nQ 22.3125 6.890625 25.984375 6.890625 \nQ 35.75 6.890625 40.890625 13.453125 \nQ 46.046875 20.015625 46.78125 33.40625 \nQ 43.953125 29.203125 39.59375 26.953125 \nQ 35.25 24.703125 29.984375 24.703125 \nQ 19.046875 24.703125 12.671875 31.3125 \nQ 6.296875 37.9375 6.296875 49.421875 \nQ 6.296875 60.640625 12.9375 67.421875 \nQ 19.578125 74.21875 30.609375 74.21875 \nQ 43.265625 74.21875 49.921875 64.515625 \nQ 56.59375 54.828125 56.59375 36.375 \nQ 56.59375 19.140625 48.40625 8.859375 \nQ 40.234375 -1.421875 26.421875 -1.421875 \nQ 22.703125 -1.421875 18.890625 -0.6875 \nQ 15.09375 0.046875 10.984375 1.515625 \nz\nM 30.609375 32.421875 \nQ 37.25 32.421875 41.125 36.953125 \nQ 45.015625 41.5 45.015625 49.421875 \nQ 45.015625 57.28125 41.125 61.84375 \nQ 37.25 66.40625 30.609375 66.40625 \nQ 23.96875 66.40625 20.09375 61.84375 \nQ 16.21875 57.28125 16.21875 49.421875 \nQ 16.21875 41.5 20.09375 36.953125 \nQ 23.96875 32.421875 30.609375 32.421875 \nz\n\" id=\"DejaVuSans-57\"/>\n      </defs>\n      <g transform=\"translate(7.2 35.273473)scale(0.1 -0.1)\">\n       <use xlink:href=\"#DejaVuSans-57\"/>\n       <use x=\"63.623047\" xlink:href=\"#DejaVuSans-48\"/>\n      </g>\n     </g>\n    </g>\n   </g>\n   <g id=\"line2d_16\">\n    <path clip-path=\"url(#p773f5a25c6)\" d=\"M 42.143182 61.932967 \nL 49.947378 57.292363 \nL 57.751573 64.893787 \nL 65.555769 48.083957 \nL 73.359965 81.938454 \nL 81.164161 64.918714 \nL 88.968357 27.09902 \nL 96.772552 49.624421 \nL 104.576748 48.564316 \nL 112.380944 38.792969 \nL 120.18514 60.676513 \nL 127.989336 56.483728 \nL 135.793531 49.23521 \nL 143.597727 49.711053 \nL 151.401923 74.470917 \nL 159.206119 66.963318 \nL 167.010315 60.115113 \nL 174.81451 50.574211 \nL 182.618706 53.834402 \nL 190.422902 80.88508 \nL 198.227098 52.574033 \nL 206.031294 56.135142 \nL 213.83549 55.418044 \nL 221.639685 43.617154 \nL 229.443881 36.743751 \nL 237.248077 54.203295 \nL 245.052273 33.315551 \nL 252.856469 63.661418 \nL 260.660664 81.263567 \nL 268.46486 38.236455 \nL 276.269056 64.650518 \nL 284.073252 61.979705 \nL 291.877448 67.964657 \nL 299.681643 70.096011 \nL 307.485839 83.009647 \nL 315.290035 54.069006 \nL 323.094231 76.177121 \nL 330.898427 66.384793 \nL 338.702622 55.179372 \nL 346.506818 67.575302 \n\" style=\"fill:none;stroke:#1f77b4;stroke-linecap:square;stroke-width:1.5;\"/>\n   </g>\n   <g id=\"line2d_17\">\n    <path clip-path=\"url(#p773f5a25c6)\" d=\"M 42.143182 142.656074 \nL 49.947378 91.483047 \nL 57.751573 148.902899 \nL 65.555769 94.005595 \nL 73.359965 100.462175 \nL 81.164161 105.956342 \nL 88.968357 164.747256 \nL 96.772552 130.518499 \nL 104.576748 171.695593 \nL 112.380944 105.249323 \nL 120.18514 64.977093 \nL 127.989336 177.438342 \nL 135.793531 165.320416 \nL 143.597727 161.262784 \nL 151.401923 214.756364 \nL 159.206119 138.588302 \nL 167.010315 176.367538 \nL 174.81451 170.679706 \nL 182.618706 91.291784 \nL 190.422902 46.378807 \nL 198.227098 135.930628 \nL 206.031294 148.895975 \nL 213.83549 123.467278 \nL 221.639685 176.663888 \nL 229.443881 131.031034 \nL 237.248077 145.978422 \nL 245.052273 94.872535 \nL 252.856469 152.299994 \nL 260.660664 141.183278 \nL 268.46486 144.993709 \nL 276.269056 146.993369 \nL 284.073252 67.522172 \nL 291.877448 175.316763 \nL 299.681643 168.501234 \nL 307.485839 114.583735 \nL 315.290035 146.681197 \nL 323.094231 154.813754 \nL 330.898427 201.239769 \nL 338.702622 173.428732 \nL 346.506818 150.965233 \n\" style=\"fill:none;stroke:#ff7f0e;stroke-linecap:square;stroke-width:1.5;\"/>\n   </g>\n   <g id=\"line2d_18\">\n    <path clip-path=\"url(#p773f5a25c6)\" d=\"M 42.143182 116.044205 \nL 49.947378 107.597506 \nL 57.751573 120.515921 \nL 65.555769 93.133148 \nL 73.359965 76.761948 \nL 81.164161 94.788079 \nL 88.968357 88.114764 \nL 96.772552 132.545536 \nL 104.576748 121.457787 \nL 112.380944 111.06824 \nL 120.18514 17.083636 \nL 127.989336 93.45623 \nL 135.793531 96.75606 \nL 143.597727 94.457611 \nL 151.401923 107.590091 \nL 159.206119 110.102718 \nL 167.010315 61.911891 \nL 174.81451 98.025957 \nL 182.618706 99.487446 \nL 190.422902 100.14278 \nL 198.227098 94.789066 \nL 206.031294 111.737508 \nL 213.83549 124.4064 \nL 221.639685 80.292815 \nL 229.443881 81.052861 \nL 237.248077 83.271356 \nL 245.052273 87.358428 \nL 252.856469 95.912152 \nL 260.660664 150.685042 \nL 268.46486 118.193697 \nL 276.269056 112.575818 \nL 284.073252 96.584293 \nL 291.877448 120.429329 \nL 299.681643 62.203807 \nL 307.485839 139.946328 \nL 315.290035 91.0185 \nL 323.094231 123.659602 \nL 330.898427 128.589428 \nL 338.702622 120.736277 \nL 346.506818 106.948852 \n\" style=\"fill:none;stroke:#2ca02c;stroke-linecap:square;stroke-width:1.5;\"/>\n   </g>\n   <g id=\"line2d_19\">\n    <path clip-path=\"url(#p773f5a25c6)\" d=\"M 42.143182 115.866705 \nL 49.947378 91.090694 \nL 57.751573 120.746285 \nL 65.555769 84.472289 \nL 73.359965 87.27734 \nL 81.164161 93.281511 \nL 88.968357 106.564612 \nL 96.772552 115.150498 \nL 104.576748 126.974215 \nL 112.380944 94.285619 \nL 120.18514 44.959594 \nL 127.989336 119.654574 \nL 135.793531 114.677633 \nL 143.597727 112.230369 \nL 151.401923 143.832765 \nL 159.206119 112.869071 \nL 167.010315 107.334794 \nL 174.81451 117.597108 \nL 182.618706 87.078572 \nL 190.422902 74.785651 \nL 198.227098 102.802684 \nL 206.031294 115.480422 \nL 213.83549 110.23308 \nL 221.639685 111.506112 \nL 229.443881 92.182308 \nL 237.248077 102.54057 \nL 245.052273 79.555495 \nL 252.856469 112.017142 \nL 260.660664 133.000042 \nL 268.46486 112.922254 \nL 276.269056 116.757778 \nL 284.073252 78.038527 \nL 291.877448 131.891368 \nL 299.681643 106.301218 \nL 307.485839 118.413954 \nL 315.290035 105.89368 \nL 323.094231 126.624767 \nL 330.898427 145.208637 \nL 338.702622 128.701878 \nL 346.506818 116.680694 \n\" style=\"fill:none;stroke:#d62728;stroke-linecap:square;stroke-width:1.5;\"/>\n   </g>\n   <g id=\"patch_3\">\n    <path d=\"M 26.925 224.64 \nL 26.925 7.2 \n\" style=\"fill:none;stroke:#000000;stroke-linecap:square;stroke-linejoin:miter;stroke-width:0.8;\"/>\n   </g>\n   <g id=\"patch_4\">\n    <path d=\"M 361.725 224.64 \nL 361.725 7.2 \n\" style=\"fill:none;stroke:#000000;stroke-linecap:square;stroke-linejoin:miter;stroke-width:0.8;\"/>\n   </g>\n   <g id=\"patch_5\">\n    <path d=\"M 26.925 224.64 \nL 361.725 224.64 \n\" style=\"fill:none;stroke:#000000;stroke-linecap:square;stroke-linejoin:miter;stroke-width:0.8;\"/>\n   </g>\n   <g id=\"patch_6\">\n    <path d=\"M 26.925 7.2 \nL 361.725 7.2 \n\" style=\"fill:none;stroke:#000000;stroke-linecap:square;stroke-linejoin:miter;stroke-width:0.8;\"/>\n   </g>\n   <g id=\"legend_1\">\n    <g id=\"patch_7\">\n     <path d=\"M 33.925 219.64 \nL 97.745313 219.64 \nQ 99.745313 219.64 99.745313 217.64 \nL 99.745313 159.9275 \nQ 99.745313 157.9275 97.745313 157.9275 \nL 33.925 157.9275 \nQ 31.925 157.9275 31.925 159.9275 \nL 31.925 217.64 \nQ 31.925 219.64 33.925 219.64 \nz\n\" style=\"fill:#ffffff;opacity:0.8;stroke:#cccccc;stroke-linejoin:miter;\"/>\n    </g>\n    <g id=\"line2d_20\">\n     <path d=\"M 35.925 166.025937 \nL 55.925 166.025937 \n\" style=\"fill:none;stroke:#1f77b4;stroke-linecap:square;stroke-width:1.5;\"/>\n    </g>\n    <g id=\"line2d_21\"/>\n    <g id=\"text_16\">\n     <!-- harian -->\n     <defs>\n      <path d=\"M 54.890625 33.015625 \nL 54.890625 0 \nL 45.90625 0 \nL 45.90625 32.71875 \nQ 45.90625 40.484375 42.875 44.328125 \nQ 39.84375 48.1875 33.796875 48.1875 \nQ 26.515625 48.1875 22.3125 43.546875 \nQ 18.109375 38.921875 18.109375 30.90625 \nL 18.109375 0 \nL 9.078125 0 \nL 9.078125 75.984375 \nL 18.109375 75.984375 \nL 18.109375 46.1875 \nQ 21.34375 51.125 25.703125 53.5625 \nQ 30.078125 56 35.796875 56 \nQ 45.21875 56 50.046875 50.171875 \nQ 54.890625 44.34375 54.890625 33.015625 \nz\n\" id=\"DejaVuSans-104\"/>\n      <path d=\"M 34.28125 27.484375 \nQ 23.390625 27.484375 19.1875 25 \nQ 14.984375 22.515625 14.984375 16.5 \nQ 14.984375 11.71875 18.140625 8.90625 \nQ 21.296875 6.109375 26.703125 6.109375 \nQ 34.1875 6.109375 38.703125 11.40625 \nQ 43.21875 16.703125 43.21875 25.484375 \nL 43.21875 27.484375 \nz\nM 52.203125 31.203125 \nL 52.203125 0 \nL 43.21875 0 \nL 43.21875 8.296875 \nQ 40.140625 3.328125 35.546875 0.953125 \nQ 30.953125 -1.421875 24.3125 -1.421875 \nQ 15.921875 -1.421875 10.953125 3.296875 \nQ 6 8.015625 6 15.921875 \nQ 6 25.140625 12.171875 29.828125 \nQ 18.359375 34.515625 30.609375 34.515625 \nL 43.21875 34.515625 \nL 43.21875 35.40625 \nQ 43.21875 41.609375 39.140625 45 \nQ 35.0625 48.390625 27.6875 48.390625 \nQ 23 48.390625 18.546875 47.265625 \nQ 14.109375 46.140625 10.015625 43.890625 \nL 10.015625 52.203125 \nQ 14.9375 54.109375 19.578125 55.046875 \nQ 24.21875 56 28.609375 56 \nQ 40.484375 56 46.34375 49.84375 \nQ 52.203125 43.703125 52.203125 31.203125 \nz\n\" id=\"DejaVuSans-97\"/>\n      <path d=\"M 41.109375 46.296875 \nQ 39.59375 47.171875 37.8125 47.578125 \nQ 36.03125 48 33.890625 48 \nQ 26.265625 48 22.1875 43.046875 \nQ 18.109375 38.09375 18.109375 28.8125 \nL 18.109375 0 \nL 9.078125 0 \nL 9.078125 54.6875 \nL 18.109375 54.6875 \nL 18.109375 46.1875 \nQ 20.953125 51.171875 25.484375 53.578125 \nQ 30.03125 56 36.53125 56 \nQ 37.453125 56 38.578125 55.875 \nQ 39.703125 55.765625 41.0625 55.515625 \nz\n\" id=\"DejaVuSans-114\"/>\n      <path d=\"M 9.421875 54.6875 \nL 18.40625 54.6875 \nL 18.40625 0 \nL 9.421875 0 \nz\nM 9.421875 75.984375 \nL 18.40625 75.984375 \nL 18.40625 64.59375 \nL 9.421875 64.59375 \nz\n\" id=\"DejaVuSans-105\"/>\n      <path d=\"M 54.890625 33.015625 \nL 54.890625 0 \nL 45.90625 0 \nL 45.90625 32.71875 \nQ 45.90625 40.484375 42.875 44.328125 \nQ 39.84375 48.1875 33.796875 48.1875 \nQ 26.515625 48.1875 22.3125 43.546875 \nQ 18.109375 38.921875 18.109375 30.90625 \nL 18.109375 0 \nL 9.078125 0 \nL 9.078125 54.6875 \nL 18.109375 54.6875 \nL 18.109375 46.1875 \nQ 21.34375 51.125 25.703125 53.5625 \nQ 30.078125 56 35.796875 56 \nQ 45.21875 56 50.046875 50.171875 \nQ 54.890625 44.34375 54.890625 33.015625 \nz\n\" id=\"DejaVuSans-110\"/>\n     </defs>\n     <g transform=\"translate(63.925 169.525937)scale(0.1 -0.1)\">\n      <use xlink:href=\"#DejaVuSans-104\"/>\n      <use x=\"63.378906\" xlink:href=\"#DejaVuSans-97\"/>\n      <use x=\"124.658203\" xlink:href=\"#DejaVuSans-114\"/>\n      <use x=\"165.771484\" xlink:href=\"#DejaVuSans-105\"/>\n      <use x=\"193.554688\" xlink:href=\"#DejaVuSans-97\"/>\n      <use x=\"254.833984\" xlink:href=\"#DejaVuSans-110\"/>\n     </g>\n    </g>\n    <g id=\"line2d_22\">\n     <path d=\"M 35.925 180.704062 \nL 55.925 180.704062 \n\" style=\"fill:none;stroke:#ff7f0e;stroke-linecap:square;stroke-width:1.5;\"/>\n    </g>\n    <g id=\"line2d_23\"/>\n    <g id=\"text_17\">\n     <!-- uts -->\n     <defs>\n      <path d=\"M 8.5 21.578125 \nL 8.5 54.6875 \nL 17.484375 54.6875 \nL 17.484375 21.921875 \nQ 17.484375 14.15625 20.5 10.265625 \nQ 23.53125 6.390625 29.59375 6.390625 \nQ 36.859375 6.390625 41.078125 11.03125 \nQ 45.3125 15.671875 45.3125 23.6875 \nL 45.3125 54.6875 \nL 54.296875 54.6875 \nL 54.296875 0 \nL 45.3125 0 \nL 45.3125 8.40625 \nQ 42.046875 3.421875 37.71875 1 \nQ 33.40625 -1.421875 27.6875 -1.421875 \nQ 18.265625 -1.421875 13.375 4.4375 \nQ 8.5 10.296875 8.5 21.578125 \nz\nM 31.109375 56 \nz\n\" id=\"DejaVuSans-117\"/>\n      <path d=\"M 18.3125 70.21875 \nL 18.3125 54.6875 \nL 36.8125 54.6875 \nL 36.8125 47.703125 \nL 18.3125 47.703125 \nL 18.3125 18.015625 \nQ 18.3125 11.328125 20.140625 9.421875 \nQ 21.96875 7.515625 27.59375 7.515625 \nL 36.8125 7.515625 \nL 36.8125 0 \nL 27.59375 0 \nQ 17.1875 0 13.234375 3.875 \nQ 9.28125 7.765625 9.28125 18.015625 \nL 9.28125 47.703125 \nL 2.6875 47.703125 \nL 2.6875 54.6875 \nL 9.28125 54.6875 \nL 9.28125 70.21875 \nz\n\" id=\"DejaVuSans-116\"/>\n      <path d=\"M 44.28125 53.078125 \nL 44.28125 44.578125 \nQ 40.484375 46.53125 36.375 47.5 \nQ 32.28125 48.484375 27.875 48.484375 \nQ 21.1875 48.484375 17.84375 46.4375 \nQ 14.5 44.390625 14.5 40.28125 \nQ 14.5 37.15625 16.890625 35.375 \nQ 19.28125 33.59375 26.515625 31.984375 \nL 29.59375 31.296875 \nQ 39.15625 29.25 43.1875 25.515625 \nQ 47.21875 21.78125 47.21875 15.09375 \nQ 47.21875 7.46875 41.1875 3.015625 \nQ 35.15625 -1.421875 24.609375 -1.421875 \nQ 20.21875 -1.421875 15.453125 -0.5625 \nQ 10.6875 0.296875 5.421875 2 \nL 5.421875 11.28125 \nQ 10.40625 8.6875 15.234375 7.390625 \nQ 20.0625 6.109375 24.8125 6.109375 \nQ 31.15625 6.109375 34.5625 8.28125 \nQ 37.984375 10.453125 37.984375 14.40625 \nQ 37.984375 18.0625 35.515625 20.015625 \nQ 33.0625 21.96875 24.703125 23.78125 \nL 21.578125 24.515625 \nQ 13.234375 26.265625 9.515625 29.90625 \nQ 5.8125 33.546875 5.8125 39.890625 \nQ 5.8125 47.609375 11.28125 51.796875 \nQ 16.75 56 26.8125 56 \nQ 31.78125 56 36.171875 55.265625 \nQ 40.578125 54.546875 44.28125 53.078125 \nz\n\" id=\"DejaVuSans-115\"/>\n     </defs>\n     <g transform=\"translate(63.925 184.204062)scale(0.1 -0.1)\">\n      <use xlink:href=\"#DejaVuSans-117\"/>\n      <use x=\"63.378906\" xlink:href=\"#DejaVuSans-116\"/>\n      <use x=\"102.587891\" xlink:href=\"#DejaVuSans-115\"/>\n     </g>\n    </g>\n    <g id=\"line2d_24\">\n     <path d=\"M 35.925 195.382187 \nL 55.925 195.382187 \n\" style=\"fill:none;stroke:#2ca02c;stroke-linecap:square;stroke-width:1.5;\"/>\n    </g>\n    <g id=\"line2d_25\"/>\n    <g id=\"text_18\">\n     <!-- uas -->\n     <g transform=\"translate(63.925 198.882187)scale(0.1 -0.1)\">\n      <use xlink:href=\"#DejaVuSans-117\"/>\n      <use x=\"63.378906\" xlink:href=\"#DejaVuSans-97\"/>\n      <use x=\"124.658203\" xlink:href=\"#DejaVuSans-115\"/>\n     </g>\n    </g>\n    <g id=\"line2d_26\">\n     <path d=\"M 35.925 210.060312 \nL 55.925 210.060312 \n\" style=\"fill:none;stroke:#d62728;stroke-linecap:square;stroke-width:1.5;\"/>\n    </g>\n    <g id=\"line2d_27\"/>\n    <g id=\"text_19\">\n     <!-- akhir -->\n     <defs>\n      <path d=\"M 9.078125 75.984375 \nL 18.109375 75.984375 \nL 18.109375 31.109375 \nL 44.921875 54.6875 \nL 56.390625 54.6875 \nL 27.390625 29.109375 \nL 57.625 0 \nL 45.90625 0 \nL 18.109375 26.703125 \nL 18.109375 0 \nL 9.078125 0 \nz\n\" id=\"DejaVuSans-107\"/>\n     </defs>\n     <g transform=\"translate(63.925 213.560312)scale(0.1 -0.1)\">\n      <use xlink:href=\"#DejaVuSans-97\"/>\n      <use x=\"61.279297\" xlink:href=\"#DejaVuSans-107\"/>\n      <use x=\"119.189453\" xlink:href=\"#DejaVuSans-104\"/>\n      <use x=\"182.568359\" xlink:href=\"#DejaVuSans-105\"/>\n      <use x=\"210.351562\" xlink:href=\"#DejaVuSans-114\"/>\n     </g>\n    </g>\n   </g>\n  </g>\n </g>\n <defs>\n  <clipPath id=\"p773f5a25c6\">\n   <rect height=\"217.44\" width=\"334.8\" x=\"26.925\" y=\"7.2\"/>\n  </clipPath>\n </defs>\n</svg>\n",
      "image/png": "[encoded data removed]"
     },
     "metadata": {
      "needs_background": "light"
     }
    }
   ],
   "source": [
    "nilai.plot()"
   ]
  },
  {
   "cell_type": "code",
   "execution_count": 123,
   "metadata": {},
   "outputs": [
    {
     "output_type": "execute_result",
     "data": {
      "text/plain": [
       "<matplotlib.axes._subplots.AxesSubplot at 0x7fc15d178d60>"
      ]
     },
     "metadata": {},
     "execution_count": 123
    },
    {
     "output_type": "display_data",
     "data": {
      "text/plain": "<Figure size 432x288 with 1 Axes>",
      "image/svg+xml": "<?xml version=\"1.0\" encoding=\"utf-8\" standalone=\"no\"?>\n<!DOCTYPE svg PUBLIC \"-//W3C//DTD SVG 1.1//EN\"\n  \"http://www.w3.org/Graphics/SVG/1.1/DTD/svg11.dtd\">\n<!-- Created with matplotlib (https://matplotlib.org/) -->\n<svg height=\"248.518125pt\" version=\"1.1\" viewBox=\"0 0 382.603125 248.518125\" width=\"382.603125pt\" xmlns=\"http://www.w3.org/2000/svg\" xmlns:xlink=\"http://www.w3.org/1999/xlink\">\n <defs>\n  <style type=\"text/css\">\n*{stroke-linecap:butt;stroke-linejoin:round;}\n  </style>\n </defs>\n <g id=\"figure_1\">\n  <g id=\"patch_1\">\n   <path d=\"M 0 248.518125 \nL 382.603125 248.518125 \nL 382.603125 0 \nL 0 0 \nz\n\" style=\"fill:none;\"/>\n  </g>\n  <g id=\"axes_1\">\n   <g id=\"patch_2\">\n    <path d=\"M 40.603125 224.64 \nL 375.403125 224.64 \nL 375.403125 7.2 \nL 40.603125 7.2 \nz\n\" style=\"fill:#ffffff;\"/>\n   </g>\n   <g id=\"patch_3\">\n    <path clip-path=\"url(#p08052b23ca)\" d=\"M 55.821307 224.64 \nL 86.25767 224.64 \nL 86.25767 186.988052 \nL 55.821307 186.988052 \nz\n\" style=\"fill:#1f77b4;\"/>\n   </g>\n   <g id=\"patch_4\">\n    <path clip-path=\"url(#p08052b23ca)\" d=\"M 86.25767 224.64 \nL 116.694034 224.64 \nL 116.694034 130.51013 \nL 86.25767 130.51013 \nz\n\" style=\"fill:#1f77b4;\"/>\n   </g>\n   <g id=\"patch_5\">\n    <path clip-path=\"url(#p08052b23ca)\" d=\"M 116.694034 224.64 \nL 147.130398 224.64 \nL 147.130398 55.206234 \nL 116.694034 55.206234 \nz\n\" style=\"fill:#1f77b4;\"/>\n   </g>\n   <g id=\"patch_6\">\n    <path clip-path=\"url(#p08052b23ca)\" d=\"M 147.130398 224.64 \nL 177.566761 224.64 \nL 177.566761 17.554286 \nL 147.130398 17.554286 \nz\n\" style=\"fill:#1f77b4;\"/>\n   </g>\n   <g id=\"patch_7\">\n    <path clip-path=\"url(#p08052b23ca)\" d=\"M 177.566761 224.64 \nL 208.003125 224.64 \nL 208.003125 186.988052 \nL 177.566761 186.988052 \nz\n\" style=\"fill:#1f77b4;\"/>\n   </g>\n   <g id=\"patch_8\">\n    <path clip-path=\"url(#p08052b23ca)\" d=\"M 208.003125 224.64 \nL 238.439489 224.64 \nL 238.439489 111.684156 \nL 208.003125 111.684156 \nz\n\" style=\"fill:#1f77b4;\"/>\n   </g>\n   <g id=\"patch_9\">\n    <path clip-path=\"url(#p08052b23ca)\" d=\"M 238.439489 224.64 \nL 268.875852 224.64 \nL 268.875852 168.162078 \nL 238.439489 168.162078 \nz\n\" style=\"fill:#1f77b4;\"/>\n   </g>\n   <g id=\"patch_10\">\n    <path clip-path=\"url(#p08052b23ca)\" d=\"M 268.875852 224.64 \nL 299.312216 224.64 \nL 299.312216 205.814026 \nL 268.875852 205.814026 \nz\n\" style=\"fill:#1f77b4;\"/>\n   </g>\n   <g id=\"patch_11\">\n    <path clip-path=\"url(#p08052b23ca)\" d=\"M 299.312216 224.64 \nL 329.74858 224.64 \nL 329.74858 224.64 \nL 299.312216 224.64 \nz\n\" style=\"fill:#1f77b4;\"/>\n   </g>\n   <g id=\"patch_12\">\n    <path clip-path=\"url(#p08052b23ca)\" d=\"M 329.74858 224.64 \nL 360.184943 224.64 \nL 360.184943 205.814026 \nL 329.74858 205.814026 \nz\n\" style=\"fill:#1f77b4;\"/>\n   </g>\n   <g id=\"matplotlib.axis_1\">\n    <g id=\"xtick_1\">\n     <g id=\"line2d_1\">\n      <defs>\n       <path d=\"M 0 0 \nL 0 3.5 \n\" id=\"mfa3b83fd73\" style=\"stroke:#000000;stroke-width:0.8;\"/>\n      </defs>\n      <g>\n       <use style=\"stroke:#000000;stroke-width:0.8;\" x=\"78.457856\" xlink:href=\"#mfa3b83fd73\" y=\"224.64\"/>\n      </g>\n     </g>\n     <g id=\"text_1\">\n      <!-- 60 -->\n      <defs>\n       <path d=\"M 33.015625 40.375 \nQ 26.375 40.375 22.484375 35.828125 \nQ 18.609375 31.296875 18.609375 23.390625 \nQ 18.609375 15.53125 22.484375 10.953125 \nQ 26.375 6.390625 33.015625 6.390625 \nQ 39.65625 6.390625 43.53125 10.953125 \nQ 47.40625 15.53125 47.40625 23.390625 \nQ 47.40625 31.296875 43.53125 35.828125 \nQ 39.65625 40.375 33.015625 40.375 \nz\nM 52.59375 71.296875 \nL 52.59375 62.3125 \nQ 48.875 64.0625 45.09375 64.984375 \nQ 41.3125 65.921875 37.59375 65.921875 \nQ 27.828125 65.921875 22.671875 59.328125 \nQ 17.53125 52.734375 16.796875 39.40625 \nQ 19.671875 43.65625 24.015625 45.921875 \nQ 28.375 48.1875 33.59375 48.1875 \nQ 44.578125 48.1875 50.953125 41.515625 \nQ 57.328125 34.859375 57.328125 23.390625 \nQ 57.328125 12.15625 50.6875 5.359375 \nQ 44.046875 -1.421875 33.015625 -1.421875 \nQ 20.359375 -1.421875 13.671875 8.265625 \nQ 6.984375 17.96875 6.984375 36.375 \nQ 6.984375 53.65625 15.1875 63.9375 \nQ 23.390625 74.21875 37.203125 74.21875 \nQ 40.921875 74.21875 44.703125 73.484375 \nQ 48.484375 72.75 52.59375 71.296875 \nz\n\" id=\"DejaVuSans-54\"/>\n       <path d=\"M 31.78125 66.40625 \nQ 24.171875 66.40625 20.328125 58.90625 \nQ 16.5 51.421875 16.5 36.375 \nQ 16.5 21.390625 20.328125 13.890625 \nQ 24.171875 6.390625 31.78125 6.390625 \nQ 39.453125 6.390625 43.28125 13.890625 \nQ 47.125 21.390625 47.125 36.375 \nQ 47.125 51.421875 43.28125 58.90625 \nQ 39.453125 66.40625 31.78125 66.40625 \nz\nM 31.78125 74.21875 \nQ 44.046875 74.21875 50.515625 64.515625 \nQ 56.984375 54.828125 56.984375 36.375 \nQ 56.984375 17.96875 50.515625 8.265625 \nQ 44.046875 -1.421875 31.78125 -1.421875 \nQ 19.53125 -1.421875 13.0625 8.265625 \nQ 6.59375 17.96875 6.59375 36.375 \nQ 6.59375 54.828125 13.0625 64.515625 \nQ 19.53125 74.21875 31.78125 74.21875 \nz\n\" id=\"DejaVuSans-48\"/>\n      </defs>\n      <g transform=\"translate(72.095356 239.238437)scale(0.1 -0.1)\">\n       <use xlink:href=\"#DejaVuSans-54\"/>\n       <use x=\"63.623047\" xlink:href=\"#DejaVuSans-48\"/>\n      </g>\n     </g>\n    </g>\n    <g id=\"xtick_2\">\n     <g id=\"line2d_2\">\n      <g>\n       <use style=\"stroke:#000000;stroke-width:0.8;\" x=\"132.236122\" xlink:href=\"#mfa3b83fd73\" y=\"224.64\"/>\n      </g>\n     </g>\n     <g id=\"text_2\">\n      <!-- 65 -->\n      <defs>\n       <path d=\"M 10.796875 72.90625 \nL 49.515625 72.90625 \nL 49.515625 64.59375 \nL 19.828125 64.59375 \nL 19.828125 46.734375 \nQ 21.96875 47.46875 24.109375 47.828125 \nQ 26.265625 48.1875 28.421875 48.1875 \nQ 40.625 48.1875 47.75 41.5 \nQ 54.890625 34.8125 54.890625 23.390625 \nQ 54.890625 11.625 47.5625 5.09375 \nQ 40.234375 -1.421875 26.90625 -1.421875 \nQ 22.3125 -1.421875 17.546875 -0.640625 \nQ 12.796875 0.140625 7.71875 1.703125 \nL 7.71875 11.625 \nQ 12.109375 9.234375 16.796875 8.0625 \nQ 21.484375 6.890625 26.703125 6.890625 \nQ 35.15625 6.890625 40.078125 11.328125 \nQ 45.015625 15.765625 45.015625 23.390625 \nQ 45.015625 31 40.078125 35.4375 \nQ 35.15625 39.890625 26.703125 39.890625 \nQ 22.75 39.890625 18.8125 39.015625 \nQ 14.890625 38.140625 10.796875 36.28125 \nz\n\" id=\"DejaVuSans-53\"/>\n      </defs>\n      <g transform=\"translate(125.873622 239.238437)scale(0.1 -0.1)\">\n       <use xlink:href=\"#DejaVuSans-54\"/>\n       <use x=\"63.623047\" xlink:href=\"#DejaVuSans-53\"/>\n      </g>\n     </g>\n    </g>\n    <g id=\"xtick_3\">\n     <g id=\"line2d_3\">\n      <g>\n       <use style=\"stroke:#000000;stroke-width:0.8;\" x=\"186.014388\" xlink:href=\"#mfa3b83fd73\" y=\"224.64\"/>\n      </g>\n     </g>\n     <g id=\"text_3\">\n      <!-- 70 -->\n      <defs>\n       <path d=\"M 8.203125 72.90625 \nL 55.078125 72.90625 \nL 55.078125 68.703125 \nL 28.609375 0 \nL 18.3125 0 \nL 43.21875 64.59375 \nL 8.203125 64.59375 \nz\n\" id=\"DejaVuSans-55\"/>\n      </defs>\n      <g transform=\"translate(179.651888 239.238437)scale(0.1 -0.1)\">\n       <use xlink:href=\"#DejaVuSans-55\"/>\n       <use x=\"63.623047\" xlink:href=\"#DejaVuSans-48\"/>\n      </g>\n     </g>\n    </g>\n    <g id=\"xtick_4\">\n     <g id=\"line2d_4\">\n      <g>\n       <use style=\"stroke:#000000;stroke-width:0.8;\" x=\"239.792653\" xlink:href=\"#mfa3b83fd73\" y=\"224.64\"/>\n      </g>\n     </g>\n     <g id=\"text_4\">\n      <!-- 75 -->\n      <g transform=\"translate(233.430153 239.238437)scale(0.1 -0.1)\">\n       <use xlink:href=\"#DejaVuSans-55\"/>\n       <use x=\"63.623047\" xlink:href=\"#DejaVuSans-53\"/>\n      </g>\n     </g>\n    </g>\n    <g id=\"xtick_5\">\n     <g id=\"line2d_5\">\n      <g>\n       <use style=\"stroke:#000000;stroke-width:0.8;\" x=\"293.570919\" xlink:href=\"#mfa3b83fd73\" y=\"224.64\"/>\n      </g>\n     </g>\n     <g id=\"text_5\">\n      <!-- 80 -->\n      <defs>\n       <path d=\"M 31.78125 34.625 \nQ 24.75 34.625 20.71875 30.859375 \nQ 16.703125 27.09375 16.703125 20.515625 \nQ 16.703125 13.921875 20.71875 10.15625 \nQ 24.75 6.390625 31.78125 6.390625 \nQ 38.8125 6.390625 42.859375 10.171875 \nQ 46.921875 13.96875 46.921875 20.515625 \nQ 46.921875 27.09375 42.890625 30.859375 \nQ 38.875 34.625 31.78125 34.625 \nz\nM 21.921875 38.8125 \nQ 15.578125 40.375 12.03125 44.71875 \nQ 8.5 49.078125 8.5 55.328125 \nQ 8.5 64.0625 14.71875 69.140625 \nQ 20.953125 74.21875 31.78125 74.21875 \nQ 42.671875 74.21875 48.875 69.140625 \nQ 55.078125 64.0625 55.078125 55.328125 \nQ 55.078125 49.078125 51.53125 44.71875 \nQ 48 40.375 41.703125 38.8125 \nQ 48.828125 37.15625 52.796875 32.3125 \nQ 56.78125 27.484375 56.78125 20.515625 \nQ 56.78125 9.90625 50.3125 4.234375 \nQ 43.84375 -1.421875 31.78125 -1.421875 \nQ 19.734375 -1.421875 13.25 4.234375 \nQ 6.78125 9.90625 6.78125 20.515625 \nQ 6.78125 27.484375 10.78125 32.3125 \nQ 14.796875 37.15625 21.921875 38.8125 \nz\nM 18.3125 54.390625 \nQ 18.3125 48.734375 21.84375 45.5625 \nQ 25.390625 42.390625 31.78125 42.390625 \nQ 38.140625 42.390625 41.71875 45.5625 \nQ 45.3125 48.734375 45.3125 54.390625 \nQ 45.3125 60.0625 41.71875 63.234375 \nQ 38.140625 66.40625 31.78125 66.40625 \nQ 25.390625 66.40625 21.84375 63.234375 \nQ 18.3125 60.0625 18.3125 54.390625 \nz\n\" id=\"DejaVuSans-56\"/>\n      </defs>\n      <g transform=\"translate(287.208419 239.238437)scale(0.1 -0.1)\">\n       <use xlink:href=\"#DejaVuSans-56\"/>\n       <use x=\"63.623047\" xlink:href=\"#DejaVuSans-48\"/>\n      </g>\n     </g>\n    </g>\n    <g id=\"xtick_6\">\n     <g id=\"line2d_6\">\n      <g>\n       <use style=\"stroke:#000000;stroke-width:0.8;\" x=\"347.349185\" xlink:href=\"#mfa3b83fd73\" y=\"224.64\"/>\n      </g>\n     </g>\n     <g id=\"text_6\">\n      <!-- 85 -->\n      <g transform=\"translate(340.986685 239.238437)scale(0.1 -0.1)\">\n       <use xlink:href=\"#DejaVuSans-56\"/>\n       <use x=\"63.623047\" xlink:href=\"#DejaVuSans-53\"/>\n      </g>\n     </g>\n    </g>\n   </g>\n   <g id=\"matplotlib.axis_2\">\n    <g id=\"ytick_1\">\n     <g id=\"line2d_7\">\n      <defs>\n       <path d=\"M 0 0 \nL -3.5 0 \n\" id=\"m69679d5205\" style=\"stroke:#000000;stroke-width:0.8;\"/>\n      </defs>\n      <g>\n       <use style=\"stroke:#000000;stroke-width:0.8;\" x=\"40.603125\" xlink:href=\"#m69679d5205\" y=\"224.64\"/>\n      </g>\n     </g>\n     <g id=\"text_7\">\n      <!-- 0 -->\n      <g transform=\"translate(27.240625 228.439219)scale(0.1 -0.1)\">\n       <use xlink:href=\"#DejaVuSans-48\"/>\n      </g>\n     </g>\n    </g>\n    <g id=\"ytick_2\">\n     <g id=\"line2d_8\">\n      <g>\n       <use style=\"stroke:#000000;stroke-width:0.8;\" x=\"40.603125\" xlink:href=\"#m69679d5205\" y=\"186.988052\"/>\n      </g>\n     </g>\n     <g id=\"text_8\">\n      <!-- 2 -->\n      <defs>\n       <path d=\"M 19.1875 8.296875 \nL 53.609375 8.296875 \nL 53.609375 0 \nL 7.328125 0 \nL 7.328125 8.296875 \nQ 12.9375 14.109375 22.625 23.890625 \nQ 32.328125 33.6875 34.8125 36.53125 \nQ 39.546875 41.84375 41.421875 45.53125 \nQ 43.3125 49.21875 43.3125 52.78125 \nQ 43.3125 58.59375 39.234375 62.25 \nQ 35.15625 65.921875 28.609375 65.921875 \nQ 23.96875 65.921875 18.8125 64.3125 \nQ 13.671875 62.703125 7.8125 59.421875 \nL 7.8125 69.390625 \nQ 13.765625 71.78125 18.9375 73 \nQ 24.125 74.21875 28.421875 74.21875 \nQ 39.75 74.21875 46.484375 68.546875 \nQ 53.21875 62.890625 53.21875 53.421875 \nQ 53.21875 48.921875 51.53125 44.890625 \nQ 49.859375 40.875 45.40625 35.40625 \nQ 44.1875 33.984375 37.640625 27.21875 \nQ 31.109375 20.453125 19.1875 8.296875 \nz\n\" id=\"DejaVuSans-50\"/>\n      </defs>\n      <g transform=\"translate(27.240625 190.787271)scale(0.1 -0.1)\">\n       <use xlink:href=\"#DejaVuSans-50\"/>\n      </g>\n     </g>\n    </g>\n    <g id=\"ytick_3\">\n     <g id=\"line2d_9\">\n      <g>\n       <use style=\"stroke:#000000;stroke-width:0.8;\" x=\"40.603125\" xlink:href=\"#m69679d5205\" y=\"149.336104\"/>\n      </g>\n     </g>\n     <g id=\"text_9\">\n      <!-- 4 -->\n      <defs>\n       <path d=\"M 37.796875 64.3125 \nL 12.890625 25.390625 \nL 37.796875 25.390625 \nz\nM 35.203125 72.90625 \nL 47.609375 72.90625 \nL 47.609375 25.390625 \nL 58.015625 25.390625 \nL 58.015625 17.1875 \nL 47.609375 17.1875 \nL 47.609375 0 \nL 37.796875 0 \nL 37.796875 17.1875 \nL 4.890625 17.1875 \nL 4.890625 26.703125 \nz\n\" id=\"DejaVuSans-52\"/>\n      </defs>\n      <g transform=\"translate(27.240625 153.135323)scale(0.1 -0.1)\">\n       <use xlink:href=\"#DejaVuSans-52\"/>\n      </g>\n     </g>\n    </g>\n    <g id=\"ytick_4\">\n     <g id=\"line2d_10\">\n      <g>\n       <use style=\"stroke:#000000;stroke-width:0.8;\" x=\"40.603125\" xlink:href=\"#m69679d5205\" y=\"111.684156\"/>\n      </g>\n     </g>\n     <g id=\"text_10\">\n      <!-- 6 -->\n      <g transform=\"translate(27.240625 115.483375)scale(0.1 -0.1)\">\n       <use xlink:href=\"#DejaVuSans-54\"/>\n      </g>\n     </g>\n    </g>\n    <g id=\"ytick_5\">\n     <g id=\"line2d_11\">\n      <g>\n       <use style=\"stroke:#000000;stroke-width:0.8;\" x=\"40.603125\" xlink:href=\"#m69679d5205\" y=\"74.032208\"/>\n      </g>\n     </g>\n     <g id=\"text_11\">\n      <!-- 8 -->\n      <g transform=\"translate(27.240625 77.831427)scale(0.1 -0.1)\">\n       <use xlink:href=\"#DejaVuSans-56\"/>\n      </g>\n     </g>\n    </g>\n    <g id=\"ytick_6\">\n     <g id=\"line2d_12\">\n      <g>\n       <use style=\"stroke:#000000;stroke-width:0.8;\" x=\"40.603125\" xlink:href=\"#m69679d5205\" y=\"36.38026\"/>\n      </g>\n     </g>\n     <g id=\"text_12\">\n      <!-- 10 -->\n      <defs>\n       <path d=\"M 12.40625 8.296875 \nL 28.515625 8.296875 \nL 28.515625 63.921875 \nL 10.984375 60.40625 \nL 10.984375 69.390625 \nL 28.421875 72.90625 \nL 38.28125 72.90625 \nL 38.28125 8.296875 \nL 54.390625 8.296875 \nL 54.390625 0 \nL 12.40625 0 \nz\n\" id=\"DejaVuSans-49\"/>\n      </defs>\n      <g transform=\"translate(20.878125 40.179478)scale(0.1 -0.1)\">\n       <use xlink:href=\"#DejaVuSans-49\"/>\n       <use x=\"63.623047\" xlink:href=\"#DejaVuSans-48\"/>\n      </g>\n     </g>\n    </g>\n    <g id=\"text_13\">\n     <!-- Frequency -->\n     <defs>\n      <path d=\"M 9.8125 72.90625 \nL 51.703125 72.90625 \nL 51.703125 64.59375 \nL 19.671875 64.59375 \nL 19.671875 43.109375 \nL 48.578125 43.109375 \nL 48.578125 34.8125 \nL 19.671875 34.8125 \nL 19.671875 0 \nL 9.8125 0 \nz\n\" id=\"DejaVuSans-70\"/>\n      <path d=\"M 41.109375 46.296875 \nQ 39.59375 47.171875 37.8125 47.578125 \nQ 36.03125 48 33.890625 48 \nQ 26.265625 48 22.1875 43.046875 \nQ 18.109375 38.09375 18.109375 28.8125 \nL 18.109375 0 \nL 9.078125 0 \nL 9.078125 54.6875 \nL 18.109375 54.6875 \nL 18.109375 46.1875 \nQ 20.953125 51.171875 25.484375 53.578125 \nQ 30.03125 56 36.53125 56 \nQ 37.453125 56 38.578125 55.875 \nQ 39.703125 55.765625 41.0625 55.515625 \nz\n\" id=\"DejaVuSans-114\"/>\n      <path d=\"M 56.203125 29.59375 \nL 56.203125 25.203125 \nL 14.890625 25.203125 \nQ 15.484375 15.921875 20.484375 11.0625 \nQ 25.484375 6.203125 34.421875 6.203125 \nQ 39.59375 6.203125 44.453125 7.46875 \nQ 49.3125 8.734375 54.109375 11.28125 \nL 54.109375 2.78125 \nQ 49.265625 0.734375 44.1875 -0.34375 \nQ 39.109375 -1.421875 33.890625 -1.421875 \nQ 20.796875 -1.421875 13.15625 6.1875 \nQ 5.515625 13.8125 5.515625 26.8125 \nQ 5.515625 40.234375 12.765625 48.109375 \nQ 20.015625 56 32.328125 56 \nQ 43.359375 56 49.78125 48.890625 \nQ 56.203125 41.796875 56.203125 29.59375 \nz\nM 47.21875 32.234375 \nQ 47.125 39.59375 43.09375 43.984375 \nQ 39.0625 48.390625 32.421875 48.390625 \nQ 24.90625 48.390625 20.390625 44.140625 \nQ 15.875 39.890625 15.1875 32.171875 \nz\n\" id=\"DejaVuSans-101\"/>\n      <path d=\"M 14.796875 27.296875 \nQ 14.796875 17.390625 18.875 11.75 \nQ 22.953125 6.109375 30.078125 6.109375 \nQ 37.203125 6.109375 41.296875 11.75 \nQ 45.40625 17.390625 45.40625 27.296875 \nQ 45.40625 37.203125 41.296875 42.84375 \nQ 37.203125 48.484375 30.078125 48.484375 \nQ 22.953125 48.484375 18.875 42.84375 \nQ 14.796875 37.203125 14.796875 27.296875 \nz\nM 45.40625 8.203125 \nQ 42.578125 3.328125 38.25 0.953125 \nQ 33.9375 -1.421875 27.875 -1.421875 \nQ 17.96875 -1.421875 11.734375 6.484375 \nQ 5.515625 14.40625 5.515625 27.296875 \nQ 5.515625 40.1875 11.734375 48.09375 \nQ 17.96875 56 27.875 56 \nQ 33.9375 56 38.25 53.625 \nQ 42.578125 51.265625 45.40625 46.390625 \nL 45.40625 54.6875 \nL 54.390625 54.6875 \nL 54.390625 -20.796875 \nL 45.40625 -20.796875 \nz\n\" id=\"DejaVuSans-113\"/>\n      <path d=\"M 8.5 21.578125 \nL 8.5 54.6875 \nL 17.484375 54.6875 \nL 17.484375 21.921875 \nQ 17.484375 14.15625 20.5 10.265625 \nQ 23.53125 6.390625 29.59375 6.390625 \nQ 36.859375 6.390625 41.078125 11.03125 \nQ 45.3125 15.671875 45.3125 23.6875 \nL 45.3125 54.6875 \nL 54.296875 54.6875 \nL 54.296875 0 \nL 45.3125 0 \nL 45.3125 8.40625 \nQ 42.046875 3.421875 37.71875 1 \nQ 33.40625 -1.421875 27.6875 -1.421875 \nQ 18.265625 -1.421875 13.375 4.4375 \nQ 8.5 10.296875 8.5 21.578125 \nz\nM 31.109375 56 \nz\n\" id=\"DejaVuSans-117\"/>\n      <path d=\"M 54.890625 33.015625 \nL 54.890625 0 \nL 45.90625 0 \nL 45.90625 32.71875 \nQ 45.90625 40.484375 42.875 44.328125 \nQ 39.84375 48.1875 33.796875 48.1875 \nQ 26.515625 48.1875 22.3125 43.546875 \nQ 18.109375 38.921875 18.109375 30.90625 \nL 18.109375 0 \nL 9.078125 0 \nL 9.078125 54.6875 \nL 18.109375 54.6875 \nL 18.109375 46.1875 \nQ 21.34375 51.125 25.703125 53.5625 \nQ 30.078125 56 35.796875 56 \nQ 45.21875 56 50.046875 50.171875 \nQ 54.890625 44.34375 54.890625 33.015625 \nz\n\" id=\"DejaVuSans-110\"/>\n      <path d=\"M 48.78125 52.59375 \nL 48.78125 44.1875 \nQ 44.96875 46.296875 41.140625 47.34375 \nQ 37.3125 48.390625 33.40625 48.390625 \nQ 24.65625 48.390625 19.8125 42.84375 \nQ 14.984375 37.3125 14.984375 27.296875 \nQ 14.984375 17.28125 19.8125 11.734375 \nQ 24.65625 6.203125 33.40625 6.203125 \nQ 37.3125 6.203125 41.140625 7.25 \nQ 44.96875 8.296875 48.78125 10.40625 \nL 48.78125 2.09375 \nQ 45.015625 0.34375 40.984375 -0.53125 \nQ 36.96875 -1.421875 32.421875 -1.421875 \nQ 20.0625 -1.421875 12.78125 6.34375 \nQ 5.515625 14.109375 5.515625 27.296875 \nQ 5.515625 40.671875 12.859375 48.328125 \nQ 20.21875 56 33.015625 56 \nQ 37.15625 56 41.109375 55.140625 \nQ 45.0625 54.296875 48.78125 52.59375 \nz\n\" id=\"DejaVuSans-99\"/>\n      <path d=\"M 32.171875 -5.078125 \nQ 28.375 -14.84375 24.75 -17.8125 \nQ 21.140625 -20.796875 15.09375 -20.796875 \nL 7.90625 -20.796875 \nL 7.90625 -13.28125 \nL 13.1875 -13.28125 \nQ 16.890625 -13.28125 18.9375 -11.515625 \nQ 21 -9.765625 23.484375 -3.21875 \nL 25.09375 0.875 \nL 2.984375 54.6875 \nL 12.5 54.6875 \nL 29.59375 11.921875 \nL 46.6875 54.6875 \nL 56.203125 54.6875 \nz\n\" id=\"DejaVuSans-121\"/>\n     </defs>\n     <g transform=\"translate(14.798438 141.749687)rotate(-90)scale(0.1 -0.1)\">\n      <use xlink:href=\"#DejaVuSans-70\"/>\n      <use x=\"50.269531\" xlink:href=\"#DejaVuSans-114\"/>\n      <use x=\"89.132812\" xlink:href=\"#DejaVuSans-101\"/>\n      <use x=\"150.65625\" xlink:href=\"#DejaVuSans-113\"/>\n      <use x=\"214.132812\" xlink:href=\"#DejaVuSans-117\"/>\n      <use x=\"277.511719\" xlink:href=\"#DejaVuSans-101\"/>\n      <use x=\"339.035156\" xlink:href=\"#DejaVuSans-110\"/>\n      <use x=\"402.414062\" xlink:href=\"#DejaVuSans-99\"/>\n      <use x=\"457.394531\" xlink:href=\"#DejaVuSans-121\"/>\n     </g>\n    </g>\n   </g>\n   <g id=\"patch_13\">\n    <path d=\"M 40.603125 224.64 \nL 40.603125 7.2 \n\" style=\"fill:none;stroke:#000000;stroke-linecap:square;stroke-linejoin:miter;stroke-width:0.8;\"/>\n   </g>\n   <g id=\"patch_14\">\n    <path d=\"M 375.403125 224.64 \nL 375.403125 7.2 \n\" style=\"fill:none;stroke:#000000;stroke-linecap:square;stroke-linejoin:miter;stroke-width:0.8;\"/>\n   </g>\n   <g id=\"patch_15\">\n    <path d=\"M 40.603125 224.64 \nL 375.403125 224.64 \n\" style=\"fill:none;stroke:#000000;stroke-linecap:square;stroke-linejoin:miter;stroke-width:0.8;\"/>\n   </g>\n   <g id=\"patch_16\">\n    <path d=\"M 40.603125 7.2 \nL 375.403125 7.2 \n\" style=\"fill:none;stroke:#000000;stroke-linecap:square;stroke-linejoin:miter;stroke-width:0.8;\"/>\n   </g>\n  </g>\n </g>\n <defs>\n  <clipPath id=\"p08052b23ca\">\n   <rect height=\"217.44\" width=\"334.8\" x=\"40.603125\" y=\"7.2\"/>\n  </clipPath>\n </defs>\n</svg>\n",
      "image/png": "[encoded data removed]"
     },
     "metadata": {
      "needs_background": "light"
     }
    }
   ],
   "source": [
    "nilai.akhir.plot(kind='hist')"
   ]
  },
  {
   "cell_type": "code",
   "execution_count": 124,
   "metadata": {},
   "outputs": [
    {
     "output_type": "execute_result",
     "data": {
      "text/plain": [
       "<matplotlib.axes._subplots.AxesSubplot at 0x7fc15d144fd0>"
      ]
     },
     "metadata": {},
     "execution_count": 124
    },
    {
     "output_type": "display_data",
     "data": {
      "text/plain": "<Figure size 432x288 with 1 Axes>",
      "image/svg+xml": "<?xml version=\"1.0\" encoding=\"utf-8\" standalone=\"no\"?>\n<!DOCTYPE svg PUBLIC \"-//W3C//DTD SVG 1.1//EN\"\n  \"http://www.w3.org/Graphics/SVG/1.1/DTD/svg11.dtd\">\n<!-- Created with matplotlib (https://matplotlib.org/) -->\n<svg height=\"231.84pt\" version=\"1.1\" viewBox=\"0 0 245.518125 231.84\" width=\"245.518125pt\" xmlns=\"http://www.w3.org/2000/svg\" xmlns:xlink=\"http://www.w3.org/1999/xlink\">\n <defs>\n  <style type=\"text/css\">\n*{stroke-linecap:butt;stroke-linejoin:round;}\n  </style>\n </defs>\n <g id=\"figure_1\">\n  <g id=\"patch_1\">\n   <path d=\"M 0 231.84 \nL 245.518125 231.84 \nL 245.518125 0 \nL 0 0 \nz\n\" style=\"fill:none;\"/>\n  </g>\n  <g id=\"axes_1\">\n   <g id=\"patch_2\">\n    <path d=\"M 216.574125 115.92 \nC 216.574125 103.92343 214.092101 92.055584 209.284489 81.064471 \nC 204.476878 70.073358 197.446852 60.194849 188.637501 52.051568 \nC 179.82815 43.908287 169.428524 37.67499 158.094092 33.744551 \nC 146.75966 29.814112 134.733662 28.270878 122.774073 29.212117 \nC 110.814484 30.153357 99.17796 33.558869 88.59793 39.214012 \nC 78.017899 44.869155 68.721411 52.652568 61.294406 62.073677 \nC 53.867401 71.494786 48.469264 82.351412 45.440229 93.959282 \nC 42.411195 105.567152 41.816267 117.677158 43.692942 129.526031 \nL 129.598125 115.92 \nL 216.574125 115.92 \nz\n\" style=\"fill:#1f77b4;\"/>\n   </g>\n   <g id=\"patch_3\">\n    <path d=\"M 43.692942 129.526031 \nC 45.840011 143.082103 51.165676 155.939402 59.233056 167.043201 \nC 67.300436 178.147 77.882731 187.185136 90.111839 193.416179 \nL 129.598125 115.92 \nL 43.692942 129.526031 \nz\n\" style=\"fill:#ff7f0e;\"/>\n   </g>\n   <g id=\"patch_4\">\n    <path d=\"M 90.111839 193.416179 \nC 102.340946 199.647222 115.873068 202.895999 129.598117 202.896 \nC 143.323166 202.896001 156.855288 199.647227 169.084397 193.416186 \nL 129.598125 115.92 \nL 90.111839 193.416179 \nz\n\" style=\"fill:#2ca02c;\"/>\n   </g>\n   <g id=\"patch_5\">\n    <path d=\"M 169.084397 193.416186 \nC 177.216429 189.27271 184.645823 183.87494 191.09944 177.421324 \nC 197.553057 170.967707 202.950828 163.538314 207.094306 155.406283 \nL 129.598125 115.92 \nL 169.084397 193.416186 \nz\n\" style=\"fill:#d62728;\"/>\n   </g>\n   <g id=\"patch_6\">\n    <path d=\"M 207.094306 155.406283 \nC 209.162865 151.346507 210.909212 147.130454 212.317215 142.797067 \nC 213.725218 138.463681 214.790528 134.026345 215.503305 129.526049 \nL 129.598125 115.92 \nL 207.094306 155.406283 \nz\n\" style=\"fill:#9467bd;\"/>\n   </g>\n   <g id=\"patch_7\">\n    <path d=\"M 215.503305 129.526049 \nC 215.859557 127.276768 216.12733 125.014362 216.306007 122.744063 \nC 216.484683 120.473765 216.574125 118.197324 216.574125 115.920005 \nL 129.598125 115.92 \nL 215.503305 129.526049 \nz\n\" style=\"fill:#8c564b;\"/>\n   </g>\n   <g id=\"patch_8\">\n    <path d=\"M 216.574125 115.920005 \nC 216.574125 115.920005 216.574125 115.920005 216.574125 115.920005 \nL 129.598125 115.92 \nL 216.574125 115.920005 \nz\n\" style=\"fill:#e377c2;\"/>\n   </g>\n   <g id=\"patch_9\">\n    <path d=\"M 216.574125 115.920005 \nC 216.574125 115.920005 216.574125 115.920005 216.574125 115.920005 \nL 129.598125 115.92 \nL 216.574125 115.920005 \nz\n\" style=\"fill:#7f7f7f;\"/>\n   </g>\n   <g id=\"patch_10\">\n    <path d=\"M 216.574125 115.920005 \nC 216.574125 115.920005 216.574125 115.920005 216.574125 115.920005 \nL 129.598125 115.92 \nL 216.574125 115.920005 \nz\n\" style=\"fill:#bcbd22;\"/>\n   </g>\n   <g id=\"matplotlib.axis_1\"/>\n   <g id=\"matplotlib.axis_2\">\n    <g id=\"text_1\">\n     <!-- huruf -->\n     <defs>\n      <path d=\"M 54.890625 33.015625 \nL 54.890625 0 \nL 45.90625 0 \nL 45.90625 32.71875 \nQ 45.90625 40.484375 42.875 44.328125 \nQ 39.84375 48.1875 33.796875 48.1875 \nQ 26.515625 48.1875 22.3125 43.546875 \nQ 18.109375 38.921875 18.109375 30.90625 \nL 18.109375 0 \nL 9.078125 0 \nL 9.078125 75.984375 \nL 18.109375 75.984375 \nL 18.109375 46.1875 \nQ 21.34375 51.125 25.703125 53.5625 \nQ 30.078125 56 35.796875 56 \nQ 45.21875 56 50.046875 50.171875 \nQ 54.890625 44.34375 54.890625 33.015625 \nz\n\" id=\"DejaVuSans-104\"/>\n      <path d=\"M 8.5 21.578125 \nL 8.5 54.6875 \nL 17.484375 54.6875 \nL 17.484375 21.921875 \nQ 17.484375 14.15625 20.5 10.265625 \nQ 23.53125 6.390625 29.59375 6.390625 \nQ 36.859375 6.390625 41.078125 11.03125 \nQ 45.3125 15.671875 45.3125 23.6875 \nL 45.3125 54.6875 \nL 54.296875 54.6875 \nL 54.296875 0 \nL 45.3125 0 \nL 45.3125 8.40625 \nQ 42.046875 3.421875 37.71875 1 \nQ 33.40625 -1.421875 27.6875 -1.421875 \nQ 18.265625 -1.421875 13.375 4.4375 \nQ 8.5 10.296875 8.5 21.578125 \nz\nM 31.109375 56 \nz\n\" id=\"DejaVuSans-117\"/>\n      <path d=\"M 41.109375 46.296875 \nQ 39.59375 47.171875 37.8125 47.578125 \nQ 36.03125 48 33.890625 48 \nQ 26.265625 48 22.1875 43.046875 \nQ 18.109375 38.09375 18.109375 28.8125 \nL 18.109375 0 \nL 9.078125 0 \nL 9.078125 54.6875 \nL 18.109375 54.6875 \nL 18.109375 46.1875 \nQ 20.953125 51.171875 25.484375 53.578125 \nQ 30.03125 56 36.53125 56 \nQ 37.453125 56 38.578125 55.875 \nQ 39.703125 55.765625 41.0625 55.515625 \nz\n\" id=\"DejaVuSans-114\"/>\n      <path d=\"M 37.109375 75.984375 \nL 37.109375 68.5 \nL 28.515625 68.5 \nQ 23.6875 68.5 21.796875 66.546875 \nQ 19.921875 64.59375 19.921875 59.515625 \nL 19.921875 54.6875 \nL 34.71875 54.6875 \nL 34.71875 47.703125 \nL 19.921875 47.703125 \nL 19.921875 0 \nL 10.890625 0 \nL 10.890625 47.703125 \nL 2.296875 47.703125 \nL 2.296875 54.6875 \nL 10.890625 54.6875 \nL 10.890625 58.5 \nQ 10.890625 67.625 15.140625 71.796875 \nQ 19.390625 75.984375 28.609375 75.984375 \nz\n\" id=\"DejaVuSans-102\"/>\n     </defs>\n     <g transform=\"translate(14.798437 129.241875)rotate(-90)scale(0.1 -0.1)\">\n      <use xlink:href=\"#DejaVuSans-104\"/>\n      <use x=\"63.378906\" xlink:href=\"#DejaVuSans-117\"/>\n      <use x=\"126.757812\" xlink:href=\"#DejaVuSans-114\"/>\n      <use x=\"167.871094\" xlink:href=\"#DejaVuSans-117\"/>\n      <use x=\"231.25\" xlink:href=\"#DejaVuSans-102\"/>\n     </g>\n    </g>\n   </g>\n   <g id=\"text_2\">\n    <!-- B- -->\n    <defs>\n     <path d=\"M 19.671875 34.8125 \nL 19.671875 8.109375 \nL 35.5 8.109375 \nQ 43.453125 8.109375 47.28125 11.40625 \nQ 51.125 14.703125 51.125 21.484375 \nQ 51.125 28.328125 47.28125 31.5625 \nQ 43.453125 34.8125 35.5 34.8125 \nz\nM 19.671875 64.796875 \nL 19.671875 42.828125 \nL 34.28125 42.828125 \nQ 41.5 42.828125 45.03125 45.53125 \nQ 48.578125 48.25 48.578125 53.8125 \nQ 48.578125 59.328125 45.03125 62.0625 \nQ 41.5 64.796875 34.28125 64.796875 \nz\nM 9.8125 72.90625 \nL 35.015625 72.90625 \nQ 46.296875 72.90625 52.390625 68.21875 \nQ 58.5 63.53125 58.5 54.890625 \nQ 58.5 48.1875 55.375 44.234375 \nQ 52.25 40.28125 46.1875 39.3125 \nQ 53.46875 37.75 57.5 32.78125 \nQ 61.53125 27.828125 61.53125 20.40625 \nQ 61.53125 10.640625 54.890625 5.3125 \nQ 48.25 0 35.984375 0 \nL 9.8125 0 \nz\n\" id=\"DejaVuSans-66\"/>\n     <path d=\"M 4.890625 31.390625 \nL 31.203125 31.390625 \nL 31.203125 23.390625 \nL 4.890625 23.390625 \nz\n\" id=\"DejaVuSans-45\"/>\n    </defs>\n    <g transform=\"translate(111.622918 23.300704)scale(0.1 -0.1)\">\n     <use xlink:href=\"#DejaVuSans-66\"/>\n     <use x=\"68.603516\" xlink:href=\"#DejaVuSans-45\"/>\n    </g>\n   </g>\n   <g id=\"text_3\">\n    <!-- B -->\n    <g transform=\"translate(45.335612 174.914896)scale(0.1 -0.1)\">\n     <use xlink:href=\"#DejaVuSans-66\"/>\n    </g>\n   </g>\n   <g id=\"text_4\">\n    <!-- C+ -->\n    <defs>\n     <path d=\"M 64.40625 67.28125 \nL 64.40625 56.890625 \nQ 59.421875 61.53125 53.78125 63.8125 \nQ 48.140625 66.109375 41.796875 66.109375 \nQ 29.296875 66.109375 22.65625 58.46875 \nQ 16.015625 50.828125 16.015625 36.375 \nQ 16.015625 21.96875 22.65625 14.328125 \nQ 29.296875 6.6875 41.796875 6.6875 \nQ 48.140625 6.6875 53.78125 8.984375 \nQ 59.421875 11.28125 64.40625 15.921875 \nL 64.40625 5.609375 \nQ 59.234375 2.09375 53.4375 0.328125 \nQ 47.65625 -1.421875 41.21875 -1.421875 \nQ 24.65625 -1.421875 15.125 8.703125 \nQ 5.609375 18.84375 5.609375 36.375 \nQ 5.609375 53.953125 15.125 64.078125 \nQ 24.65625 74.21875 41.21875 74.21875 \nQ 47.75 74.21875 53.53125 72.484375 \nQ 59.328125 70.75 64.40625 67.28125 \nz\n\" id=\"DejaVuSans-67\"/>\n     <path d=\"M 46 62.703125 \nL 46 35.5 \nL 73.1875 35.5 \nL 73.1875 27.203125 \nL 46 27.203125 \nL 46 0 \nL 37.796875 0 \nL 37.796875 27.203125 \nL 10.59375 27.203125 \nL 10.59375 35.5 \nL 37.796875 35.5 \nL 37.796875 62.703125 \nz\n\" id=\"DejaVuSans-43\"/>\n    </defs>\n    <g transform=\"translate(114.235616 214.352975)scale(0.1 -0.1)\">\n     <use xlink:href=\"#DejaVuSans-67\"/>\n     <use x=\"69.824219\" xlink:href=\"#DejaVuSans-43\"/>\n    </g>\n   </g>\n   <g id=\"text_5\">\n    <!-- B+ -->\n    <g transform=\"translate(197.249572 186.330831)scale(0.1 -0.1)\">\n     <use xlink:href=\"#DejaVuSans-66\"/>\n     <use x=\"68.603516\" xlink:href=\"#DejaVuSans-43\"/>\n    </g>\n   </g>\n   <g id=\"text_6\">\n    <!-- C -->\n    <g transform=\"translate(220.589124 148.244149)scale(0.1 -0.1)\">\n     <use xlink:href=\"#DejaVuSans-67\"/>\n    </g>\n   </g>\n   <g id=\"text_7\">\n    <!-- A -->\n    <defs>\n     <path d=\"M 34.1875 63.1875 \nL 20.796875 26.90625 \nL 47.609375 26.90625 \nz\nM 28.609375 72.90625 \nL 39.796875 72.90625 \nL 67.578125 0 \nL 57.328125 0 \nL 50.6875 18.703125 \nL 17.828125 18.703125 \nL 11.1875 0 \nL 0.78125 0 \nz\n\" id=\"DejaVuSans-65\"/>\n    </defs>\n    <g transform=\"translate(224.976795 126.185845)scale(0.1 -0.1)\">\n     <use xlink:href=\"#DejaVuSans-65\"/>\n    </g>\n   </g>\n  </g>\n </g>\n</svg>\n",
      "image/png": "[encoded data removed]"
     },
     "metadata": {}
    }
   ],
   "source": [
    "nilai.huruf.value_counts().plot(kind=\"pie\")"
   ]
  },
  {
   "cell_type": "code",
   "execution_count": 155,
   "metadata": {},
   "outputs": [
    {
     "output_type": "execute_result",
     "data": {
      "text/plain": [
       "<matplotlib.axes._subplots.AxesSubplot at 0x7fc15d435f40>"
      ]
     },
     "metadata": {},
     "execution_count": 155
    },
    {
     "output_type": "display_data",
     "data": {
      "text/plain": "<Figure size 432x288 with 1 Axes>",
      "image/svg+xml": "<?xml version=\"1.0\" encoding=\"utf-8\" standalone=\"no\"?>\n<!DOCTYPE svg PUBLIC \"-//W3C//DTD SVG 1.1//EN\"\n  \"http://www.w3.org/Graphics/SVG/1.1/DTD/svg11.dtd\">\n<!-- Created with matplotlib (https://matplotlib.org/) -->\n<svg height=\"246.112963pt\" version=\"1.1\" viewBox=\"0 0 368.925 246.112963\" width=\"368.925pt\" xmlns=\"http://www.w3.org/2000/svg\" xmlns:xlink=\"http://www.w3.org/1999/xlink\">\n <defs>\n  <style type=\"text/css\">\n*{stroke-linecap:butt;stroke-linejoin:round;}\n  </style>\n </defs>\n <g id=\"figure_1\">\n  <g id=\"patch_1\">\n   <path d=\"M -0 246.112963 \nL 368.925 246.112963 \nL 368.925 0 \nL -0 0 \nz\n\" style=\"fill:none;\"/>\n  </g>\n  <g id=\"axes_1\">\n   <g id=\"patch_2\">\n    <path d=\"M 26.925 225.550463 \nL 361.725 225.550463 \nL 361.725 8.110463 \nL 26.925 8.110463 \nz\n\" style=\"fill:#ffffff;\"/>\n   </g>\n   <g id=\"patch_3\">\n    <path clip-path=\"url(#pc366f329b3)\" d=\"M 110.625 225.550463 \nL 152.475 225.550463 \nL 152.475 22.383552 \nL 110.625 22.383552 \nz\n\" style=\"fill:#1f77b4;\"/>\n   </g>\n   <g id=\"patch_4\">\n    <path clip-path=\"url(#pc366f329b3)\" d=\"M 152.475 225.550463 \nL 194.325 225.550463 \nL 194.325 36.406684 \nL 152.475 36.406684 \nz\n\" style=\"fill:#ff7f0e;\"/>\n   </g>\n   <g id=\"patch_5\">\n    <path clip-path=\"url(#pc366f329b3)\" d=\"M 194.325 225.550463 \nL 236.175 225.550463 \nL 236.175 18.464749 \nL 194.325 18.464749 \nz\n\" style=\"fill:#2ca02c;\"/>\n   </g>\n   <g id=\"patch_6\">\n    <path clip-path=\"url(#pc366f329b3)\" d=\"M 236.175 225.550463 \nL 278.025 225.550463 \nL 278.025 26.425284 \nL 236.175 26.425284 \nz\n\" style=\"fill:#d62728;\"/>\n   </g>\n   <g id=\"matplotlib.axis_1\">\n    <g id=\"xtick_1\">\n     <g id=\"line2d_1\">\n      <defs>\n       <path d=\"M 0 0 \nL 0 3.5 \n\" id=\"mbb5253f9b1\" style=\"stroke:#000000;stroke-width:0.8;\"/>\n      </defs>\n      <g>\n       <use style=\"stroke:#000000;stroke-width:0.8;\" x=\"194.325\" xlink:href=\"#mbb5253f9b1\" y=\"225.550463\"/>\n      </g>\n     </g>\n     <g id=\"text_1\">\n      <!-- 4 -->\n      <defs>\n       <path d=\"M 37.796875 64.3125 \nL 12.890625 25.390625 \nL 37.796875 25.390625 \nz\nM 35.203125 72.90625 \nL 47.609375 72.90625 \nL 47.609375 25.390625 \nL 58.015625 25.390625 \nL 58.015625 17.1875 \nL 47.609375 17.1875 \nL 47.609375 0 \nL 37.796875 0 \nL 37.796875 17.1875 \nL 4.890625 17.1875 \nL 4.890625 26.703125 \nz\n\" id=\"DejaVuSans-52\"/>\n      </defs>\n      <g transform=\"translate(197.084375 238.912963)rotate(-90)scale(0.1 -0.1)\">\n       <use xlink:href=\"#DejaVuSans-52\"/>\n      </g>\n     </g>\n    </g>\n   </g>\n   <g id=\"matplotlib.axis_2\">\n    <g id=\"ytick_1\">\n     <g id=\"line2d_2\">\n      <defs>\n       <path d=\"M 0 0 \nL -3.5 0 \n\" id=\"mb3b6a2431e\" style=\"stroke:#000000;stroke-width:0.8;\"/>\n      </defs>\n      <g>\n       <use style=\"stroke:#000000;stroke-width:0.8;\" x=\"26.925\" xlink:href=\"#mb3b6a2431e\" y=\"225.550463\"/>\n      </g>\n     </g>\n     <g id=\"text_2\">\n      <!-- 0 -->\n      <defs>\n       <path d=\"M 31.78125 66.40625 \nQ 24.171875 66.40625 20.328125 58.90625 \nQ 16.5 51.421875 16.5 36.375 \nQ 16.5 21.390625 20.328125 13.890625 \nQ 24.171875 6.390625 31.78125 6.390625 \nQ 39.453125 6.390625 43.28125 13.890625 \nQ 47.125 21.390625 47.125 36.375 \nQ 47.125 51.421875 43.28125 58.90625 \nQ 39.453125 66.40625 31.78125 66.40625 \nz\nM 31.78125 74.21875 \nQ 44.046875 74.21875 50.515625 64.515625 \nQ 56.984375 54.828125 56.984375 36.375 \nQ 56.984375 17.96875 50.515625 8.265625 \nQ 44.046875 -1.421875 31.78125 -1.421875 \nQ 19.53125 -1.421875 13.0625 8.265625 \nQ 6.59375 17.96875 6.59375 36.375 \nQ 6.59375 54.828125 13.0625 64.515625 \nQ 19.53125 74.21875 31.78125 74.21875 \nz\n\" id=\"DejaVuSans-48\"/>\n      </defs>\n      <g transform=\"translate(13.5625 229.349682)scale(0.1 -0.1)\">\n       <use xlink:href=\"#DejaVuSans-48\"/>\n      </g>\n     </g>\n    </g>\n    <g id=\"ytick_2\">\n     <g id=\"line2d_3\">\n      <g>\n       <use style=\"stroke:#000000;stroke-width:0.8;\" x=\"26.925\" xlink:href=\"#mb3b6a2431e\" y=\"198.731557\"/>\n      </g>\n     </g>\n     <g id=\"text_3\">\n      <!-- 10 -->\n      <defs>\n       <path d=\"M 12.40625 8.296875 \nL 28.515625 8.296875 \nL 28.515625 63.921875 \nL 10.984375 60.40625 \nL 10.984375 69.390625 \nL 28.421875 72.90625 \nL 38.28125 72.90625 \nL 38.28125 8.296875 \nL 54.390625 8.296875 \nL 54.390625 0 \nL 12.40625 0 \nz\n\" id=\"DejaVuSans-49\"/>\n      </defs>\n      <g transform=\"translate(7.2 202.530776)scale(0.1 -0.1)\">\n       <use xlink:href=\"#DejaVuSans-49\"/>\n       <use x=\"63.623047\" xlink:href=\"#DejaVuSans-48\"/>\n      </g>\n     </g>\n    </g>\n    <g id=\"ytick_3\">\n     <g id=\"line2d_4\">\n      <g>\n       <use style=\"stroke:#000000;stroke-width:0.8;\" x=\"26.925\" xlink:href=\"#mb3b6a2431e\" y=\"171.912652\"/>\n      </g>\n     </g>\n     <g id=\"text_4\">\n      <!-- 20 -->\n      <defs>\n       <path d=\"M 19.1875 8.296875 \nL 53.609375 8.296875 \nL 53.609375 0 \nL 7.328125 0 \nL 7.328125 8.296875 \nQ 12.9375 14.109375 22.625 23.890625 \nQ 32.328125 33.6875 34.8125 36.53125 \nQ 39.546875 41.84375 41.421875 45.53125 \nQ 43.3125 49.21875 43.3125 52.78125 \nQ 43.3125 58.59375 39.234375 62.25 \nQ 35.15625 65.921875 28.609375 65.921875 \nQ 23.96875 65.921875 18.8125 64.3125 \nQ 13.671875 62.703125 7.8125 59.421875 \nL 7.8125 69.390625 \nQ 13.765625 71.78125 18.9375 73 \nQ 24.125 74.21875 28.421875 74.21875 \nQ 39.75 74.21875 46.484375 68.546875 \nQ 53.21875 62.890625 53.21875 53.421875 \nQ 53.21875 48.921875 51.53125 44.890625 \nQ 49.859375 40.875 45.40625 35.40625 \nQ 44.1875 33.984375 37.640625 27.21875 \nQ 31.109375 20.453125 19.1875 8.296875 \nz\n\" id=\"DejaVuSans-50\"/>\n      </defs>\n      <g transform=\"translate(7.2 175.711871)scale(0.1 -0.1)\">\n       <use xlink:href=\"#DejaVuSans-50\"/>\n       <use x=\"63.623047\" xlink:href=\"#DejaVuSans-48\"/>\n      </g>\n     </g>\n    </g>\n    <g id=\"ytick_4\">\n     <g id=\"line2d_5\">\n      <g>\n       <use style=\"stroke:#000000;stroke-width:0.8;\" x=\"26.925\" xlink:href=\"#mb3b6a2431e\" y=\"145.093746\"/>\n      </g>\n     </g>\n     <g id=\"text_5\">\n      <!-- 30 -->\n      <defs>\n       <path d=\"M 40.578125 39.3125 \nQ 47.65625 37.796875 51.625 33 \nQ 55.609375 28.21875 55.609375 21.1875 \nQ 55.609375 10.40625 48.1875 4.484375 \nQ 40.765625 -1.421875 27.09375 -1.421875 \nQ 22.515625 -1.421875 17.65625 -0.515625 \nQ 12.796875 0.390625 7.625 2.203125 \nL 7.625 11.71875 \nQ 11.71875 9.328125 16.59375 8.109375 \nQ 21.484375 6.890625 26.8125 6.890625 \nQ 36.078125 6.890625 40.9375 10.546875 \nQ 45.796875 14.203125 45.796875 21.1875 \nQ 45.796875 27.640625 41.28125 31.265625 \nQ 36.765625 34.90625 28.71875 34.90625 \nL 20.21875 34.90625 \nL 20.21875 43.015625 \nL 29.109375 43.015625 \nQ 36.375 43.015625 40.234375 45.921875 \nQ 44.09375 48.828125 44.09375 54.296875 \nQ 44.09375 59.90625 40.109375 62.90625 \nQ 36.140625 65.921875 28.71875 65.921875 \nQ 24.65625 65.921875 20.015625 65.03125 \nQ 15.375 64.15625 9.8125 62.3125 \nL 9.8125 71.09375 \nQ 15.4375 72.65625 20.34375 73.4375 \nQ 25.25 74.21875 29.59375 74.21875 \nQ 40.828125 74.21875 47.359375 69.109375 \nQ 53.90625 64.015625 53.90625 55.328125 \nQ 53.90625 49.265625 50.4375 45.09375 \nQ 46.96875 40.921875 40.578125 39.3125 \nz\n\" id=\"DejaVuSans-51\"/>\n      </defs>\n      <g transform=\"translate(7.2 148.892965)scale(0.1 -0.1)\">\n       <use xlink:href=\"#DejaVuSans-51\"/>\n       <use x=\"63.623047\" xlink:href=\"#DejaVuSans-48\"/>\n      </g>\n     </g>\n    </g>\n    <g id=\"ytick_5\">\n     <g id=\"line2d_6\">\n      <g>\n       <use style=\"stroke:#000000;stroke-width:0.8;\" x=\"26.925\" xlink:href=\"#mb3b6a2431e\" y=\"118.274841\"/>\n      </g>\n     </g>\n     <g id=\"text_6\">\n      <!-- 40 -->\n      <g transform=\"translate(7.2 122.07406)scale(0.1 -0.1)\">\n       <use xlink:href=\"#DejaVuSans-52\"/>\n       <use x=\"63.623047\" xlink:href=\"#DejaVuSans-48\"/>\n      </g>\n     </g>\n    </g>\n    <g id=\"ytick_6\">\n     <g id=\"line2d_7\">\n      <g>\n       <use style=\"stroke:#000000;stroke-width:0.8;\" x=\"26.925\" xlink:href=\"#mb3b6a2431e\" y=\"91.455935\"/>\n      </g>\n     </g>\n     <g id=\"text_7\">\n      <!-- 50 -->\n      <defs>\n       <path d=\"M 10.796875 72.90625 \nL 49.515625 72.90625 \nL 49.515625 64.59375 \nL 19.828125 64.59375 \nL 19.828125 46.734375 \nQ 21.96875 47.46875 24.109375 47.828125 \nQ 26.265625 48.1875 28.421875 48.1875 \nQ 40.625 48.1875 47.75 41.5 \nQ 54.890625 34.8125 54.890625 23.390625 \nQ 54.890625 11.625 47.5625 5.09375 \nQ 40.234375 -1.421875 26.90625 -1.421875 \nQ 22.3125 -1.421875 17.546875 -0.640625 \nQ 12.796875 0.140625 7.71875 1.703125 \nL 7.71875 11.625 \nQ 12.109375 9.234375 16.796875 8.0625 \nQ 21.484375 6.890625 26.703125 6.890625 \nQ 35.15625 6.890625 40.078125 11.328125 \nQ 45.015625 15.765625 45.015625 23.390625 \nQ 45.015625 31 40.078125 35.4375 \nQ 35.15625 39.890625 26.703125 39.890625 \nQ 22.75 39.890625 18.8125 39.015625 \nQ 14.890625 38.140625 10.796875 36.28125 \nz\n\" id=\"DejaVuSans-53\"/>\n      </defs>\n      <g transform=\"translate(7.2 95.255154)scale(0.1 -0.1)\">\n       <use xlink:href=\"#DejaVuSans-53\"/>\n       <use x=\"63.623047\" xlink:href=\"#DejaVuSans-48\"/>\n      </g>\n     </g>\n    </g>\n    <g id=\"ytick_7\">\n     <g id=\"line2d_8\">\n      <g>\n       <use style=\"stroke:#000000;stroke-width:0.8;\" x=\"26.925\" xlink:href=\"#mb3b6a2431e\" y=\"64.63703\"/>\n      </g>\n     </g>\n     <g id=\"text_8\">\n      <!-- 60 -->\n      <defs>\n       <path d=\"M 33.015625 40.375 \nQ 26.375 40.375 22.484375 35.828125 \nQ 18.609375 31.296875 18.609375 23.390625 \nQ 18.609375 15.53125 22.484375 10.953125 \nQ 26.375 6.390625 33.015625 6.390625 \nQ 39.65625 6.390625 43.53125 10.953125 \nQ 47.40625 15.53125 47.40625 23.390625 \nQ 47.40625 31.296875 43.53125 35.828125 \nQ 39.65625 40.375 33.015625 40.375 \nz\nM 52.59375 71.296875 \nL 52.59375 62.3125 \nQ 48.875 64.0625 45.09375 64.984375 \nQ 41.3125 65.921875 37.59375 65.921875 \nQ 27.828125 65.921875 22.671875 59.328125 \nQ 17.53125 52.734375 16.796875 39.40625 \nQ 19.671875 43.65625 24.015625 45.921875 \nQ 28.375 48.1875 33.59375 48.1875 \nQ 44.578125 48.1875 50.953125 41.515625 \nQ 57.328125 34.859375 57.328125 23.390625 \nQ 57.328125 12.15625 50.6875 5.359375 \nQ 44.046875 -1.421875 33.015625 -1.421875 \nQ 20.359375 -1.421875 13.671875 8.265625 \nQ 6.984375 17.96875 6.984375 36.375 \nQ 6.984375 53.65625 15.1875 63.9375 \nQ 23.390625 74.21875 37.203125 74.21875 \nQ 40.921875 74.21875 44.703125 73.484375 \nQ 48.484375 72.75 52.59375 71.296875 \nz\n\" id=\"DejaVuSans-54\"/>\n      </defs>\n      <g transform=\"translate(7.2 68.436249)scale(0.1 -0.1)\">\n       <use xlink:href=\"#DejaVuSans-54\"/>\n       <use x=\"63.623047\" xlink:href=\"#DejaVuSans-48\"/>\n      </g>\n     </g>\n    </g>\n    <g id=\"ytick_8\">\n     <g id=\"line2d_9\">\n      <g>\n       <use style=\"stroke:#000000;stroke-width:0.8;\" x=\"26.925\" xlink:href=\"#mb3b6a2431e\" y=\"37.818124\"/>\n      </g>\n     </g>\n     <g id=\"text_9\">\n      <!-- 70 -->\n      <defs>\n       <path d=\"M 8.203125 72.90625 \nL 55.078125 72.90625 \nL 55.078125 68.703125 \nL 28.609375 0 \nL 18.3125 0 \nL 43.21875 64.59375 \nL 8.203125 64.59375 \nz\n\" id=\"DejaVuSans-55\"/>\n      </defs>\n      <g transform=\"translate(7.2 41.617343)scale(0.1 -0.1)\">\n       <use xlink:href=\"#DejaVuSans-55\"/>\n       <use x=\"63.623047\" xlink:href=\"#DejaVuSans-48\"/>\n      </g>\n     </g>\n    </g>\n    <g id=\"ytick_9\">\n     <g id=\"line2d_10\">\n      <g>\n       <use style=\"stroke:#000000;stroke-width:0.8;\" x=\"26.925\" xlink:href=\"#mb3b6a2431e\" y=\"10.999219\"/>\n      </g>\n     </g>\n     <g id=\"text_10\">\n      <!-- 80 -->\n      <defs>\n       <path d=\"M 31.78125 34.625 \nQ 24.75 34.625 20.71875 30.859375 \nQ 16.703125 27.09375 16.703125 20.515625 \nQ 16.703125 13.921875 20.71875 10.15625 \nQ 24.75 6.390625 31.78125 6.390625 \nQ 38.8125 6.390625 42.859375 10.171875 \nQ 46.921875 13.96875 46.921875 20.515625 \nQ 46.921875 27.09375 42.890625 30.859375 \nQ 38.875 34.625 31.78125 34.625 \nz\nM 21.921875 38.8125 \nQ 15.578125 40.375 12.03125 44.71875 \nQ 8.5 49.078125 8.5 55.328125 \nQ 8.5 64.0625 14.71875 69.140625 \nQ 20.953125 74.21875 31.78125 74.21875 \nQ 42.671875 74.21875 48.875 69.140625 \nQ 55.078125 64.0625 55.078125 55.328125 \nQ 55.078125 49.078125 51.53125 44.71875 \nQ 48 40.375 41.703125 38.8125 \nQ 48.828125 37.15625 52.796875 32.3125 \nQ 56.78125 27.484375 56.78125 20.515625 \nQ 56.78125 9.90625 50.3125 4.234375 \nQ 43.84375 -1.421875 31.78125 -1.421875 \nQ 19.734375 -1.421875 13.25 4.234375 \nQ 6.78125 9.90625 6.78125 20.515625 \nQ 6.78125 27.484375 10.78125 32.3125 \nQ 14.796875 37.15625 21.921875 38.8125 \nz\nM 18.3125 54.390625 \nQ 18.3125 48.734375 21.84375 45.5625 \nQ 25.390625 42.390625 31.78125 42.390625 \nQ 38.140625 42.390625 41.71875 45.5625 \nQ 45.3125 48.734375 45.3125 54.390625 \nQ 45.3125 60.0625 41.71875 63.234375 \nQ 38.140625 66.40625 31.78125 66.40625 \nQ 25.390625 66.40625 21.84375 63.234375 \nQ 18.3125 60.0625 18.3125 54.390625 \nz\n\" id=\"DejaVuSans-56\"/>\n      </defs>\n      <g transform=\"translate(7.2 14.798437)scale(0.1 -0.1)\">\n       <use xlink:href=\"#DejaVuSans-56\"/>\n       <use x=\"63.623047\" xlink:href=\"#DejaVuSans-48\"/>\n      </g>\n     </g>\n    </g>\n   </g>\n   <g id=\"patch_7\">\n    <path d=\"M 26.925 225.550463 \nL 26.925 8.110463 \n\" style=\"fill:none;stroke:#000000;stroke-linecap:square;stroke-linejoin:miter;stroke-width:0.8;\"/>\n   </g>\n   <g id=\"patch_8\">\n    <path d=\"M 361.725 225.550463 \nL 361.725 8.110463 \n\" style=\"fill:none;stroke:#000000;stroke-linecap:square;stroke-linejoin:miter;stroke-width:0.8;\"/>\n   </g>\n   <g id=\"patch_9\">\n    <path d=\"M 26.925 225.550463 \nL 361.725 225.550463 \n\" style=\"fill:none;stroke:#000000;stroke-linecap:square;stroke-linejoin:miter;stroke-width:0.8;\"/>\n   </g>\n   <g id=\"patch_10\">\n    <path d=\"M 26.925 8.110463 \nL 361.725 8.110463 \n\" style=\"fill:none;stroke:#000000;stroke-linecap:square;stroke-linejoin:miter;stroke-width:0.8;\"/>\n   </g>\n   <g id=\"legend_1\">\n    <g id=\"patch_11\">\n     <path d=\"M 290.904688 74.822963 \nL 354.725 74.822963 \nQ 356.725 74.822963 356.725 72.822963 \nL 356.725 15.110463 \nQ 356.725 13.110463 354.725 13.110463 \nL 290.904688 13.110463 \nQ 288.904688 13.110463 288.904688 15.110463 \nL 288.904688 72.822963 \nQ 288.904688 74.822963 290.904688 74.822963 \nz\n\" style=\"fill:#ffffff;opacity:0.8;stroke:#cccccc;stroke-linejoin:miter;\"/>\n    </g>\n    <g id=\"patch_12\">\n     <path d=\"M 292.904688 24.708901 \nL 312.904688 24.708901 \nL 312.904688 17.708901 \nL 292.904688 17.708901 \nz\n\" style=\"fill:#1f77b4;\"/>\n    </g>\n    <g id=\"text_11\">\n     <!-- harian -->\n     <defs>\n      <path d=\"M 54.890625 33.015625 \nL 54.890625 0 \nL 45.90625 0 \nL 45.90625 32.71875 \nQ 45.90625 40.484375 42.875 44.328125 \nQ 39.84375 48.1875 33.796875 48.1875 \nQ 26.515625 48.1875 22.3125 43.546875 \nQ 18.109375 38.921875 18.109375 30.90625 \nL 18.109375 0 \nL 9.078125 0 \nL 9.078125 75.984375 \nL 18.109375 75.984375 \nL 18.109375 46.1875 \nQ 21.34375 51.125 25.703125 53.5625 \nQ 30.078125 56 35.796875 56 \nQ 45.21875 56 50.046875 50.171875 \nQ 54.890625 44.34375 54.890625 33.015625 \nz\n\" id=\"DejaVuSans-104\"/>\n      <path d=\"M 34.28125 27.484375 \nQ 23.390625 27.484375 19.1875 25 \nQ 14.984375 22.515625 14.984375 16.5 \nQ 14.984375 11.71875 18.140625 8.90625 \nQ 21.296875 6.109375 26.703125 6.109375 \nQ 34.1875 6.109375 38.703125 11.40625 \nQ 43.21875 16.703125 43.21875 25.484375 \nL 43.21875 27.484375 \nz\nM 52.203125 31.203125 \nL 52.203125 0 \nL 43.21875 0 \nL 43.21875 8.296875 \nQ 40.140625 3.328125 35.546875 0.953125 \nQ 30.953125 -1.421875 24.3125 -1.421875 \nQ 15.921875 -1.421875 10.953125 3.296875 \nQ 6 8.015625 6 15.921875 \nQ 6 25.140625 12.171875 29.828125 \nQ 18.359375 34.515625 30.609375 34.515625 \nL 43.21875 34.515625 \nL 43.21875 35.40625 \nQ 43.21875 41.609375 39.140625 45 \nQ 35.0625 48.390625 27.6875 48.390625 \nQ 23 48.390625 18.546875 47.265625 \nQ 14.109375 46.140625 10.015625 43.890625 \nL 10.015625 52.203125 \nQ 14.9375 54.109375 19.578125 55.046875 \nQ 24.21875 56 28.609375 56 \nQ 40.484375 56 46.34375 49.84375 \nQ 52.203125 43.703125 52.203125 31.203125 \nz\n\" id=\"DejaVuSans-97\"/>\n      <path d=\"M 41.109375 46.296875 \nQ 39.59375 47.171875 37.8125 47.578125 \nQ 36.03125 48 33.890625 48 \nQ 26.265625 48 22.1875 43.046875 \nQ 18.109375 38.09375 18.109375 28.8125 \nL 18.109375 0 \nL 9.078125 0 \nL 9.078125 54.6875 \nL 18.109375 54.6875 \nL 18.109375 46.1875 \nQ 20.953125 51.171875 25.484375 53.578125 \nQ 30.03125 56 36.53125 56 \nQ 37.453125 56 38.578125 55.875 \nQ 39.703125 55.765625 41.0625 55.515625 \nz\n\" id=\"DejaVuSans-114\"/>\n      <path d=\"M 9.421875 54.6875 \nL 18.40625 54.6875 \nL 18.40625 0 \nL 9.421875 0 \nz\nM 9.421875 75.984375 \nL 18.40625 75.984375 \nL 18.40625 64.59375 \nL 9.421875 64.59375 \nz\n\" id=\"DejaVuSans-105\"/>\n      <path d=\"M 54.890625 33.015625 \nL 54.890625 0 \nL 45.90625 0 \nL 45.90625 32.71875 \nQ 45.90625 40.484375 42.875 44.328125 \nQ 39.84375 48.1875 33.796875 48.1875 \nQ 26.515625 48.1875 22.3125 43.546875 \nQ 18.109375 38.921875 18.109375 30.90625 \nL 18.109375 0 \nL 9.078125 0 \nL 9.078125 54.6875 \nL 18.109375 54.6875 \nL 18.109375 46.1875 \nQ 21.34375 51.125 25.703125 53.5625 \nQ 30.078125 56 35.796875 56 \nQ 45.21875 56 50.046875 50.171875 \nQ 54.890625 44.34375 54.890625 33.015625 \nz\n\" id=\"DejaVuSans-110\"/>\n     </defs>\n     <g transform=\"translate(320.904688 24.708901)scale(0.1 -0.1)\">\n      <use xlink:href=\"#DejaVuSans-104\"/>\n      <use x=\"63.378906\" xlink:href=\"#DejaVuSans-97\"/>\n      <use x=\"124.658203\" xlink:href=\"#DejaVuSans-114\"/>\n      <use x=\"165.771484\" xlink:href=\"#DejaVuSans-105\"/>\n      <use x=\"193.554688\" xlink:href=\"#DejaVuSans-97\"/>\n      <use x=\"254.833984\" xlink:href=\"#DejaVuSans-110\"/>\n     </g>\n    </g>\n    <g id=\"patch_13\">\n     <path d=\"M 292.904688 39.387026 \nL 312.904688 39.387026 \nL 312.904688 32.387026 \nL 292.904688 32.387026 \nz\n\" style=\"fill:#ff7f0e;\"/>\n    </g>\n    <g id=\"text_12\">\n     <!-- uts -->\n     <defs>\n      <path d=\"M 8.5 21.578125 \nL 8.5 54.6875 \nL 17.484375 54.6875 \nL 17.484375 21.921875 \nQ 17.484375 14.15625 20.5 10.265625 \nQ 23.53125 6.390625 29.59375 6.390625 \nQ 36.859375 6.390625 41.078125 11.03125 \nQ 45.3125 15.671875 45.3125 23.6875 \nL 45.3125 54.6875 \nL 54.296875 54.6875 \nL 54.296875 0 \nL 45.3125 0 \nL 45.3125 8.40625 \nQ 42.046875 3.421875 37.71875 1 \nQ 33.40625 -1.421875 27.6875 -1.421875 \nQ 18.265625 -1.421875 13.375 4.4375 \nQ 8.5 10.296875 8.5 21.578125 \nz\nM 31.109375 56 \nz\n\" id=\"DejaVuSans-117\"/>\n      <path d=\"M 18.3125 70.21875 \nL 18.3125 54.6875 \nL 36.8125 54.6875 \nL 36.8125 47.703125 \nL 18.3125 47.703125 \nL 18.3125 18.015625 \nQ 18.3125 11.328125 20.140625 9.421875 \nQ 21.96875 7.515625 27.59375 7.515625 \nL 36.8125 7.515625 \nL 36.8125 0 \nL 27.59375 0 \nQ 17.1875 0 13.234375 3.875 \nQ 9.28125 7.765625 9.28125 18.015625 \nL 9.28125 47.703125 \nL 2.6875 47.703125 \nL 2.6875 54.6875 \nL 9.28125 54.6875 \nL 9.28125 70.21875 \nz\n\" id=\"DejaVuSans-116\"/>\n      <path d=\"M 44.28125 53.078125 \nL 44.28125 44.578125 \nQ 40.484375 46.53125 36.375 47.5 \nQ 32.28125 48.484375 27.875 48.484375 \nQ 21.1875 48.484375 17.84375 46.4375 \nQ 14.5 44.390625 14.5 40.28125 \nQ 14.5 37.15625 16.890625 35.375 \nQ 19.28125 33.59375 26.515625 31.984375 \nL 29.59375 31.296875 \nQ 39.15625 29.25 43.1875 25.515625 \nQ 47.21875 21.78125 47.21875 15.09375 \nQ 47.21875 7.46875 41.1875 3.015625 \nQ 35.15625 -1.421875 24.609375 -1.421875 \nQ 20.21875 -1.421875 15.453125 -0.5625 \nQ 10.6875 0.296875 5.421875 2 \nL 5.421875 11.28125 \nQ 10.40625 8.6875 15.234375 7.390625 \nQ 20.0625 6.109375 24.8125 6.109375 \nQ 31.15625 6.109375 34.5625 8.28125 \nQ 37.984375 10.453125 37.984375 14.40625 \nQ 37.984375 18.0625 35.515625 20.015625 \nQ 33.0625 21.96875 24.703125 23.78125 \nL 21.578125 24.515625 \nQ 13.234375 26.265625 9.515625 29.90625 \nQ 5.8125 33.546875 5.8125 39.890625 \nQ 5.8125 47.609375 11.28125 51.796875 \nQ 16.75 56 26.8125 56 \nQ 31.78125 56 36.171875 55.265625 \nQ 40.578125 54.546875 44.28125 53.078125 \nz\n\" id=\"DejaVuSans-115\"/>\n     </defs>\n     <g transform=\"translate(320.904688 39.387026)scale(0.1 -0.1)\">\n      <use xlink:href=\"#DejaVuSans-117\"/>\n      <use x=\"63.378906\" xlink:href=\"#DejaVuSans-116\"/>\n      <use x=\"102.587891\" xlink:href=\"#DejaVuSans-115\"/>\n     </g>\n    </g>\n    <g id=\"patch_14\">\n     <path d=\"M 292.904688 54.065151 \nL 312.904688 54.065151 \nL 312.904688 47.065151 \nL 292.904688 47.065151 \nz\n\" style=\"fill:#2ca02c;\"/>\n    </g>\n    <g id=\"text_13\">\n     <!-- uas -->\n     <g transform=\"translate(320.904688 54.065151)scale(0.1 -0.1)\">\n      <use xlink:href=\"#DejaVuSans-117\"/>\n      <use x=\"63.378906\" xlink:href=\"#DejaVuSans-97\"/>\n      <use x=\"124.658203\" xlink:href=\"#DejaVuSans-115\"/>\n     </g>\n    </g>\n    <g id=\"patch_15\">\n     <path d=\"M 292.904688 68.743276 \nL 312.904688 68.743276 \nL 312.904688 61.743276 \nL 292.904688 61.743276 \nz\n\" style=\"fill:#d62728;\"/>\n    </g>\n    <g id=\"text_14\">\n     <!-- akhir -->\n     <defs>\n      <path d=\"M 9.078125 75.984375 \nL 18.109375 75.984375 \nL 18.109375 31.109375 \nL 44.921875 54.6875 \nL 56.390625 54.6875 \nL 27.390625 29.109375 \nL 57.625 0 \nL 45.90625 0 \nL 18.109375 26.703125 \nL 18.109375 0 \nL 9.078125 0 \nz\n\" id=\"DejaVuSans-107\"/>\n     </defs>\n     <g transform=\"translate(320.904688 68.743276)scale(0.1 -0.1)\">\n      <use xlink:href=\"#DejaVuSans-97\"/>\n      <use x=\"61.279297\" xlink:href=\"#DejaVuSans-107\"/>\n      <use x=\"119.189453\" xlink:href=\"#DejaVuSans-104\"/>\n      <use x=\"182.568359\" xlink:href=\"#DejaVuSans-105\"/>\n      <use x=\"210.351562\" xlink:href=\"#DejaVuSans-114\"/>\n     </g>\n    </g>\n   </g>\n  </g>\n </g>\n <defs>\n  <clipPath id=\"pc366f329b3\">\n   <rect height=\"217.44\" width=\"334.8\" x=\"26.925\" y=\"8.110463\"/>\n  </clipPath>\n </defs>\n</svg>\n",
      "image/png": "[encoded data removed]"
     },
     "metadata": {
      "needs_background": "light"
     }
    }
   ],
   "source": [
    "nilai.loc[[4],['harian','uts','uas','akhir','huruf']].plot.bar()"
   ]
  },
  {
   "cell_type": "code",
   "execution_count": null,
   "metadata": {},
   "outputs": [],
   "source": []
  }
 ]
}