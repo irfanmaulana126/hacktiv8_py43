{
 "metadata": {
  "language_info": {
   "codemirror_mode": {
    "name": "ipython",
    "version": 3
   },
   "file_extension": ".py",
   "mimetype": "text/x-python",
   "name": "python",
   "nbconvert_exporter": "python",
   "pygments_lexer": "ipython3",
   "version": "3.8.3-final"
  },
  "orig_nbformat": 2,
  "kernelspec": {
   "name": "python3",
   "display_name": "Python 3"
  }
 },
 "nbformat": 4,
 "nbformat_minor": 2,
 "cells": [
  {
   "cell_type": "code",
   "execution_count": 2,
   "metadata": {},
   "outputs": [],
   "source": [
    "import numpy as np \n",
    "import pandas as pd\n",
    "import matplotlib.pyplot as plt\n",
    "\n",
    "from datetime import datetime"
   ]
  },
  {
   "cell_type": "code",
   "execution_count": 3,
   "metadata": {},
   "outputs": [
    {
     "output_type": "execute_result",
     "data": {
      "text/plain": [
       "datetime.datetime(2020, 12, 3, 21, 14, 3, 725410)"
      ]
     },
     "metadata": {},
     "execution_count": 3
    }
   ],
   "source": [
    "datetime.now()"
   ]
  },
  {
   "cell_type": "code",
   "execution_count": 6,
   "metadata": {},
   "outputs": [],
   "source": [
    "date_rng = pd.date_range(start='11/01/2020',end='11/05/2020',freq='H')"
   ]
  },
  {
   "cell_type": "code",
   "execution_count": 7,
   "metadata": {},
   "outputs": [
    {
     "output_type": "execute_result",
     "data": {
      "text/plain": [
       "DatetimeIndex(['2020-11-01 00:00:00', '2020-11-01 01:00:00',\n",
       "               '2020-11-01 02:00:00', '2020-11-01 03:00:00',\n",
       "               '2020-11-01 04:00:00', '2020-11-01 05:00:00',\n",
       "               '2020-11-01 06:00:00', '2020-11-01 07:00:00',\n",
       "               '2020-11-01 08:00:00', '2020-11-01 09:00:00',\n",
       "               '2020-11-01 10:00:00', '2020-11-01 11:00:00',\n",
       "               '2020-11-01 12:00:00', '2020-11-01 13:00:00',\n",
       "               '2020-11-01 14:00:00', '2020-11-01 15:00:00',\n",
       "               '2020-11-01 16:00:00', '2020-11-01 17:00:00',\n",
       "               '2020-11-01 18:00:00', '2020-11-01 19:00:00',\n",
       "               '2020-11-01 20:00:00', '2020-11-01 21:00:00',\n",
       "               '2020-11-01 22:00:00', '2020-11-01 23:00:00',\n",
       "               '2020-11-02 00:00:00', '2020-11-02 01:00:00',\n",
       "               '2020-11-02 02:00:00', '2020-11-02 03:00:00',\n",
       "               '2020-11-02 04:00:00', '2020-11-02 05:00:00',\n",
       "               '2020-11-02 06:00:00', '2020-11-02 07:00:00',\n",
       "               '2020-11-02 08:00:00', '2020-11-02 09:00:00',\n",
       "               '2020-11-02 10:00:00', '2020-11-02 11:00:00',\n",
       "               '2020-11-02 12:00:00', '2020-11-02 13:00:00',\n",
       "               '2020-11-02 14:00:00', '2020-11-02 15:00:00',\n",
       "               '2020-11-02 16:00:00', '2020-11-02 17:00:00',\n",
       "               '2020-11-02 18:00:00', '2020-11-02 19:00:00',\n",
       "               '2020-11-02 20:00:00', '2020-11-02 21:00:00',\n",
       "               '2020-11-02 22:00:00', '2020-11-02 23:00:00',\n",
       "               '2020-11-03 00:00:00', '2020-11-03 01:00:00',\n",
       "               '2020-11-03 02:00:00', '2020-11-03 03:00:00',\n",
       "               '2020-11-03 04:00:00', '2020-11-03 05:00:00',\n",
       "               '2020-11-03 06:00:00', '2020-11-03 07:00:00',\n",
       "               '2020-11-03 08:00:00', '2020-11-03 09:00:00',\n",
       "               '2020-11-03 10:00:00', '2020-11-03 11:00:00',\n",
       "               '2020-11-03 12:00:00', '2020-11-03 13:00:00',\n",
       "               '2020-11-03 14:00:00', '2020-11-03 15:00:00',\n",
       "               '2020-11-03 16:00:00', '2020-11-03 17:00:00',\n",
       "               '2020-11-03 18:00:00', '2020-11-03 19:00:00',\n",
       "               '2020-11-03 20:00:00', '2020-11-03 21:00:00',\n",
       "               '2020-11-03 22:00:00', '2020-11-03 23:00:00',\n",
       "               '2020-11-04 00:00:00', '2020-11-04 01:00:00',\n",
       "               '2020-11-04 02:00:00', '2020-11-04 03:00:00',\n",
       "               '2020-11-04 04:00:00', '2020-11-04 05:00:00',\n",
       "               '2020-11-04 06:00:00', '2020-11-04 07:00:00',\n",
       "               '2020-11-04 08:00:00', '2020-11-04 09:00:00',\n",
       "               '2020-11-04 10:00:00', '2020-11-04 11:00:00',\n",
       "               '2020-11-04 12:00:00', '2020-11-04 13:00:00',\n",
       "               '2020-11-04 14:00:00', '2020-11-04 15:00:00',\n",
       "               '2020-11-04 16:00:00', '2020-11-04 17:00:00',\n",
       "               '2020-11-04 18:00:00', '2020-11-04 19:00:00',\n",
       "               '2020-11-04 20:00:00', '2020-11-04 21:00:00',\n",
       "               '2020-11-04 22:00:00', '2020-11-04 23:00:00',\n",
       "               '2020-11-05 00:00:00'],\n",
       "              dtype='datetime64[ns]', freq='H')"
      ]
     },
     "metadata": {},
     "execution_count": 7
    }
   ],
   "source": [
    "date_rng"
   ]
  },
  {
   "cell_type": "code",
   "execution_count": 8,
   "metadata": {},
   "outputs": [],
   "source": [
    "df = pd.DataFrame(date_rng,columns=['date'])"
   ]
  },
  {
   "cell_type": "code",
   "execution_count": 10,
   "metadata": {},
   "outputs": [
    {
     "output_type": "execute_result",
     "data": {
      "text/plain": [
       "                 date\n",
       "0 2020-11-01 00:00:00\n",
       "1 2020-11-01 01:00:00\n",
       "2 2020-11-01 02:00:00\n",
       "3 2020-11-01 03:00:00\n",
       "4 2020-11-01 04:00:00"
      ],
      "text/html": "<div>\n<style scoped>\n    .dataframe tbody tr th:only-of-type {\n        vertical-align: middle;\n    }\n\n    .dataframe tbody tr th {\n        vertical-align: top;\n    }\n\n    .dataframe thead th {\n        text-align: right;\n    }\n</style>\n<table border=\"1\" class=\"dataframe\">\n  <thead>\n    <tr style=\"text-align: right;\">\n      <th></th>\n      <th>date</th>\n    </tr>\n  </thead>\n  <tbody>\n    <tr>\n      <th>0</th>\n      <td>2020-11-01 00:00:00</td>\n    </tr>\n    <tr>\n      <th>1</th>\n      <td>2020-11-01 01:00:00</td>\n    </tr>\n    <tr>\n      <th>2</th>\n      <td>2020-11-01 02:00:00</td>\n    </tr>\n    <tr>\n      <th>3</th>\n      <td>2020-11-01 03:00:00</td>\n    </tr>\n    <tr>\n      <th>4</th>\n      <td>2020-11-01 04:00:00</td>\n    </tr>\n  </tbody>\n</table>\n</div>"
     },
     "metadata": {},
     "execution_count": 10
    }
   ],
   "source": [
    "df.head()"
   ]
  },
  {
   "cell_type": "code",
   "execution_count": 11,
   "metadata": {},
   "outputs": [],
   "source": [
    "df['data'] = np.random.randint(0,100,len(date_rng))"
   ]
  },
  {
   "cell_type": "code",
   "execution_count": 13,
   "metadata": {},
   "outputs": [
    {
     "output_type": "execute_result",
     "data": {
      "text/plain": [
       "                 date  data\n",
       "0 2020-11-01 00:00:00    96\n",
       "1 2020-11-01 01:00:00    42\n",
       "2 2020-11-01 02:00:00     8\n",
       "3 2020-11-01 03:00:00    71\n",
       "4 2020-11-01 04:00:00    77"
      ],
      "text/html": "<div>\n<style scoped>\n    .dataframe tbody tr th:only-of-type {\n        vertical-align: middle;\n    }\n\n    .dataframe tbody tr th {\n        vertical-align: top;\n    }\n\n    .dataframe thead th {\n        text-align: right;\n    }\n</style>\n<table border=\"1\" class=\"dataframe\">\n  <thead>\n    <tr style=\"text-align: right;\">\n      <th></th>\n      <th>date</th>\n      <th>data</th>\n    </tr>\n  </thead>\n  <tbody>\n    <tr>\n      <th>0</th>\n      <td>2020-11-01 00:00:00</td>\n      <td>96</td>\n    </tr>\n    <tr>\n      <th>1</th>\n      <td>2020-11-01 01:00:00</td>\n      <td>42</td>\n    </tr>\n    <tr>\n      <th>2</th>\n      <td>2020-11-01 02:00:00</td>\n      <td>8</td>\n    </tr>\n    <tr>\n      <th>3</th>\n      <td>2020-11-01 03:00:00</td>\n      <td>71</td>\n    </tr>\n    <tr>\n      <th>4</th>\n      <td>2020-11-01 04:00:00</td>\n      <td>77</td>\n    </tr>\n  </tbody>\n</table>\n</div>"
     },
     "metadata": {},
     "execution_count": 13
    }
   ],
   "source": [
    "df.head()"
   ]
  },
  {
   "cell_type": "code",
   "execution_count": 14,
   "metadata": {},
   "outputs": [],
   "source": [
    "df['datetime']= pd.to_datetime(df['date'])"
   ]
  },
  {
   "cell_type": "code",
   "execution_count": 15,
   "metadata": {},
   "outputs": [
    {
     "output_type": "execute_result",
     "data": {
      "text/plain": [
       "                 date  data            datetime\n",
       "0 2020-11-01 00:00:00    96 2020-11-01 00:00:00\n",
       "1 2020-11-01 01:00:00    42 2020-11-01 01:00:00\n",
       "2 2020-11-01 02:00:00     8 2020-11-01 02:00:00\n",
       "3 2020-11-01 03:00:00    71 2020-11-01 03:00:00\n",
       "4 2020-11-01 04:00:00    77 2020-11-01 04:00:00"
      ],
      "text/html": "<div>\n<style scoped>\n    .dataframe tbody tr th:only-of-type {\n        vertical-align: middle;\n    }\n\n    .dataframe tbody tr th {\n        vertical-align: top;\n    }\n\n    .dataframe thead th {\n        text-align: right;\n    }\n</style>\n<table border=\"1\" class=\"dataframe\">\n  <thead>\n    <tr style=\"text-align: right;\">\n      <th></th>\n      <th>date</th>\n      <th>data</th>\n      <th>datetime</th>\n    </tr>\n  </thead>\n  <tbody>\n    <tr>\n      <th>0</th>\n      <td>2020-11-01 00:00:00</td>\n      <td>96</td>\n      <td>2020-11-01 00:00:00</td>\n    </tr>\n    <tr>\n      <th>1</th>\n      <td>2020-11-01 01:00:00</td>\n      <td>42</td>\n      <td>2020-11-01 01:00:00</td>\n    </tr>\n    <tr>\n      <th>2</th>\n      <td>2020-11-01 02:00:00</td>\n      <td>8</td>\n      <td>2020-11-01 02:00:00</td>\n    </tr>\n    <tr>\n      <th>3</th>\n      <td>2020-11-01 03:00:00</td>\n      <td>71</td>\n      <td>2020-11-01 03:00:00</td>\n    </tr>\n    <tr>\n      <th>4</th>\n      <td>2020-11-01 04:00:00</td>\n      <td>77</td>\n      <td>2020-11-01 04:00:00</td>\n    </tr>\n  </tbody>\n</table>\n</div>"
     },
     "metadata": {},
     "execution_count": 15
    }
   ],
   "source": [
    "df.head()"
   ]
  },
  {
   "cell_type": "code",
   "execution_count": 16,
   "metadata": {},
   "outputs": [
    {
     "output_type": "stream",
     "name": "stdout",
     "text": [
      "<class 'pandas.core.frame.DataFrame'>\nRangeIndex: 97 entries, 0 to 96\nData columns (total 3 columns):\n #   Column    Non-Null Count  Dtype         \n---  ------    --------------  -----         \n 0   date      97 non-null     datetime64[ns]\n 1   data      97 non-null     int64         \n 2   datetime  97 non-null     datetime64[ns]\ndtypes: datetime64[ns](2), int64(1)\nmemory usage: 2.4 KB\n"
     ]
    }
   ],
   "source": [
    "df.info()"
   ]
  },
  {
   "cell_type": "code",
   "execution_count": 18,
   "metadata": {},
   "outputs": [],
   "source": [
    "df.drop('date',axis=1,inplace=True)"
   ]
  },
  {
   "cell_type": "code",
   "execution_count": 19,
   "metadata": {},
   "outputs": [],
   "source": [
    "df = df.set_index('datetime')"
   ]
  },
  {
   "cell_type": "code",
   "execution_count": 20,
   "metadata": {},
   "outputs": [
    {
     "output_type": "execute_result",
     "data": {
      "text/plain": [
       "                     data\n",
       "datetime                 \n",
       "2020-11-01 00:00:00    96\n",
       "2020-11-01 01:00:00    42\n",
       "2020-11-01 02:00:00     8\n",
       "2020-11-01 03:00:00    71\n",
       "2020-11-01 04:00:00    77"
      ],
      "text/html": "<div>\n<style scoped>\n    .dataframe tbody tr th:only-of-type {\n        vertical-align: middle;\n    }\n\n    .dataframe tbody tr th {\n        vertical-align: top;\n    }\n\n    .dataframe thead th {\n        text-align: right;\n    }\n</style>\n<table border=\"1\" class=\"dataframe\">\n  <thead>\n    <tr style=\"text-align: right;\">\n      <th></th>\n      <th>data</th>\n    </tr>\n    <tr>\n      <th>datetime</th>\n      <th></th>\n    </tr>\n  </thead>\n  <tbody>\n    <tr>\n      <th>2020-11-01 00:00:00</th>\n      <td>96</td>\n    </tr>\n    <tr>\n      <th>2020-11-01 01:00:00</th>\n      <td>42</td>\n    </tr>\n    <tr>\n      <th>2020-11-01 02:00:00</th>\n      <td>8</td>\n    </tr>\n    <tr>\n      <th>2020-11-01 03:00:00</th>\n      <td>71</td>\n    </tr>\n    <tr>\n      <th>2020-11-01 04:00:00</th>\n      <td>77</td>\n    </tr>\n  </tbody>\n</table>\n</div>"
     },
     "metadata": {},
     "execution_count": 20
    }
   ],
   "source": [
    "df.head()"
   ]
  },
  {
   "cell_type": "code",
   "execution_count": 21,
   "metadata": {},
   "outputs": [
    {
     "output_type": "execute_result",
     "data": {
      "text/plain": [
       "Timestamp('2020-11-01 00:00:00', freq='H')"
      ]
     },
     "metadata": {},
     "execution_count": 21
    }
   ],
   "source": [
    "date_rng[0]"
   ]
  },
  {
   "cell_type": "code",
   "execution_count": 22,
   "metadata": {},
   "outputs": [],
   "source": [
    "str_date_rng =[]\n",
    "for item in date_rng:\n",
    "    str_date_rng.append(str(item))"
   ]
  },
  {
   "cell_type": "code",
   "execution_count": 25,
   "metadata": {},
   "outputs": [
    {
     "output_type": "execute_result",
     "data": {
      "text/plain": [
       "str"
      ]
     },
     "metadata": {},
     "execution_count": 25
    }
   ],
   "source": [
    "type(str_date_rng[0])"
   ]
  },
  {
   "cell_type": "code",
   "execution_count": 26,
   "metadata": {},
   "outputs": [],
   "source": [
    "df['date_str']=str_date_rng"
   ]
  },
  {
   "cell_type": "code",
   "execution_count": 27,
   "metadata": {},
   "outputs": [
    {
     "output_type": "execute_result",
     "data": {
      "text/plain": [
       "                     data             date_str\n",
       "datetime                                      \n",
       "2020-11-01 00:00:00    96  2020-11-01 00:00:00\n",
       "2020-11-01 01:00:00    42  2020-11-01 01:00:00\n",
       "2020-11-01 02:00:00     8  2020-11-01 02:00:00\n",
       "2020-11-01 03:00:00    71  2020-11-01 03:00:00\n",
       "2020-11-01 04:00:00    77  2020-11-01 04:00:00"
      ],
      "text/html": "<div>\n<style scoped>\n    .dataframe tbody tr th:only-of-type {\n        vertical-align: middle;\n    }\n\n    .dataframe tbody tr th {\n        vertical-align: top;\n    }\n\n    .dataframe thead th {\n        text-align: right;\n    }\n</style>\n<table border=\"1\" class=\"dataframe\">\n  <thead>\n    <tr style=\"text-align: right;\">\n      <th></th>\n      <th>data</th>\n      <th>date_str</th>\n    </tr>\n    <tr>\n      <th>datetime</th>\n      <th></th>\n      <th></th>\n    </tr>\n  </thead>\n  <tbody>\n    <tr>\n      <th>2020-11-01 00:00:00</th>\n      <td>96</td>\n      <td>2020-11-01 00:00:00</td>\n    </tr>\n    <tr>\n      <th>2020-11-01 01:00:00</th>\n      <td>42</td>\n      <td>2020-11-01 01:00:00</td>\n    </tr>\n    <tr>\n      <th>2020-11-01 02:00:00</th>\n      <td>8</td>\n      <td>2020-11-01 02:00:00</td>\n    </tr>\n    <tr>\n      <th>2020-11-01 03:00:00</th>\n      <td>71</td>\n      <td>2020-11-01 03:00:00</td>\n    </tr>\n    <tr>\n      <th>2020-11-01 04:00:00</th>\n      <td>77</td>\n      <td>2020-11-01 04:00:00</td>\n    </tr>\n  </tbody>\n</table>\n</div>"
     },
     "metadata": {},
     "execution_count": 27
    }
   ],
   "source": [
    "df.head()"
   ]
  },
  {
   "cell_type": "code",
   "execution_count": 28,
   "metadata": {},
   "outputs": [
    {
     "output_type": "stream",
     "name": "stdout",
     "text": [
      "<class 'pandas.core.frame.DataFrame'>\nDatetimeIndex: 97 entries, 2020-11-01 00:00:00 to 2020-11-05 00:00:00\nData columns (total 2 columns):\n #   Column    Non-Null Count  Dtype \n---  ------    --------------  ----- \n 0   data      97 non-null     int64 \n 1   date_str  97 non-null     object\ndtypes: int64(1), object(1)\nmemory usage: 4.8+ KB\n"
     ]
    }
   ],
   "source": [
    "df.info()"
   ]
  },
  {
   "cell_type": "code",
   "execution_count": 29,
   "metadata": {},
   "outputs": [],
   "source": [
    "df.date_str = pd.to_datetime(df.date_str)"
   ]
  },
  {
   "cell_type": "code",
   "execution_count": 32,
   "metadata": {},
   "outputs": [
    {
     "output_type": "stream",
     "name": "stdout",
     "text": [
      "<class 'pandas.core.frame.DataFrame'>\nDatetimeIndex: 97 entries, 2020-11-01 00:00:00 to 2020-11-05 00:00:00\nData columns (total 2 columns):\n #   Column    Non-Null Count  Dtype         \n---  ------    --------------  -----         \n 0   data      97 non-null     int64         \n 1   date_str  97 non-null     datetime64[ns]\ndtypes: datetime64[ns](1), int64(1)\nmemory usage: 4.8 KB\n"
     ]
    }
   ],
   "source": [
    "df.info()"
   ]
  },
  {
   "cell_type": "code",
   "execution_count": 36,
   "metadata": {},
   "outputs": [],
   "source": [
    "str_date_rng_2 = ['June-01-2020','May-02-2020','July-06-2020']"
   ]
  },
  {
   "cell_type": "code",
   "execution_count": 40,
   "metadata": {},
   "outputs": [],
   "source": [
    "dt_rng_2 = []\n",
    "for item in str_date_rng_2:\n",
    "    a = datetime.strptime(item,'%B-%d-%Y')\n",
    "    dt_rng_2.append(a)"
   ]
  },
  {
   "cell_type": "code",
   "execution_count": 38,
   "metadata": {},
   "outputs": [
    {
     "output_type": "execute_result",
     "data": {
      "text/plain": [
       "[datetime.datetime(2020, 6, 1, 0, 0),\n",
       " datetime.datetime(2020, 5, 2, 0, 0),\n",
       " datetime.datetime(2020, 7, 6, 0, 0)]"
      ]
     },
     "metadata": {},
     "execution_count": 38
    }
   ],
   "source": [
    "dt_rng_2"
   ]
  },
  {
   "cell_type": "code",
   "execution_count": 43,
   "metadata": {},
   "outputs": [
    {
     "output_type": "execute_result",
     "data": {
      "text/plain": [
       "3"
      ]
     },
     "metadata": {},
     "execution_count": 43
    }
   ],
   "source": [
    "len(str_date_rng_2)"
   ]
  },
  {
   "cell_type": "code",
   "execution_count": 50,
   "metadata": {},
   "outputs": [],
   "source": [
    "str_date_rng_2 = ['01-Juni-2020','02-Mei-2020','01-Juli-2020']\n",
    "\n",
    "bulan = {'Mei':'05','Juni':'06','Juli':'07'}\n",
    "\n",
    "for tgl in range(len(str_date_rng_2)):\n",
    "    for bln in bulan.keys():\n",
    "        if bln in str_date_rng_2[tgl] :  \n",
    "            str_date_rng_2[tgl] = str_date_rng_2[tgl].replace(bln,bulan[bln])\n"
   ]
  },
  {
   "cell_type": "code",
   "execution_count": 51,
   "metadata": {},
   "outputs": [
    {
     "output_type": "execute_result",
     "data": {
      "text/plain": [
       "['01-06-2020', '02-05-2020', '01-07-2020']"
      ]
     },
     "metadata": {},
     "execution_count": 51
    }
   ],
   "source": [
    "str_date_rng_2"
   ]
  },
  {
   "cell_type": "code",
   "execution_count": 53,
   "metadata": {},
   "outputs": [],
   "source": [
    "str_date_new_2 = []\n",
    "for tgl in str_date_rng_2:\n",
    "    a = datetime.strptime(tgl,'%d-%m-%Y')\n",
    "    str_date_new_2.append(a)"
   ]
  },
  {
   "cell_type": "code",
   "execution_count": 54,
   "metadata": {},
   "outputs": [
    {
     "output_type": "execute_result",
     "data": {
      "text/plain": [
       "[datetime.datetime(2020, 6, 1, 0, 0),\n",
       " datetime.datetime(2020, 5, 2, 0, 0),\n",
       " datetime.datetime(2020, 7, 1, 0, 0)]"
      ]
     },
     "metadata": {},
     "execution_count": 54
    }
   ],
   "source": [
    "str_date_new_2"
   ]
  },
  {
   "source": [
    "## Kembali Ke DF"
   ],
   "cell_type": "markdown",
   "metadata": {}
  },
  {
   "cell_type": "code",
   "execution_count": 55,
   "metadata": {},
   "outputs": [
    {
     "output_type": "execute_result",
     "data": {
      "text/plain": [
       "                     data            date_str\n",
       "datetime                                     \n",
       "2020-11-01 00:00:00    96 2020-11-01 00:00:00\n",
       "2020-11-01 01:00:00    42 2020-11-01 01:00:00\n",
       "2020-11-01 02:00:00     8 2020-11-01 02:00:00\n",
       "2020-11-01 03:00:00    71 2020-11-01 03:00:00\n",
       "2020-11-01 04:00:00    77 2020-11-01 04:00:00\n",
       "...                   ...                 ...\n",
       "2020-11-04 20:00:00     8 2020-11-04 20:00:00\n",
       "2020-11-04 21:00:00    97 2020-11-04 21:00:00\n",
       "2020-11-04 22:00:00     7 2020-11-04 22:00:00\n",
       "2020-11-04 23:00:00    37 2020-11-04 23:00:00\n",
       "2020-11-05 00:00:00    76 2020-11-05 00:00:00\n",
       "\n",
       "[97 rows x 2 columns]"
      ],
      "text/html": "<div>\n<style scoped>\n    .dataframe tbody tr th:only-of-type {\n        vertical-align: middle;\n    }\n\n    .dataframe tbody tr th {\n        vertical-align: top;\n    }\n\n    .dataframe thead th {\n        text-align: right;\n    }\n</style>\n<table border=\"1\" class=\"dataframe\">\n  <thead>\n    <tr style=\"text-align: right;\">\n      <th></th>\n      <th>data</th>\n      <th>date_str</th>\n    </tr>\n    <tr>\n      <th>datetime</th>\n      <th></th>\n      <th></th>\n    </tr>\n  </thead>\n  <tbody>\n    <tr>\n      <th>2020-11-01 00:00:00</th>\n      <td>96</td>\n      <td>2020-11-01 00:00:00</td>\n    </tr>\n    <tr>\n      <th>2020-11-01 01:00:00</th>\n      <td>42</td>\n      <td>2020-11-01 01:00:00</td>\n    </tr>\n    <tr>\n      <th>2020-11-01 02:00:00</th>\n      <td>8</td>\n      <td>2020-11-01 02:00:00</td>\n    </tr>\n    <tr>\n      <th>2020-11-01 03:00:00</th>\n      <td>71</td>\n      <td>2020-11-01 03:00:00</td>\n    </tr>\n    <tr>\n      <th>2020-11-01 04:00:00</th>\n      <td>77</td>\n      <td>2020-11-01 04:00:00</td>\n    </tr>\n    <tr>\n      <th>...</th>\n      <td>...</td>\n      <td>...</td>\n    </tr>\n    <tr>\n      <th>2020-11-04 20:00:00</th>\n      <td>8</td>\n      <td>2020-11-04 20:00:00</td>\n    </tr>\n    <tr>\n      <th>2020-11-04 21:00:00</th>\n      <td>97</td>\n      <td>2020-11-04 21:00:00</td>\n    </tr>\n    <tr>\n      <th>2020-11-04 22:00:00</th>\n      <td>7</td>\n      <td>2020-11-04 22:00:00</td>\n    </tr>\n    <tr>\n      <th>2020-11-04 23:00:00</th>\n      <td>37</td>\n      <td>2020-11-04 23:00:00</td>\n    </tr>\n    <tr>\n      <th>2020-11-05 00:00:00</th>\n      <td>76</td>\n      <td>2020-11-05 00:00:00</td>\n    </tr>\n  </tbody>\n</table>\n<p>97 rows × 2 columns</p>\n</div>"
     },
     "metadata": {},
     "execution_count": 55
    }
   ],
   "source": [
    "df[df.index.month==11]"
   ]
  },
  {
   "cell_type": "code",
   "execution_count": 57,
   "metadata": {},
   "outputs": [
    {
     "output_type": "execute_result",
     "data": {
      "text/plain": [
       "                     data            date_str\n",
       "datetime                                     \n",
       "2020-11-01 00:00:00    96 2020-11-01 00:00:00\n",
       "2020-11-01 01:00:00    42 2020-11-01 01:00:00\n",
       "2020-11-01 02:00:00     8 2020-11-01 02:00:00\n",
       "2020-11-01 03:00:00    71 2020-11-01 03:00:00\n",
       "2020-11-01 04:00:00    77 2020-11-01 04:00:00\n",
       "2020-11-01 05:00:00    45 2020-11-01 05:00:00\n",
       "2020-11-01 06:00:00    33 2020-11-01 06:00:00\n",
       "2020-11-01 07:00:00    24 2020-11-01 07:00:00\n",
       "2020-11-01 08:00:00    54 2020-11-01 08:00:00\n",
       "2020-11-01 09:00:00     6 2020-11-01 09:00:00\n",
       "2020-11-01 10:00:00    49 2020-11-01 10:00:00\n",
       "2020-11-01 11:00:00    68 2020-11-01 11:00:00\n",
       "2020-11-01 12:00:00    92 2020-11-01 12:00:00\n",
       "2020-11-01 13:00:00    66 2020-11-01 13:00:00\n",
       "2020-11-01 14:00:00    43 2020-11-01 14:00:00\n",
       "2020-11-01 15:00:00    90 2020-11-01 15:00:00\n",
       "2020-11-01 16:00:00    62 2020-11-01 16:00:00\n",
       "2020-11-01 17:00:00    32 2020-11-01 17:00:00\n",
       "2020-11-01 18:00:00    96 2020-11-01 18:00:00\n",
       "2020-11-01 19:00:00    94 2020-11-01 19:00:00\n",
       "2020-11-01 20:00:00    71 2020-11-01 20:00:00\n",
       "2020-11-01 21:00:00    43 2020-11-01 21:00:00\n",
       "2020-11-01 22:00:00    36 2020-11-01 22:00:00\n",
       "2020-11-01 23:00:00    67 2020-11-01 23:00:00"
      ],
      "text/html": "<div>\n<style scoped>\n    .dataframe tbody tr th:only-of-type {\n        vertical-align: middle;\n    }\n\n    .dataframe tbody tr th {\n        vertical-align: top;\n    }\n\n    .dataframe thead th {\n        text-align: right;\n    }\n</style>\n<table border=\"1\" class=\"dataframe\">\n  <thead>\n    <tr style=\"text-align: right;\">\n      <th></th>\n      <th>data</th>\n      <th>date_str</th>\n    </tr>\n    <tr>\n      <th>datetime</th>\n      <th></th>\n      <th></th>\n    </tr>\n  </thead>\n  <tbody>\n    <tr>\n      <th>2020-11-01 00:00:00</th>\n      <td>96</td>\n      <td>2020-11-01 00:00:00</td>\n    </tr>\n    <tr>\n      <th>2020-11-01 01:00:00</th>\n      <td>42</td>\n      <td>2020-11-01 01:00:00</td>\n    </tr>\n    <tr>\n      <th>2020-11-01 02:00:00</th>\n      <td>8</td>\n      <td>2020-11-01 02:00:00</td>\n    </tr>\n    <tr>\n      <th>2020-11-01 03:00:00</th>\n      <td>71</td>\n      <td>2020-11-01 03:00:00</td>\n    </tr>\n    <tr>\n      <th>2020-11-01 04:00:00</th>\n      <td>77</td>\n      <td>2020-11-01 04:00:00</td>\n    </tr>\n    <tr>\n      <th>2020-11-01 05:00:00</th>\n      <td>45</td>\n      <td>2020-11-01 05:00:00</td>\n    </tr>\n    <tr>\n      <th>2020-11-01 06:00:00</th>\n      <td>33</td>\n      <td>2020-11-01 06:00:00</td>\n    </tr>\n    <tr>\n      <th>2020-11-01 07:00:00</th>\n      <td>24</td>\n      <td>2020-11-01 07:00:00</td>\n    </tr>\n    <tr>\n      <th>2020-11-01 08:00:00</th>\n      <td>54</td>\n      <td>2020-11-01 08:00:00</td>\n    </tr>\n    <tr>\n      <th>2020-11-01 09:00:00</th>\n      <td>6</td>\n      <td>2020-11-01 09:00:00</td>\n    </tr>\n    <tr>\n      <th>2020-11-01 10:00:00</th>\n      <td>49</td>\n      <td>2020-11-01 10:00:00</td>\n    </tr>\n    <tr>\n      <th>2020-11-01 11:00:00</th>\n      <td>68</td>\n      <td>2020-11-01 11:00:00</td>\n    </tr>\n    <tr>\n      <th>2020-11-01 12:00:00</th>\n      <td>92</td>\n      <td>2020-11-01 12:00:00</td>\n    </tr>\n    <tr>\n      <th>2020-11-01 13:00:00</th>\n      <td>66</td>\n      <td>2020-11-01 13:00:00</td>\n    </tr>\n    <tr>\n      <th>2020-11-01 14:00:00</th>\n      <td>43</td>\n      <td>2020-11-01 14:00:00</td>\n    </tr>\n    <tr>\n      <th>2020-11-01 15:00:00</th>\n      <td>90</td>\n      <td>2020-11-01 15:00:00</td>\n    </tr>\n    <tr>\n      <th>2020-11-01 16:00:00</th>\n      <td>62</td>\n      <td>2020-11-01 16:00:00</td>\n    </tr>\n    <tr>\n      <th>2020-11-01 17:00:00</th>\n      <td>32</td>\n      <td>2020-11-01 17:00:00</td>\n    </tr>\n    <tr>\n      <th>2020-11-01 18:00:00</th>\n      <td>96</td>\n      <td>2020-11-01 18:00:00</td>\n    </tr>\n    <tr>\n      <th>2020-11-01 19:00:00</th>\n      <td>94</td>\n      <td>2020-11-01 19:00:00</td>\n    </tr>\n    <tr>\n      <th>2020-11-01 20:00:00</th>\n      <td>71</td>\n      <td>2020-11-01 20:00:00</td>\n    </tr>\n    <tr>\n      <th>2020-11-01 21:00:00</th>\n      <td>43</td>\n      <td>2020-11-01 21:00:00</td>\n    </tr>\n    <tr>\n      <th>2020-11-01 22:00:00</th>\n      <td>36</td>\n      <td>2020-11-01 22:00:00</td>\n    </tr>\n    <tr>\n      <th>2020-11-01 23:00:00</th>\n      <td>67</td>\n      <td>2020-11-01 23:00:00</td>\n    </tr>\n  </tbody>\n</table>\n</div>"
     },
     "metadata": {},
     "execution_count": 57
    }
   ],
   "source": [
    "df[df.index.day==1]"
   ]
  },
  {
   "cell_type": "code",
   "execution_count": null,
   "metadata": {},
   "outputs": [],
   "source": []
  }
 ]
}