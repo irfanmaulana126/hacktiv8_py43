{
 "metadata": {
  "language_info": {
   "codemirror_mode": {
    "name": "ipython",
    "version": 3
   },
   "file_extension": ".py",
   "mimetype": "text/x-python",
   "name": "python",
   "nbconvert_exporter": "python",
   "pygments_lexer": "ipython3",
   "version": "3.8.3-final"
  },
  "orig_nbformat": 2,
  "kernelspec": {
   "name": "python3",
   "display_name": "Python 3"
  }
 },
 "nbformat": 4,
 "nbformat_minor": 2,
 "cells": [
  {
   "cell_type": "code",
   "execution_count": 1,
   "metadata": {},
   "outputs": [],
   "source": [
    "import numpy as np\n",
    "import pandas as pd\n",
    "\n",
    "path = \"data/pro_data.csv\""
   ]
  },
  {
   "cell_type": "code",
   "execution_count": 2,
   "metadata": {},
   "outputs": [],
   "source": [
    "df = pd.read_csv(path)"
   ]
  },
  {
   "cell_type": "code",
   "execution_count": 3,
   "metadata": {},
   "outputs": [
    {
     "output_type": "execute_result",
     "data": {
      "text/plain": [
       "           PID  ST_NUM    ST_NAME OWN_OCCUPIED NUM_BEDROOMS NUM_BATH SQ_FT\n",
       "0  100001000.0   104.0     PUTNAM            Y            3        1  1000\n",
       "1  100002000.0   197.0  LEXINGTON            N            3      1.5    --\n",
       "2  100003000.0     NaN  LEXINGTON            N          NaN        1   850\n",
       "3  100004000.0   201.0   BERKELEY           12            1      NaN   700\n",
       "4          NaN   203.0   BERKELEY            Y            3        2  1600"
      ],
      "text/html": "<div>\n<style scoped>\n    .dataframe tbody tr th:only-of-type {\n        vertical-align: middle;\n    }\n\n    .dataframe tbody tr th {\n        vertical-align: top;\n    }\n\n    .dataframe thead th {\n        text-align: right;\n    }\n</style>\n<table border=\"1\" class=\"dataframe\">\n  <thead>\n    <tr style=\"text-align: right;\">\n      <th></th>\n      <th>PID</th>\n      <th>ST_NUM</th>\n      <th>ST_NAME</th>\n      <th>OWN_OCCUPIED</th>\n      <th>NUM_BEDROOMS</th>\n      <th>NUM_BATH</th>\n      <th>SQ_FT</th>\n    </tr>\n  </thead>\n  <tbody>\n    <tr>\n      <th>0</th>\n      <td>100001000.0</td>\n      <td>104.0</td>\n      <td>PUTNAM</td>\n      <td>Y</td>\n      <td>3</td>\n      <td>1</td>\n      <td>1000</td>\n    </tr>\n    <tr>\n      <th>1</th>\n      <td>100002000.0</td>\n      <td>197.0</td>\n      <td>LEXINGTON</td>\n      <td>N</td>\n      <td>3</td>\n      <td>1.5</td>\n      <td>--</td>\n    </tr>\n    <tr>\n      <th>2</th>\n      <td>100003000.0</td>\n      <td>NaN</td>\n      <td>LEXINGTON</td>\n      <td>N</td>\n      <td>NaN</td>\n      <td>1</td>\n      <td>850</td>\n    </tr>\n    <tr>\n      <th>3</th>\n      <td>100004000.0</td>\n      <td>201.0</td>\n      <td>BERKELEY</td>\n      <td>12</td>\n      <td>1</td>\n      <td>NaN</td>\n      <td>700</td>\n    </tr>\n    <tr>\n      <th>4</th>\n      <td>NaN</td>\n      <td>203.0</td>\n      <td>BERKELEY</td>\n      <td>Y</td>\n      <td>3</td>\n      <td>2</td>\n      <td>1600</td>\n    </tr>\n  </tbody>\n</table>\n</div>"
     },
     "metadata": {},
     "execution_count": 3
    }
   ],
   "source": [
    "df.head()"
   ]
  },
  {
   "cell_type": "code",
   "execution_count": 4,
   "metadata": {},
   "outputs": [
    {
     "output_type": "execute_result",
     "data": {
      "text/plain": [
       "           PID  ST_NUM     ST_NAME OWN_OCCUPIED NUM_BEDROOMS NUM_BATH SQ_FT\n",
       "4          NaN   203.0    BERKELEY            Y            3        2  1600\n",
       "5  100006000.0   207.0    BERKELEY            Y          NaN        1   800\n",
       "6  100007000.0     NaN  WASHINGTON          NaN            2   HURLEY   950\n",
       "7  100008000.0   213.0     TREMONT            Y           --        1   NaN\n",
       "8  100009000.0   215.0     TREMONT            Y           na        2  1800"
      ],
      "text/html": "<div>\n<style scoped>\n    .dataframe tbody tr th:only-of-type {\n        vertical-align: middle;\n    }\n\n    .dataframe tbody tr th {\n        vertical-align: top;\n    }\n\n    .dataframe thead th {\n        text-align: right;\n    }\n</style>\n<table border=\"1\" class=\"dataframe\">\n  <thead>\n    <tr style=\"text-align: right;\">\n      <th></th>\n      <th>PID</th>\n      <th>ST_NUM</th>\n      <th>ST_NAME</th>\n      <th>OWN_OCCUPIED</th>\n      <th>NUM_BEDROOMS</th>\n      <th>NUM_BATH</th>\n      <th>SQ_FT</th>\n    </tr>\n  </thead>\n  <tbody>\n    <tr>\n      <th>4</th>\n      <td>NaN</td>\n      <td>203.0</td>\n      <td>BERKELEY</td>\n      <td>Y</td>\n      <td>3</td>\n      <td>2</td>\n      <td>1600</td>\n    </tr>\n    <tr>\n      <th>5</th>\n      <td>100006000.0</td>\n      <td>207.0</td>\n      <td>BERKELEY</td>\n      <td>Y</td>\n      <td>NaN</td>\n      <td>1</td>\n      <td>800</td>\n    </tr>\n    <tr>\n      <th>6</th>\n      <td>100007000.0</td>\n      <td>NaN</td>\n      <td>WASHINGTON</td>\n      <td>NaN</td>\n      <td>2</td>\n      <td>HURLEY</td>\n      <td>950</td>\n    </tr>\n    <tr>\n      <th>7</th>\n      <td>100008000.0</td>\n      <td>213.0</td>\n      <td>TREMONT</td>\n      <td>Y</td>\n      <td>--</td>\n      <td>1</td>\n      <td>NaN</td>\n    </tr>\n    <tr>\n      <th>8</th>\n      <td>100009000.0</td>\n      <td>215.0</td>\n      <td>TREMONT</td>\n      <td>Y</td>\n      <td>na</td>\n      <td>2</td>\n      <td>1800</td>\n    </tr>\n  </tbody>\n</table>\n</div>"
     },
     "metadata": {},
     "execution_count": 4
    }
   ],
   "source": [
    "df.tail()"
   ]
  },
  {
   "cell_type": "code",
   "execution_count": 5,
   "metadata": {},
   "outputs": [
    {
     "output_type": "stream",
     "name": "stdout",
     "text": [
      "<class 'pandas.core.frame.DataFrame'>\nRangeIndex: 9 entries, 0 to 8\nData columns (total 7 columns):\n #   Column        Non-Null Count  Dtype  \n---  ------        --------------  -----  \n 0   PID           8 non-null      float64\n 1   ST_NUM        7 non-null      float64\n 2   ST_NAME       9 non-null      object \n 3   OWN_OCCUPIED  8 non-null      object \n 4   NUM_BEDROOMS  7 non-null      object \n 5   NUM_BATH      8 non-null      object \n 6   SQ_FT         8 non-null      object \ndtypes: float64(2), object(5)\nmemory usage: 632.0+ bytes\n"
     ]
    }
   ],
   "source": [
    "df.info()"
   ]
  },
  {
   "cell_type": "code",
   "execution_count": 14,
   "metadata": {},
   "outputs": [
    {
     "output_type": "execute_result",
     "data": {
      "text/plain": [
       "           PID  ST_NUM     ST_NAME OWN_OCCUPIED NUM_BEDROOMS NUM_BATH SQ_FT\n",
       "2  100003000.0     NaN   LEXINGTON            N          NaN        1   850\n",
       "6  100007000.0     NaN  WASHINGTON          NaN            2   HURLEY   950"
      ],
      "text/html": "<div>\n<style scoped>\n    .dataframe tbody tr th:only-of-type {\n        vertical-align: middle;\n    }\n\n    .dataframe tbody tr th {\n        vertical-align: top;\n    }\n\n    .dataframe thead th {\n        text-align: right;\n    }\n</style>\n<table border=\"1\" class=\"dataframe\">\n  <thead>\n    <tr style=\"text-align: right;\">\n      <th></th>\n      <th>PID</th>\n      <th>ST_NUM</th>\n      <th>ST_NAME</th>\n      <th>OWN_OCCUPIED</th>\n      <th>NUM_BEDROOMS</th>\n      <th>NUM_BATH</th>\n      <th>SQ_FT</th>\n    </tr>\n  </thead>\n  <tbody>\n    <tr>\n      <th>2</th>\n      <td>100003000.0</td>\n      <td>NaN</td>\n      <td>LEXINGTON</td>\n      <td>N</td>\n      <td>NaN</td>\n      <td>1</td>\n      <td>850</td>\n    </tr>\n    <tr>\n      <th>6</th>\n      <td>100007000.0</td>\n      <td>NaN</td>\n      <td>WASHINGTON</td>\n      <td>NaN</td>\n      <td>2</td>\n      <td>HURLEY</td>\n      <td>950</td>\n    </tr>\n  </tbody>\n</table>\n</div>"
     },
     "metadata": {},
     "execution_count": 14
    }
   ],
   "source": [
    "# standart Mising falue\n",
    "df[df.ST_NUM.isna()==True]"
   ]
  },
  {
   "cell_type": "code",
   "execution_count": 13,
   "metadata": {},
   "outputs": [
    {
     "output_type": "execute_result",
     "data": {
      "text/plain": [
       "           PID  ST_NUM     ST_NAME OWN_OCCUPIED NUM_BEDROOMS NUM_BATH SQ_FT\n",
       "0  100001000.0   104.0      PUTNAM            Y            3        1  1000\n",
       "1  100002000.0   197.0   LEXINGTON            N            3      1.5    --\n",
       "3  100004000.0   201.0    BERKELEY           12            1      NaN   700\n",
       "4          NaN   203.0    BERKELEY            Y            3        2  1600\n",
       "6  100007000.0     NaN  WASHINGTON          NaN            2   HURLEY   950\n",
       "7  100008000.0   213.0     TREMONT            Y           --        1   NaN\n",
       "8  100009000.0   215.0     TREMONT            Y           na        2  1800"
      ],
      "text/html": "<div>\n<style scoped>\n    .dataframe tbody tr th:only-of-type {\n        vertical-align: middle;\n    }\n\n    .dataframe tbody tr th {\n        vertical-align: top;\n    }\n\n    .dataframe thead th {\n        text-align: right;\n    }\n</style>\n<table border=\"1\" class=\"dataframe\">\n  <thead>\n    <tr style=\"text-align: right;\">\n      <th></th>\n      <th>PID</th>\n      <th>ST_NUM</th>\n      <th>ST_NAME</th>\n      <th>OWN_OCCUPIED</th>\n      <th>NUM_BEDROOMS</th>\n      <th>NUM_BATH</th>\n      <th>SQ_FT</th>\n    </tr>\n  </thead>\n  <tbody>\n    <tr>\n      <th>0</th>\n      <td>100001000.0</td>\n      <td>104.0</td>\n      <td>PUTNAM</td>\n      <td>Y</td>\n      <td>3</td>\n      <td>1</td>\n      <td>1000</td>\n    </tr>\n    <tr>\n      <th>1</th>\n      <td>100002000.0</td>\n      <td>197.0</td>\n      <td>LEXINGTON</td>\n      <td>N</td>\n      <td>3</td>\n      <td>1.5</td>\n      <td>--</td>\n    </tr>\n    <tr>\n      <th>3</th>\n      <td>100004000.0</td>\n      <td>201.0</td>\n      <td>BERKELEY</td>\n      <td>12</td>\n      <td>1</td>\n      <td>NaN</td>\n      <td>700</td>\n    </tr>\n    <tr>\n      <th>4</th>\n      <td>NaN</td>\n      <td>203.0</td>\n      <td>BERKELEY</td>\n      <td>Y</td>\n      <td>3</td>\n      <td>2</td>\n      <td>1600</td>\n    </tr>\n    <tr>\n      <th>6</th>\n      <td>100007000.0</td>\n      <td>NaN</td>\n      <td>WASHINGTON</td>\n      <td>NaN</td>\n      <td>2</td>\n      <td>HURLEY</td>\n      <td>950</td>\n    </tr>\n    <tr>\n      <th>7</th>\n      <td>100008000.0</td>\n      <td>213.0</td>\n      <td>TREMONT</td>\n      <td>Y</td>\n      <td>--</td>\n      <td>1</td>\n      <td>NaN</td>\n    </tr>\n    <tr>\n      <th>8</th>\n      <td>100009000.0</td>\n      <td>215.0</td>\n      <td>TREMONT</td>\n      <td>Y</td>\n      <td>na</td>\n      <td>2</td>\n      <td>1800</td>\n    </tr>\n  </tbody>\n</table>\n</div>"
     },
     "metadata": {},
     "execution_count": 13
    }
   ],
   "source": [
    "#  standart Non Mising Value\n",
    "df[~(df.NUM_BEDROOMS.isna())]"
   ]
  },
  {
   "cell_type": "code",
   "execution_count": 57,
   "metadata": {},
   "outputs": [],
   "source": [
    "mising_value = ['na','--','n/a']\n",
    "df_new = pd.read_csv(path,na_values=mising_value)"
   ]
  },
  {
   "cell_type": "code",
   "execution_count": 49,
   "metadata": {},
   "outputs": [
    {
     "output_type": "execute_result",
     "data": {
      "text/plain": [
       "           PID  ST_NUM    ST_NAME OWN_OCCUPIED  NUM_BEDROOMS NUM_BATH   SQ_FT\n",
       "0  100001000.0   104.0     PUTNAM            Y           3.0        1  1000.0\n",
       "1  100002000.0   197.0  LEXINGTON            N           3.0      1.5     NaN\n",
       "2  100003000.0     NaN  LEXINGTON            N           NaN        1   850.0\n",
       "3  100004000.0   201.0   BERKELEY           12           1.0      NaN   700.0\n",
       "4          NaN   203.0   BERKELEY            Y           3.0        2  1600.0"
      ],
      "text/html": "<div>\n<style scoped>\n    .dataframe tbody tr th:only-of-type {\n        vertical-align: middle;\n    }\n\n    .dataframe tbody tr th {\n        vertical-align: top;\n    }\n\n    .dataframe thead th {\n        text-align: right;\n    }\n</style>\n<table border=\"1\" class=\"dataframe\">\n  <thead>\n    <tr style=\"text-align: right;\">\n      <th></th>\n      <th>PID</th>\n      <th>ST_NUM</th>\n      <th>ST_NAME</th>\n      <th>OWN_OCCUPIED</th>\n      <th>NUM_BEDROOMS</th>\n      <th>NUM_BATH</th>\n      <th>SQ_FT</th>\n    </tr>\n  </thead>\n  <tbody>\n    <tr>\n      <th>0</th>\n      <td>100001000.0</td>\n      <td>104.0</td>\n      <td>PUTNAM</td>\n      <td>Y</td>\n      <td>3.0</td>\n      <td>1</td>\n      <td>1000.0</td>\n    </tr>\n    <tr>\n      <th>1</th>\n      <td>100002000.0</td>\n      <td>197.0</td>\n      <td>LEXINGTON</td>\n      <td>N</td>\n      <td>3.0</td>\n      <td>1.5</td>\n      <td>NaN</td>\n    </tr>\n    <tr>\n      <th>2</th>\n      <td>100003000.0</td>\n      <td>NaN</td>\n      <td>LEXINGTON</td>\n      <td>N</td>\n      <td>NaN</td>\n      <td>1</td>\n      <td>850.0</td>\n    </tr>\n    <tr>\n      <th>3</th>\n      <td>100004000.0</td>\n      <td>201.0</td>\n      <td>BERKELEY</td>\n      <td>12</td>\n      <td>1.0</td>\n      <td>NaN</td>\n      <td>700.0</td>\n    </tr>\n    <tr>\n      <th>4</th>\n      <td>NaN</td>\n      <td>203.0</td>\n      <td>BERKELEY</td>\n      <td>Y</td>\n      <td>3.0</td>\n      <td>2</td>\n      <td>1600.0</td>\n    </tr>\n  </tbody>\n</table>\n</div>"
     },
     "metadata": {},
     "execution_count": 49
    }
   ],
   "source": [
    "df_new.head()"
   ]
  },
  {
   "cell_type": "code",
   "execution_count": 25,
   "metadata": {},
   "outputs": [
    {
     "output_type": "execute_result",
     "data": {
      "text/plain": [
       "     PID  ST_NUM  ST_NAME  OWN_OCCUPIED  NUM_BEDROOMS  NUM_BATH  SQ_FT\n",
       "0   True    True     True          True          True      True   True\n",
       "1   True    True     True          True          True      True  False\n",
       "2   True   False     True          True         False      True   True\n",
       "3   True    True     True          True          True     False   True\n",
       "4  False    True     True          True          True      True   True\n",
       "5   True    True     True          True         False      True   True\n",
       "6   True   False     True         False          True      True   True\n",
       "7   True    True     True          True         False      True  False\n",
       "8   True    True     True          True         False      True   True"
      ],
      "text/html": "<div>\n<style scoped>\n    .dataframe tbody tr th:only-of-type {\n        vertical-align: middle;\n    }\n\n    .dataframe tbody tr th {\n        vertical-align: top;\n    }\n\n    .dataframe thead th {\n        text-align: right;\n    }\n</style>\n<table border=\"1\" class=\"dataframe\">\n  <thead>\n    <tr style=\"text-align: right;\">\n      <th></th>\n      <th>PID</th>\n      <th>ST_NUM</th>\n      <th>ST_NAME</th>\n      <th>OWN_OCCUPIED</th>\n      <th>NUM_BEDROOMS</th>\n      <th>NUM_BATH</th>\n      <th>SQ_FT</th>\n    </tr>\n  </thead>\n  <tbody>\n    <tr>\n      <th>0</th>\n      <td>True</td>\n      <td>True</td>\n      <td>True</td>\n      <td>True</td>\n      <td>True</td>\n      <td>True</td>\n      <td>True</td>\n    </tr>\n    <tr>\n      <th>1</th>\n      <td>True</td>\n      <td>True</td>\n      <td>True</td>\n      <td>True</td>\n      <td>True</td>\n      <td>True</td>\n      <td>False</td>\n    </tr>\n    <tr>\n      <th>2</th>\n      <td>True</td>\n      <td>False</td>\n      <td>True</td>\n      <td>True</td>\n      <td>False</td>\n      <td>True</td>\n      <td>True</td>\n    </tr>\n    <tr>\n      <th>3</th>\n      <td>True</td>\n      <td>True</td>\n      <td>True</td>\n      <td>True</td>\n      <td>True</td>\n      <td>False</td>\n      <td>True</td>\n    </tr>\n    <tr>\n      <th>4</th>\n      <td>False</td>\n      <td>True</td>\n      <td>True</td>\n      <td>True</td>\n      <td>True</td>\n      <td>True</td>\n      <td>True</td>\n    </tr>\n    <tr>\n      <th>5</th>\n      <td>True</td>\n      <td>True</td>\n      <td>True</td>\n      <td>True</td>\n      <td>False</td>\n      <td>True</td>\n      <td>True</td>\n    </tr>\n    <tr>\n      <th>6</th>\n      <td>True</td>\n      <td>False</td>\n      <td>True</td>\n      <td>False</td>\n      <td>True</td>\n      <td>True</td>\n      <td>True</td>\n    </tr>\n    <tr>\n      <th>7</th>\n      <td>True</td>\n      <td>True</td>\n      <td>True</td>\n      <td>True</td>\n      <td>False</td>\n      <td>True</td>\n      <td>False</td>\n    </tr>\n    <tr>\n      <th>8</th>\n      <td>True</td>\n      <td>True</td>\n      <td>True</td>\n      <td>True</td>\n      <td>False</td>\n      <td>True</td>\n      <td>True</td>\n    </tr>\n  </tbody>\n</table>\n</div>"
     },
     "metadata": {},
     "execution_count": 25
    }
   ],
   "source": [
    "~(df_new.isnull())==True"
   ]
  },
  {
   "cell_type": "code",
   "execution_count": 27,
   "metadata": {},
   "outputs": [
    {
     "output_type": "execute_result",
     "data": {
      "text/plain": [
       "0    False\n",
       "1    False\n",
       "2    False\n",
       "3    False\n",
       "4    False\n",
       "5    False\n",
       "6     True\n",
       "7    False\n",
       "8    False\n",
       "Name: OWN_OCCUPIED, dtype: bool"
      ]
     },
     "metadata": {},
     "execution_count": 27
    }
   ],
   "source": [
    "df_new.OWN_OCCUPIED.isnull()"
   ]
  },
  {
   "cell_type": "code",
   "execution_count": 58,
   "metadata": {},
   "outputs": [],
   "source": [
    "i= 0\n",
    "for baris in df_new['OWN_OCCUPIED']:\n",
    "    try:\n",
    "        int(baris)\n",
    "        df_new.loc[i,'OWN_OCCUPIED']=np.nan\n",
    "    except ValueError:\n",
    "        pass\n",
    "    i = i+1"
   ]
  },
  {
   "cell_type": "code",
   "execution_count": 30,
   "metadata": {},
   "outputs": [
    {
     "output_type": "execute_result",
     "data": {
      "text/plain": [
       "0      Y\n",
       "1      N\n",
       "2      N\n",
       "3    NaN\n",
       "4      Y\n",
       "5      Y\n",
       "6    NaN\n",
       "7      Y\n",
       "8      Y\n",
       "Name: OWN_OCCUPIED, dtype: object"
      ]
     },
     "metadata": {},
     "execution_count": 30
    }
   ],
   "source": [
    "df_new.OWN_OCCUPIED"
   ]
  },
  {
   "cell_type": "code",
   "execution_count": 59,
   "metadata": {},
   "outputs": [],
   "source": [
    "i = 0\n",
    "for baris in df_new['NUM_BATH']:\n",
    "    try:\n",
    "        float(baris)\n",
    "    except ValueError:\n",
    "        df_new.loc[i,'NUM_BATH'] = np.nan\n",
    "    i = i+1"
   ]
  },
  {
   "cell_type": "code",
   "execution_count": 52,
   "metadata": {},
   "outputs": [
    {
     "output_type": "execute_result",
     "data": {
      "text/plain": [
       "           PID  ST_NUM     ST_NAME OWN_OCCUPIED  NUM_BEDROOMS NUM_BATH   SQ_FT\n",
       "0  100001000.0   104.0      PUTNAM            Y           3.0        1  1000.0\n",
       "1  100002000.0   197.0   LEXINGTON            N           3.0      1.5     NaN\n",
       "2  100003000.0     NaN   LEXINGTON            N           NaN        1   850.0\n",
       "3  100004000.0   201.0    BERKELEY          NaN           1.0      NaN   700.0\n",
       "4          NaN   203.0    BERKELEY            Y           3.0        2  1600.0\n",
       "5  100006000.0   207.0    BERKELEY            Y           NaN        1   800.0\n",
       "6  100007000.0     NaN  WASHINGTON          NaN           2.0      NaN   950.0\n",
       "7  100008000.0   213.0     TREMONT            Y           NaN        1     NaN\n",
       "8  100009000.0   215.0     TREMONT            Y           NaN        2  1800.0"
      ],
      "text/html": "<div>\n<style scoped>\n    .dataframe tbody tr th:only-of-type {\n        vertical-align: middle;\n    }\n\n    .dataframe tbody tr th {\n        vertical-align: top;\n    }\n\n    .dataframe thead th {\n        text-align: right;\n    }\n</style>\n<table border=\"1\" class=\"dataframe\">\n  <thead>\n    <tr style=\"text-align: right;\">\n      <th></th>\n      <th>PID</th>\n      <th>ST_NUM</th>\n      <th>ST_NAME</th>\n      <th>OWN_OCCUPIED</th>\n      <th>NUM_BEDROOMS</th>\n      <th>NUM_BATH</th>\n      <th>SQ_FT</th>\n    </tr>\n  </thead>\n  <tbody>\n    <tr>\n      <th>0</th>\n      <td>100001000.0</td>\n      <td>104.0</td>\n      <td>PUTNAM</td>\n      <td>Y</td>\n      <td>3.0</td>\n      <td>1</td>\n      <td>1000.0</td>\n    </tr>\n    <tr>\n      <th>1</th>\n      <td>100002000.0</td>\n      <td>197.0</td>\n      <td>LEXINGTON</td>\n      <td>N</td>\n      <td>3.0</td>\n      <td>1.5</td>\n      <td>NaN</td>\n    </tr>\n    <tr>\n      <th>2</th>\n      <td>100003000.0</td>\n      <td>NaN</td>\n      <td>LEXINGTON</td>\n      <td>N</td>\n      <td>NaN</td>\n      <td>1</td>\n      <td>850.0</td>\n    </tr>\n    <tr>\n      <th>3</th>\n      <td>100004000.0</td>\n      <td>201.0</td>\n      <td>BERKELEY</td>\n      <td>NaN</td>\n      <td>1.0</td>\n      <td>NaN</td>\n      <td>700.0</td>\n    </tr>\n    <tr>\n      <th>4</th>\n      <td>NaN</td>\n      <td>203.0</td>\n      <td>BERKELEY</td>\n      <td>Y</td>\n      <td>3.0</td>\n      <td>2</td>\n      <td>1600.0</td>\n    </tr>\n    <tr>\n      <th>5</th>\n      <td>100006000.0</td>\n      <td>207.0</td>\n      <td>BERKELEY</td>\n      <td>Y</td>\n      <td>NaN</td>\n      <td>1</td>\n      <td>800.0</td>\n    </tr>\n    <tr>\n      <th>6</th>\n      <td>100007000.0</td>\n      <td>NaN</td>\n      <td>WASHINGTON</td>\n      <td>NaN</td>\n      <td>2.0</td>\n      <td>NaN</td>\n      <td>950.0</td>\n    </tr>\n    <tr>\n      <th>7</th>\n      <td>100008000.0</td>\n      <td>213.0</td>\n      <td>TREMONT</td>\n      <td>Y</td>\n      <td>NaN</td>\n      <td>1</td>\n      <td>NaN</td>\n    </tr>\n    <tr>\n      <th>8</th>\n      <td>100009000.0</td>\n      <td>215.0</td>\n      <td>TREMONT</td>\n      <td>Y</td>\n      <td>NaN</td>\n      <td>2</td>\n      <td>1800.0</td>\n    </tr>\n  </tbody>\n</table>\n</div>"
     },
     "metadata": {},
     "execution_count": 52
    }
   ],
   "source": [
    "df_new.head(10)"
   ]
  },
  {
   "cell_type": "code",
   "execution_count": 53,
   "metadata": {},
   "outputs": [
    {
     "output_type": "execute_result",
     "data": {
      "text/plain": [
       "PID             1\n",
       "ST_NUM          2\n",
       "ST_NAME         0\n",
       "OWN_OCCUPIED    2\n",
       "NUM_BEDROOMS    4\n",
       "NUM_BATH        2\n",
       "SQ_FT           2\n",
       "dtype: int64"
      ]
     },
     "metadata": {},
     "execution_count": 53
    }
   ],
   "source": [
    "df_new.isnull().sum()"
   ]
  },
  {
   "cell_type": "code",
   "execution_count": 54,
   "metadata": {},
   "outputs": [
    {
     "output_type": "execute_result",
     "data": {
      "text/plain": [
       "191.42857142857142"
      ]
     },
     "metadata": {},
     "execution_count": 54
    }
   ],
   "source": [
    "val= df_new['ST_NUM'].mean()\n",
    "val"
   ]
  },
  {
   "cell_type": "code",
   "execution_count": 60,
   "metadata": {},
   "outputs": [
    {
     "output_type": "execute_result",
     "data": {
      "text/plain": [
       "           PID      ST_NUM     ST_NAME OWN_OCCUPIED  NUM_BEDROOMS NUM_BATH  \\\n",
       "0  100001000.0  104.000000      PUTNAM            Y           3.0        1   \n",
       "1  100002000.0  197.000000   LEXINGTON            N           3.0      1.5   \n",
       "2  100003000.0  191.428571   LEXINGTON            N           NaN        1   \n",
       "3  100004000.0  201.000000    BERKELEY          NaN           1.0      NaN   \n",
       "4          NaN  203.000000    BERKELEY            Y           3.0        2   \n",
       "5  100006000.0  207.000000    BERKELEY            Y           NaN        1   \n",
       "6  100007000.0  191.428571  WASHINGTON          NaN           2.0      NaN   \n",
       "7  100008000.0  213.000000     TREMONT            Y           NaN        1   \n",
       "8  100009000.0  215.000000     TREMONT            Y           NaN        2   \n",
       "\n",
       "    SQ_FT  \n",
       "0  1000.0  \n",
       "1     NaN  \n",
       "2   850.0  \n",
       "3   700.0  \n",
       "4  1600.0  \n",
       "5   800.0  \n",
       "6   950.0  \n",
       "7     NaN  \n",
       "8  1800.0  "
      ],
      "text/html": "<div>\n<style scoped>\n    .dataframe tbody tr th:only-of-type {\n        vertical-align: middle;\n    }\n\n    .dataframe tbody tr th {\n        vertical-align: top;\n    }\n\n    .dataframe thead th {\n        text-align: right;\n    }\n</style>\n<table border=\"1\" class=\"dataframe\">\n  <thead>\n    <tr style=\"text-align: right;\">\n      <th></th>\n      <th>PID</th>\n      <th>ST_NUM</th>\n      <th>ST_NAME</th>\n      <th>OWN_OCCUPIED</th>\n      <th>NUM_BEDROOMS</th>\n      <th>NUM_BATH</th>\n      <th>SQ_FT</th>\n    </tr>\n  </thead>\n  <tbody>\n    <tr>\n      <th>0</th>\n      <td>100001000.0</td>\n      <td>104.000000</td>\n      <td>PUTNAM</td>\n      <td>Y</td>\n      <td>3.0</td>\n      <td>1</td>\n      <td>1000.0</td>\n    </tr>\n    <tr>\n      <th>1</th>\n      <td>100002000.0</td>\n      <td>197.000000</td>\n      <td>LEXINGTON</td>\n      <td>N</td>\n      <td>3.0</td>\n      <td>1.5</td>\n      <td>NaN</td>\n    </tr>\n    <tr>\n      <th>2</th>\n      <td>100003000.0</td>\n      <td>191.428571</td>\n      <td>LEXINGTON</td>\n      <td>N</td>\n      <td>NaN</td>\n      <td>1</td>\n      <td>850.0</td>\n    </tr>\n    <tr>\n      <th>3</th>\n      <td>100004000.0</td>\n      <td>201.000000</td>\n      <td>BERKELEY</td>\n      <td>NaN</td>\n      <td>1.0</td>\n      <td>NaN</td>\n      <td>700.0</td>\n    </tr>\n    <tr>\n      <th>4</th>\n      <td>NaN</td>\n      <td>203.000000</td>\n      <td>BERKELEY</td>\n      <td>Y</td>\n      <td>3.0</td>\n      <td>2</td>\n      <td>1600.0</td>\n    </tr>\n    <tr>\n      <th>5</th>\n      <td>100006000.0</td>\n      <td>207.000000</td>\n      <td>BERKELEY</td>\n      <td>Y</td>\n      <td>NaN</td>\n      <td>1</td>\n      <td>800.0</td>\n    </tr>\n    <tr>\n      <th>6</th>\n      <td>100007000.0</td>\n      <td>191.428571</td>\n      <td>WASHINGTON</td>\n      <td>NaN</td>\n      <td>2.0</td>\n      <td>NaN</td>\n      <td>950.0</td>\n    </tr>\n    <tr>\n      <th>7</th>\n      <td>100008000.0</td>\n      <td>213.000000</td>\n      <td>TREMONT</td>\n      <td>Y</td>\n      <td>NaN</td>\n      <td>1</td>\n      <td>NaN</td>\n    </tr>\n    <tr>\n      <th>8</th>\n      <td>100009000.0</td>\n      <td>215.000000</td>\n      <td>TREMONT</td>\n      <td>Y</td>\n      <td>NaN</td>\n      <td>2</td>\n      <td>1800.0</td>\n    </tr>\n  </tbody>\n</table>\n</div>"
     },
     "metadata": {},
     "execution_count": 60
    }
   ],
   "source": [
    "df_new['ST_NUM'].fillna(val,inplace=True)\n",
    "df_new"
   ]
  },
  {
   "cell_type": "code",
   "execution_count": 61,
   "metadata": {},
   "outputs": [],
   "source": [
    "df_new.loc[4,'PID']=100005000.0"
   ]
  },
  {
   "cell_type": "code",
   "execution_count": 62,
   "metadata": {},
   "outputs": [
    {
     "output_type": "execute_result",
     "data": {
      "text/plain": [
       "           PID      ST_NUM     ST_NAME OWN_OCCUPIED  NUM_BEDROOMS NUM_BATH  \\\n",
       "0  100001000.0  104.000000      PUTNAM            Y           3.0        1   \n",
       "1  100002000.0  197.000000   LEXINGTON            N           3.0      1.5   \n",
       "2  100003000.0  191.428571   LEXINGTON            N           NaN        1   \n",
       "3  100004000.0  201.000000    BERKELEY          NaN           1.0      NaN   \n",
       "4  100005000.0  203.000000    BERKELEY            Y           3.0        2   \n",
       "5  100006000.0  207.000000    BERKELEY            Y           NaN        1   \n",
       "6  100007000.0  191.428571  WASHINGTON          NaN           2.0      NaN   \n",
       "7  100008000.0  213.000000     TREMONT            Y           NaN        1   \n",
       "8  100009000.0  215.000000     TREMONT            Y           NaN        2   \n",
       "\n",
       "    SQ_FT  \n",
       "0  1000.0  \n",
       "1     NaN  \n",
       "2   850.0  \n",
       "3   700.0  \n",
       "4  1600.0  \n",
       "5   800.0  \n",
       "6   950.0  \n",
       "7     NaN  \n",
       "8  1800.0  "
      ],
      "text/html": "<div>\n<style scoped>\n    .dataframe tbody tr th:only-of-type {\n        vertical-align: middle;\n    }\n\n    .dataframe tbody tr th {\n        vertical-align: top;\n    }\n\n    .dataframe thead th {\n        text-align: right;\n    }\n</style>\n<table border=\"1\" class=\"dataframe\">\n  <thead>\n    <tr style=\"text-align: right;\">\n      <th></th>\n      <th>PID</th>\n      <th>ST_NUM</th>\n      <th>ST_NAME</th>\n      <th>OWN_OCCUPIED</th>\n      <th>NUM_BEDROOMS</th>\n      <th>NUM_BATH</th>\n      <th>SQ_FT</th>\n    </tr>\n  </thead>\n  <tbody>\n    <tr>\n      <th>0</th>\n      <td>100001000.0</td>\n      <td>104.000000</td>\n      <td>PUTNAM</td>\n      <td>Y</td>\n      <td>3.0</td>\n      <td>1</td>\n      <td>1000.0</td>\n    </tr>\n    <tr>\n      <th>1</th>\n      <td>100002000.0</td>\n      <td>197.000000</td>\n      <td>LEXINGTON</td>\n      <td>N</td>\n      <td>3.0</td>\n      <td>1.5</td>\n      <td>NaN</td>\n    </tr>\n    <tr>\n      <th>2</th>\n      <td>100003000.0</td>\n      <td>191.428571</td>\n      <td>LEXINGTON</td>\n      <td>N</td>\n      <td>NaN</td>\n      <td>1</td>\n      <td>850.0</td>\n    </tr>\n    <tr>\n      <th>3</th>\n      <td>100004000.0</td>\n      <td>201.000000</td>\n      <td>BERKELEY</td>\n      <td>NaN</td>\n      <td>1.0</td>\n      <td>NaN</td>\n      <td>700.0</td>\n    </tr>\n    <tr>\n      <th>4</th>\n      <td>100005000.0</td>\n      <td>203.000000</td>\n      <td>BERKELEY</td>\n      <td>Y</td>\n      <td>3.0</td>\n      <td>2</td>\n      <td>1600.0</td>\n    </tr>\n    <tr>\n      <th>5</th>\n      <td>100006000.0</td>\n      <td>207.000000</td>\n      <td>BERKELEY</td>\n      <td>Y</td>\n      <td>NaN</td>\n      <td>1</td>\n      <td>800.0</td>\n    </tr>\n    <tr>\n      <th>6</th>\n      <td>100007000.0</td>\n      <td>191.428571</td>\n      <td>WASHINGTON</td>\n      <td>NaN</td>\n      <td>2.0</td>\n      <td>NaN</td>\n      <td>950.0</td>\n    </tr>\n    <tr>\n      <th>7</th>\n      <td>100008000.0</td>\n      <td>213.000000</td>\n      <td>TREMONT</td>\n      <td>Y</td>\n      <td>NaN</td>\n      <td>1</td>\n      <td>NaN</td>\n    </tr>\n    <tr>\n      <th>8</th>\n      <td>100009000.0</td>\n      <td>215.000000</td>\n      <td>TREMONT</td>\n      <td>Y</td>\n      <td>NaN</td>\n      <td>2</td>\n      <td>1800.0</td>\n    </tr>\n  </tbody>\n</table>\n</div>"
     },
     "metadata": {},
     "execution_count": 62
    }
   ],
   "source": [
    "df_new"
   ]
  },
  {
   "cell_type": "code",
   "execution_count": 66,
   "metadata": {},
   "outputs": [
    {
     "output_type": "execute_result",
     "data": {
      "text/plain": [
       "'Y'"
      ]
     },
     "metadata": {},
     "execution_count": 66
    }
   ],
   "source": [
    "mode = df_new['OWN_OCCUPIED'].mode()[0]\n",
    "mode"
   ]
  },
  {
   "cell_type": "code",
   "execution_count": 67,
   "metadata": {},
   "outputs": [],
   "source": [
    "df_new['OWN_OCCUPIED'].fillna(mode,inplace=True)"
   ]
  },
  {
   "cell_type": "code",
   "execution_count": 68,
   "metadata": {},
   "outputs": [
    {
     "output_type": "execute_result",
     "data": {
      "text/plain": [
       "           PID      ST_NUM     ST_NAME OWN_OCCUPIED  NUM_BEDROOMS NUM_BATH  \\\n",
       "0  100001000.0  104.000000      PUTNAM            Y           3.0        1   \n",
       "1  100002000.0  197.000000   LEXINGTON            N           3.0      1.5   \n",
       "2  100003000.0  191.428571   LEXINGTON            N           NaN        1   \n",
       "3  100004000.0  201.000000    BERKELEY            Y           1.0      NaN   \n",
       "4  100005000.0  203.000000    BERKELEY            Y           3.0        2   \n",
       "5  100006000.0  207.000000    BERKELEY            Y           NaN        1   \n",
       "6  100007000.0  191.428571  WASHINGTON            Y           2.0      NaN   \n",
       "7  100008000.0  213.000000     TREMONT            Y           NaN        1   \n",
       "8  100009000.0  215.000000     TREMONT            Y           NaN        2   \n",
       "\n",
       "    SQ_FT  \n",
       "0  1000.0  \n",
       "1     NaN  \n",
       "2   850.0  \n",
       "3   700.0  \n",
       "4  1600.0  \n",
       "5   800.0  \n",
       "6   950.0  \n",
       "7     NaN  \n",
       "8  1800.0  "
      ],
      "text/html": "<div>\n<style scoped>\n    .dataframe tbody tr th:only-of-type {\n        vertical-align: middle;\n    }\n\n    .dataframe tbody tr th {\n        vertical-align: top;\n    }\n\n    .dataframe thead th {\n        text-align: right;\n    }\n</style>\n<table border=\"1\" class=\"dataframe\">\n  <thead>\n    <tr style=\"text-align: right;\">\n      <th></th>\n      <th>PID</th>\n      <th>ST_NUM</th>\n      <th>ST_NAME</th>\n      <th>OWN_OCCUPIED</th>\n      <th>NUM_BEDROOMS</th>\n      <th>NUM_BATH</th>\n      <th>SQ_FT</th>\n    </tr>\n  </thead>\n  <tbody>\n    <tr>\n      <th>0</th>\n      <td>100001000.0</td>\n      <td>104.000000</td>\n      <td>PUTNAM</td>\n      <td>Y</td>\n      <td>3.0</td>\n      <td>1</td>\n      <td>1000.0</td>\n    </tr>\n    <tr>\n      <th>1</th>\n      <td>100002000.0</td>\n      <td>197.000000</td>\n      <td>LEXINGTON</td>\n      <td>N</td>\n      <td>3.0</td>\n      <td>1.5</td>\n      <td>NaN</td>\n    </tr>\n    <tr>\n      <th>2</th>\n      <td>100003000.0</td>\n      <td>191.428571</td>\n      <td>LEXINGTON</td>\n      <td>N</td>\n      <td>NaN</td>\n      <td>1</td>\n      <td>850.0</td>\n    </tr>\n    <tr>\n      <th>3</th>\n      <td>100004000.0</td>\n      <td>201.000000</td>\n      <td>BERKELEY</td>\n      <td>Y</td>\n      <td>1.0</td>\n      <td>NaN</td>\n      <td>700.0</td>\n    </tr>\n    <tr>\n      <th>4</th>\n      <td>100005000.0</td>\n      <td>203.000000</td>\n      <td>BERKELEY</td>\n      <td>Y</td>\n      <td>3.0</td>\n      <td>2</td>\n      <td>1600.0</td>\n    </tr>\n    <tr>\n      <th>5</th>\n      <td>100006000.0</td>\n      <td>207.000000</td>\n      <td>BERKELEY</td>\n      <td>Y</td>\n      <td>NaN</td>\n      <td>1</td>\n      <td>800.0</td>\n    </tr>\n    <tr>\n      <th>6</th>\n      <td>100007000.0</td>\n      <td>191.428571</td>\n      <td>WASHINGTON</td>\n      <td>Y</td>\n      <td>2.0</td>\n      <td>NaN</td>\n      <td>950.0</td>\n    </tr>\n    <tr>\n      <th>7</th>\n      <td>100008000.0</td>\n      <td>213.000000</td>\n      <td>TREMONT</td>\n      <td>Y</td>\n      <td>NaN</td>\n      <td>1</td>\n      <td>NaN</td>\n    </tr>\n    <tr>\n      <th>8</th>\n      <td>100009000.0</td>\n      <td>215.000000</td>\n      <td>TREMONT</td>\n      <td>Y</td>\n      <td>NaN</td>\n      <td>2</td>\n      <td>1800.0</td>\n    </tr>\n  </tbody>\n</table>\n</div>"
     },
     "metadata": {},
     "execution_count": 68
    }
   ],
   "source": [
    "df_new"
   ]
  },
  {
   "cell_type": "code",
   "execution_count": null,
   "metadata": {},
   "outputs": [],
   "source": []
  }
 ]
}