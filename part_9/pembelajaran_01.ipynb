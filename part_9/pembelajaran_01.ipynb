{
 "metadata": {
  "language_info": {
   "codemirror_mode": {
    "name": "ipython",
    "version": 3
   },
   "file_extension": ".py",
   "mimetype": "text/x-python",
   "name": "python",
   "nbconvert_exporter": "python",
   "pygments_lexer": "ipython3",
   "version": "3.8.3-final"
  },
  "orig_nbformat": 2,
  "kernelspec": {
   "name": "python3",
   "display_name": "Python 3",
   "language": "python"
  }
 },
 "nbformat": 4,
 "nbformat_minor": 2,
 "cells": [
  {
   "cell_type": "code",
   "execution_count": 3,
   "metadata": {},
   "outputs": [],
   "source": [
    "import math\n",
    "import statistics\n",
    "import numpy as np \n",
    "import scipy.stats as stats\n",
    "import pandas as pd "
   ]
  },
  {
   "cell_type": "code",
   "execution_count": 5,
   "metadata": {},
   "outputs": [],
   "source": [
    "x = [8.0,1,2.5,4,2.8]\n",
    "x_with_nan = [8.0,1,np.nan,2.5,4,2.8]"
   ]
  },
  {
   "cell_type": "code",
   "execution_count": 6,
   "metadata": {},
   "outputs": [],
   "source": [
    "y,y_with_nan = np.array(x),np.array(x_with_nan)\n",
    "z,z_with_nan = pd.Series(x),pd.Series(x_with_nan)\n"
   ]
  },
  {
   "source": [
    "### Measure of Central Tendency\n",
    "\n",
    "## mean\n",
    "#"
   ],
   "cell_type": "markdown",
   "metadata": {}
  }
 ]
}